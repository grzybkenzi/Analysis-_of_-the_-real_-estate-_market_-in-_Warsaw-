{
 "cells": [
  {
   "cell_type": "code",
   "execution_count": 354,
   "id": "3bb22759",
   "metadata": {},
   "outputs": [],
   "source": [
    "import pandas as pd\n",
    "import numpy as np\n",
    "import matplotlib.pyplot as plt\n",
    "%matplotlib inline\n",
    "import seaborn as sns"
   ]
  },
  {
   "cell_type": "markdown",
   "id": "0db1e54c",
   "metadata": {},
   "source": [
    "# READING CSV FILE"
   ]
  },
  {
   "cell_type": "code",
   "execution_count": 355,
   "id": "3d245f0f",
   "metadata": {},
   "outputs": [
    {
     "data": {
      "text/html": [
       "<div>\n",
       "<style scoped>\n",
       "    .dataframe tbody tr th:only-of-type {\n",
       "        vertical-align: middle;\n",
       "    }\n",
       "\n",
       "    .dataframe tbody tr th {\n",
       "        vertical-align: top;\n",
       "    }\n",
       "\n",
       "    .dataframe thead th {\n",
       "        text-align: right;\n",
       "    }\n",
       "</style>\n",
       "<table border=\"1\" class=\"dataframe\">\n",
       "  <thead>\n",
       "    <tr style=\"text-align: right;\">\n",
       "      <th></th>\n",
       "      <th>Location</th>\n",
       "      <th>Price</th>\n",
       "      <th>Price per m2</th>\n",
       "      <th>Size M2</th>\n",
       "      <th>Rooms</th>\n",
       "    </tr>\n",
       "  </thead>\n",
       "  <tbody>\n",
       "    <tr>\n",
       "      <th>0</th>\n",
       "      <td>Warszawa, Praga-Północ</td>\n",
       "      <td>396 000 zł</td>\n",
       "      <td>13 655 zł/m²</td>\n",
       "      <td>29 m²</td>\n",
       "      <td>2 pokoje</td>\n",
       "    </tr>\n",
       "    <tr>\n",
       "      <th>1</th>\n",
       "      <td>Warszawa, Bemowo, ul. Secemińska</td>\n",
       "      <td>695 000 zł</td>\n",
       "      <td>11 564 zł/m²</td>\n",
       "      <td>60.1 m²</td>\n",
       "      <td>3 pokoje</td>\n",
       "    </tr>\n",
       "    <tr>\n",
       "      <th>2</th>\n",
       "      <td>Warszawa, Wilanów</td>\n",
       "      <td>828 000 zł</td>\n",
       "      <td>15 055 zł/m²</td>\n",
       "      <td>55 m²</td>\n",
       "      <td>2 pokoje</td>\n",
       "    </tr>\n",
       "    <tr>\n",
       "      <th>3</th>\n",
       "      <td>Warszawa, Białołęka</td>\n",
       "      <td>730 000 zł</td>\n",
       "      <td>13 225 zł/m²</td>\n",
       "      <td>55.2 m²</td>\n",
       "      <td>3 pokoje</td>\n",
       "    </tr>\n",
       "    <tr>\n",
       "      <th>4</th>\n",
       "      <td>Warszawa, Śródmieście, ul. Marszałkowska 111a</td>\n",
       "      <td>750 000 zł</td>\n",
       "      <td>19 330 zł/m²</td>\n",
       "      <td>38.8 m²</td>\n",
       "      <td>2 pokoje</td>\n",
       "    </tr>\n",
       "  </tbody>\n",
       "</table>\n",
       "</div>"
      ],
      "text/plain": [
       "                                        Location       Price  Price per m2  \\\n",
       "0                         Warszawa, Praga-Północ  396 000 zł  13 655 zł/m²   \n",
       "1               Warszawa, Bemowo, ul. Secemińska  695 000 zł  11 564 zł/m²   \n",
       "2                              Warszawa, Wilanów  828 000 zł  15 055 zł/m²   \n",
       "3                            Warszawa, Białołęka  730 000 zł  13 225 zł/m²   \n",
       "4  Warszawa, Śródmieście, ul. Marszałkowska 111a  750 000 zł  19 330 zł/m²   \n",
       "\n",
       "   Size M2     Rooms  \n",
       "0    29 m²  2 pokoje  \n",
       "1  60.1 m²  3 pokoje  \n",
       "2    55 m²  2 pokoje  \n",
       "3  55.2 m²  3 pokoje  \n",
       "4  38.8 m²  2 pokoje  "
      ]
     },
     "execution_count": 355,
     "metadata": {},
     "output_type": "execute_result"
    }
   ],
   "source": [
    "data=pd.read_csv(r'/Users/jangrzybek/Documents/warsaw_sep22_otodom.csv')\n",
    "data.head()"
   ]
  },
  {
   "cell_type": "code",
   "execution_count": 356,
   "id": "a5e03584",
   "metadata": {},
   "outputs": [
    {
     "data": {
      "text/plain": [
       "(11250, 5)"
      ]
     },
     "execution_count": 356,
     "metadata": {},
     "output_type": "execute_result"
    }
   ],
   "source": [
    "data.shape"
   ]
  },
  {
   "cell_type": "code",
   "execution_count": 357,
   "id": "21e0e447",
   "metadata": {},
   "outputs": [
    {
     "data": {
      "text/plain": [
       "Location        object\n",
       "Price           object\n",
       "Price per m2    object\n",
       "Size M2         object\n",
       "Rooms           object\n",
       "dtype: object"
      ]
     },
     "execution_count": 357,
     "metadata": {},
     "output_type": "execute_result"
    }
   ],
   "source": [
    "data.dtypes"
   ]
  },
  {
   "cell_type": "markdown",
   "id": "11825733",
   "metadata": {},
   "source": [
    "# RENAMING COLUMNS NAMES"
   ]
  },
  {
   "cell_type": "code",
   "execution_count": 358,
   "id": "b0b0d3b2",
   "metadata": {},
   "outputs": [
    {
     "data": {
      "text/plain": [
       "Index(['location', 'price', 'price_per_sqm', 'size_sqm', 'rooms'], dtype='object')"
      ]
     },
     "execution_count": 358,
     "metadata": {},
     "output_type": "execute_result"
    }
   ],
   "source": [
    "data=data.rename(columns={'Location':'location', 'Price':'price', 'Price per m2':'price_per_sqm', 'Size M2':'size_sqm', 'Rooms':'rooms'})\n",
    "data.columns"
   ]
  },
  {
   "cell_type": "markdown",
   "id": "e361abf3",
   "metadata": {},
   "source": [
    "# LOOKING FOR NAN VALUES "
   ]
  },
  {
   "cell_type": "code",
   "execution_count": 359,
   "id": "be3cfef8",
   "metadata": {
    "scrolled": true
   },
   "outputs": [
    {
     "data": {
      "text/plain": [
       "location         0\n",
       "price            0\n",
       "price_per_sqm    0\n",
       "size_sqm         0\n",
       "rooms            0\n",
       "dtype: int64"
      ]
     },
     "execution_count": 359,
     "metadata": {},
     "output_type": "execute_result"
    }
   ],
   "source": [
    "data.isnull().sum()"
   ]
  },
  {
   "cell_type": "markdown",
   "id": "24d351de",
   "metadata": {},
   "source": [
    "# DATA PREPROCESSING - 'location' COLUMN"
   ]
  },
  {
   "cell_type": "code",
   "execution_count": 360,
   "id": "4a0426a0",
   "metadata": {},
   "outputs": [
    {
     "data": {
      "text/html": [
       "<div>\n",
       "<style scoped>\n",
       "    .dataframe tbody tr th:only-of-type {\n",
       "        vertical-align: middle;\n",
       "    }\n",
       "\n",
       "    .dataframe tbody tr th {\n",
       "        vertical-align: top;\n",
       "    }\n",
       "\n",
       "    .dataframe thead th {\n",
       "        text-align: right;\n",
       "    }\n",
       "</style>\n",
       "<table border=\"1\" class=\"dataframe\">\n",
       "  <thead>\n",
       "    <tr style=\"text-align: right;\">\n",
       "      <th></th>\n",
       "      <th>location</th>\n",
       "      <th>price</th>\n",
       "      <th>price_per_sqm</th>\n",
       "      <th>size_sqm</th>\n",
       "      <th>rooms</th>\n",
       "      <th>district</th>\n",
       "    </tr>\n",
       "  </thead>\n",
       "  <tbody>\n",
       "    <tr>\n",
       "      <th>0</th>\n",
       "      <td>Warszawa, Praga-Północ</td>\n",
       "      <td>396 000 zł</td>\n",
       "      <td>13 655 zł/m²</td>\n",
       "      <td>29 m²</td>\n",
       "      <td>2 pokoje</td>\n",
       "      <td>Praga-Północ</td>\n",
       "    </tr>\n",
       "    <tr>\n",
       "      <th>1</th>\n",
       "      <td>Warszawa, Bemowo, ul. Secemińska</td>\n",
       "      <td>695 000 zł</td>\n",
       "      <td>11 564 zł/m²</td>\n",
       "      <td>60.1 m²</td>\n",
       "      <td>3 pokoje</td>\n",
       "      <td>Bemowo</td>\n",
       "    </tr>\n",
       "    <tr>\n",
       "      <th>2</th>\n",
       "      <td>Warszawa, Wilanów</td>\n",
       "      <td>828 000 zł</td>\n",
       "      <td>15 055 zł/m²</td>\n",
       "      <td>55 m²</td>\n",
       "      <td>2 pokoje</td>\n",
       "      <td>Wilanów</td>\n",
       "    </tr>\n",
       "    <tr>\n",
       "      <th>3</th>\n",
       "      <td>Warszawa, Białołęka</td>\n",
       "      <td>730 000 zł</td>\n",
       "      <td>13 225 zł/m²</td>\n",
       "      <td>55.2 m²</td>\n",
       "      <td>3 pokoje</td>\n",
       "      <td>Białołęka</td>\n",
       "    </tr>\n",
       "    <tr>\n",
       "      <th>4</th>\n",
       "      <td>Warszawa, Śródmieście, ul. Marszałkowska 111a</td>\n",
       "      <td>750 000 zł</td>\n",
       "      <td>19 330 zł/m²</td>\n",
       "      <td>38.8 m²</td>\n",
       "      <td>2 pokoje</td>\n",
       "      <td>Śródmieście</td>\n",
       "    </tr>\n",
       "    <tr>\n",
       "      <th>...</th>\n",
       "      <td>...</td>\n",
       "      <td>...</td>\n",
       "      <td>...</td>\n",
       "      <td>...</td>\n",
       "      <td>...</td>\n",
       "      <td>...</td>\n",
       "    </tr>\n",
       "    <tr>\n",
       "      <th>11245</th>\n",
       "      <td>Warszawa, Ursynów</td>\n",
       "      <td>550 000 zł</td>\n",
       "      <td>11 224 zł/m²</td>\n",
       "      <td>49 m²</td>\n",
       "      <td>2 pokoje</td>\n",
       "      <td>Ursynów</td>\n",
       "    </tr>\n",
       "    <tr>\n",
       "      <th>11246</th>\n",
       "      <td>Warszawa, Ochota, Aleje Jerozolimskie</td>\n",
       "      <td>1 530 000 zł</td>\n",
       "      <td>12 000 zł/m²</td>\n",
       "      <td>127.5 m²</td>\n",
       "      <td>3 pokoje</td>\n",
       "      <td>Ochota</td>\n",
       "    </tr>\n",
       "    <tr>\n",
       "      <th>11247</th>\n",
       "      <td>Warszawa, Śródmieście, Mokotowska</td>\n",
       "      <td>1 230 000 €</td>\n",
       "      <td>10 000 €/m²</td>\n",
       "      <td>123 m²</td>\n",
       "      <td>3 pokoje</td>\n",
       "      <td>Śródmieście</td>\n",
       "    </tr>\n",
       "    <tr>\n",
       "      <th>11248</th>\n",
       "      <td>Warszawa, Śródmieście, Traugutta</td>\n",
       "      <td>1 295 000 zł</td>\n",
       "      <td>17 290 zł/m²</td>\n",
       "      <td>74.9 m²</td>\n",
       "      <td>3 pokoje</td>\n",
       "      <td>Śródmieście</td>\n",
       "    </tr>\n",
       "    <tr>\n",
       "      <th>11249</th>\n",
       "      <td>Warszawa, Praga-Północ</td>\n",
       "      <td>278 000 zł</td>\n",
       "      <td>9115 zł/m²</td>\n",
       "      <td>30.5 m²</td>\n",
       "      <td>1 pokój</td>\n",
       "      <td>Praga-Północ</td>\n",
       "    </tr>\n",
       "  </tbody>\n",
       "</table>\n",
       "<p>11250 rows × 6 columns</p>\n",
       "</div>"
      ],
      "text/plain": [
       "                                            location         price  \\\n",
       "0                             Warszawa, Praga-Północ    396 000 zł   \n",
       "1                   Warszawa, Bemowo, ul. Secemińska    695 000 zł   \n",
       "2                                  Warszawa, Wilanów    828 000 zł   \n",
       "3                                Warszawa, Białołęka    730 000 zł   \n",
       "4      Warszawa, Śródmieście, ul. Marszałkowska 111a    750 000 zł   \n",
       "...                                              ...           ...   \n",
       "11245                              Warszawa, Ursynów    550 000 zł   \n",
       "11246          Warszawa, Ochota, Aleje Jerozolimskie  1 530 000 zł   \n",
       "11247              Warszawa, Śródmieście, Mokotowska   1 230 000 €   \n",
       "11248               Warszawa, Śródmieście, Traugutta  1 295 000 zł   \n",
       "11249                         Warszawa, Praga-Północ    278 000 zł   \n",
       "\n",
       "      price_per_sqm  size_sqm     rooms      district  \n",
       "0      13 655 zł/m²     29 m²  2 pokoje  Praga-Północ  \n",
       "1      11 564 zł/m²   60.1 m²  3 pokoje        Bemowo  \n",
       "2      15 055 zł/m²     55 m²  2 pokoje       Wilanów  \n",
       "3      13 225 zł/m²   55.2 m²  3 pokoje     Białołęka  \n",
       "4      19 330 zł/m²   38.8 m²  2 pokoje   Śródmieście  \n",
       "...             ...       ...       ...           ...  \n",
       "11245  11 224 zł/m²     49 m²  2 pokoje       Ursynów  \n",
       "11246  12 000 zł/m²  127.5 m²  3 pokoje        Ochota  \n",
       "11247   10 000 €/m²    123 m²  3 pokoje   Śródmieście  \n",
       "11248  17 290 zł/m²   74.9 m²  3 pokoje   Śródmieście  \n",
       "11249    9115 zł/m²   30.5 m²   1 pokój  Praga-Północ  \n",
       "\n",
       "[11250 rows x 6 columns]"
      ]
     },
     "execution_count": 360,
     "metadata": {},
     "output_type": "execute_result"
    }
   ],
   "source": [
    "data=data.copy()\n",
    "data['district']=data['location'].str.split().str[1].str.replace(',','')\n",
    "data"
   ]
  },
  {
   "cell_type": "code",
   "execution_count": 361,
   "id": "cbb2a971",
   "metadata": {},
   "outputs": [
    {
     "data": {
      "text/plain": [
       "array(['Praga-Północ', 'Bemowo', 'Wilanów', 'Białołęka', 'Śródmieście',\n",
       "       'Ursynów', 'Mokotów', 'Bielany', 'Wola', 'Ursus', 'Praga-Południe',\n",
       "       'Targówek', 'Ochota', 'Włochy', 'Rembertów', 'Żoliborz', 'Wawer',\n",
       "       'mazowieckie', 'Wesoła', 'Centrum', 'Jana', 'Warszawa', '24a',\n",
       "       'Walki', 'Meriana', '56E', 'Szymczaka', 'Hirszfelda', 'Zagłoby',\n",
       "       'Habicha', 'Dywizjonu', 'Langego', 'Metro', 'Droga', 'Oksza',\n",
       "       'Broniewskiego', 'Prymasa'], dtype=object)"
      ]
     },
     "execution_count": 361,
     "metadata": {},
     "output_type": "execute_result"
    }
   ],
   "source": [
    "data['district'].unique()"
   ]
  },
  {
   "cell_type": "code",
   "execution_count": 362,
   "id": "d163811f",
   "metadata": {},
   "outputs": [
    {
     "data": {
      "text/plain": [
       "37"
      ]
     },
     "execution_count": 362,
     "metadata": {},
     "output_type": "execute_result"
    }
   ],
   "source": [
    "len(data['district'].unique())"
   ]
  },
  {
   "cell_type": "code",
   "execution_count": 363,
   "id": "2a4da962",
   "metadata": {},
   "outputs": [
    {
     "data": {
      "text/plain": [
       "Mokotów           1730\n",
       "Wola              1180\n",
       "Śródmieście       1128\n",
       "Praga-Południe    1080\n",
       "Białołęka          784\n",
       "Ursynów            741\n",
       "Bielany            685\n",
       "Bemowo             594\n",
       "Ochota             579\n",
       "Targówek           523\n",
       "Wilanów            466\n",
       "Żoliborz           398\n",
       "Ursus              391\n",
       "Praga-Północ       296\n",
       "Włochy             254\n",
       "Wawer              166\n",
       "Wesoła              82\n",
       "Rembertów           66\n",
       "mazowieckie         60\n",
       "Centrum             25\n",
       "Warszawa             5\n",
       "Szymczaka            2\n",
       "Dywizjonu            1\n",
       "Prymasa              1\n",
       "Habicha              1\n",
       "Walki                1\n",
       "56E                  1\n",
       "Langego              1\n",
       "Hirszfelda           1\n",
       "Zagłoby              1\n",
       "Droga                1\n",
       "24a                  1\n",
       "Broniewskiego        1\n",
       "Oksza                1\n",
       "Meriana              1\n",
       "Metro                1\n",
       "Jana                 1\n",
       "Name: district, dtype: int64"
      ]
     },
     "execution_count": 363,
     "metadata": {},
     "output_type": "execute_result"
    }
   ],
   "source": [
    "data['district'].value_counts()"
   ]
  },
  {
   "cell_type": "code",
   "execution_count": 364,
   "id": "8c40adad",
   "metadata": {},
   "outputs": [],
   "source": [
    "warsaw_districts=['Mokotów','Praga-Południe','Ursynów','Wola','Białołęka','Bielany','Bemowo','Targówek','Śródmieście','Ochota','Wawer','Praga-Północ','Ursus','Żoliborz','Włochy','Wilanów','Wesoła','Rembertów']\n",
    "\n",
    "data=data.query(\"district in @warsaw_districts\")"
   ]
  },
  {
   "cell_type": "code",
   "execution_count": 365,
   "id": "84e231c6",
   "metadata": {
    "scrolled": true
   },
   "outputs": [
    {
     "data": {
      "text/plain": [
       "18"
      ]
     },
     "execution_count": 365,
     "metadata": {},
     "output_type": "execute_result"
    }
   ],
   "source": [
    "len(data['district'].unique())"
   ]
  },
  {
   "cell_type": "code",
   "execution_count": 366,
   "id": "2112f314",
   "metadata": {},
   "outputs": [
    {
     "data": {
      "text/html": [
       "<div>\n",
       "<style scoped>\n",
       "    .dataframe tbody tr th:only-of-type {\n",
       "        vertical-align: middle;\n",
       "    }\n",
       "\n",
       "    .dataframe tbody tr th {\n",
       "        vertical-align: top;\n",
       "    }\n",
       "\n",
       "    .dataframe thead th {\n",
       "        text-align: right;\n",
       "    }\n",
       "</style>\n",
       "<table border=\"1\" class=\"dataframe\">\n",
       "  <thead>\n",
       "    <tr style=\"text-align: right;\">\n",
       "      <th></th>\n",
       "      <th>price</th>\n",
       "      <th>price_per_sqm</th>\n",
       "      <th>size_sqm</th>\n",
       "      <th>rooms</th>\n",
       "      <th>district</th>\n",
       "    </tr>\n",
       "  </thead>\n",
       "  <tbody>\n",
       "    <tr>\n",
       "      <th>0</th>\n",
       "      <td>396 000 zł</td>\n",
       "      <td>13 655 zł/m²</td>\n",
       "      <td>29 m²</td>\n",
       "      <td>2 pokoje</td>\n",
       "      <td>Praga-Północ</td>\n",
       "    </tr>\n",
       "    <tr>\n",
       "      <th>1</th>\n",
       "      <td>695 000 zł</td>\n",
       "      <td>11 564 zł/m²</td>\n",
       "      <td>60.1 m²</td>\n",
       "      <td>3 pokoje</td>\n",
       "      <td>Bemowo</td>\n",
       "    </tr>\n",
       "    <tr>\n",
       "      <th>2</th>\n",
       "      <td>828 000 zł</td>\n",
       "      <td>15 055 zł/m²</td>\n",
       "      <td>55 m²</td>\n",
       "      <td>2 pokoje</td>\n",
       "      <td>Wilanów</td>\n",
       "    </tr>\n",
       "    <tr>\n",
       "      <th>3</th>\n",
       "      <td>730 000 zł</td>\n",
       "      <td>13 225 zł/m²</td>\n",
       "      <td>55.2 m²</td>\n",
       "      <td>3 pokoje</td>\n",
       "      <td>Białołęka</td>\n",
       "    </tr>\n",
       "    <tr>\n",
       "      <th>4</th>\n",
       "      <td>750 000 zł</td>\n",
       "      <td>19 330 zł/m²</td>\n",
       "      <td>38.8 m²</td>\n",
       "      <td>2 pokoje</td>\n",
       "      <td>Śródmieście</td>\n",
       "    </tr>\n",
       "    <tr>\n",
       "      <th>...</th>\n",
       "      <td>...</td>\n",
       "      <td>...</td>\n",
       "      <td>...</td>\n",
       "      <td>...</td>\n",
       "      <td>...</td>\n",
       "    </tr>\n",
       "    <tr>\n",
       "      <th>11245</th>\n",
       "      <td>550 000 zł</td>\n",
       "      <td>11 224 zł/m²</td>\n",
       "      <td>49 m²</td>\n",
       "      <td>2 pokoje</td>\n",
       "      <td>Ursynów</td>\n",
       "    </tr>\n",
       "    <tr>\n",
       "      <th>11246</th>\n",
       "      <td>1 530 000 zł</td>\n",
       "      <td>12 000 zł/m²</td>\n",
       "      <td>127.5 m²</td>\n",
       "      <td>3 pokoje</td>\n",
       "      <td>Ochota</td>\n",
       "    </tr>\n",
       "    <tr>\n",
       "      <th>11247</th>\n",
       "      <td>1 230 000 €</td>\n",
       "      <td>10 000 €/m²</td>\n",
       "      <td>123 m²</td>\n",
       "      <td>3 pokoje</td>\n",
       "      <td>Śródmieście</td>\n",
       "    </tr>\n",
       "    <tr>\n",
       "      <th>11248</th>\n",
       "      <td>1 295 000 zł</td>\n",
       "      <td>17 290 zł/m²</td>\n",
       "      <td>74.9 m²</td>\n",
       "      <td>3 pokoje</td>\n",
       "      <td>Śródmieście</td>\n",
       "    </tr>\n",
       "    <tr>\n",
       "      <th>11249</th>\n",
       "      <td>278 000 zł</td>\n",
       "      <td>9115 zł/m²</td>\n",
       "      <td>30.5 m²</td>\n",
       "      <td>1 pokój</td>\n",
       "      <td>Praga-Północ</td>\n",
       "    </tr>\n",
       "  </tbody>\n",
       "</table>\n",
       "<p>11143 rows × 5 columns</p>\n",
       "</div>"
      ],
      "text/plain": [
       "              price price_per_sqm  size_sqm     rooms      district\n",
       "0        396 000 zł  13 655 zł/m²     29 m²  2 pokoje  Praga-Północ\n",
       "1        695 000 zł  11 564 zł/m²   60.1 m²  3 pokoje        Bemowo\n",
       "2        828 000 zł  15 055 zł/m²     55 m²  2 pokoje       Wilanów\n",
       "3        730 000 zł  13 225 zł/m²   55.2 m²  3 pokoje     Białołęka\n",
       "4        750 000 zł  19 330 zł/m²   38.8 m²  2 pokoje   Śródmieście\n",
       "...             ...           ...       ...       ...           ...\n",
       "11245    550 000 zł  11 224 zł/m²     49 m²  2 pokoje       Ursynów\n",
       "11246  1 530 000 zł  12 000 zł/m²  127.5 m²  3 pokoje        Ochota\n",
       "11247   1 230 000 €   10 000 €/m²    123 m²  3 pokoje   Śródmieście\n",
       "11248  1 295 000 zł  17 290 zł/m²   74.9 m²  3 pokoje   Śródmieście\n",
       "11249    278 000 zł    9115 zł/m²   30.5 m²   1 pokój  Praga-Północ\n",
       "\n",
       "[11143 rows x 5 columns]"
      ]
     },
     "execution_count": 366,
     "metadata": {},
     "output_type": "execute_result"
    }
   ],
   "source": [
    "data=data.drop('location', axis=1)\n",
    "data"
   ]
  },
  {
   "cell_type": "markdown",
   "id": "4fab5017",
   "metadata": {},
   "source": [
    "# DATA PREPROCESSING - 'rooms' COLUMN"
   ]
  },
  {
   "cell_type": "code",
   "execution_count": 367,
   "id": "e7c0ab00",
   "metadata": {},
   "outputs": [
    {
     "data": {
      "text/plain": [
       "2      4326\n",
       "3      4149\n",
       "4      1200\n",
       "1      1031\n",
       "5       322\n",
       "6        75\n",
       "7        30\n",
       "8         5\n",
       "10        3\n",
       "10+       2\n",
       "Name: rooms, dtype: int64"
      ]
     },
     "execution_count": 367,
     "metadata": {},
     "output_type": "execute_result"
    }
   ],
   "source": [
    "data['rooms']=data['rooms'].str.split().str[0]\n",
    "data['rooms'].value_counts()"
   ]
  },
  {
   "cell_type": "code",
   "execution_count": 368,
   "id": "0d754a14",
   "metadata": {},
   "outputs": [
    {
     "data": {
      "text/html": [
       "<div>\n",
       "<style scoped>\n",
       "    .dataframe tbody tr th:only-of-type {\n",
       "        vertical-align: middle;\n",
       "    }\n",
       "\n",
       "    .dataframe tbody tr th {\n",
       "        vertical-align: top;\n",
       "    }\n",
       "\n",
       "    .dataframe thead th {\n",
       "        text-align: right;\n",
       "    }\n",
       "</style>\n",
       "<table border=\"1\" class=\"dataframe\">\n",
       "  <thead>\n",
       "    <tr style=\"text-align: right;\">\n",
       "      <th></th>\n",
       "      <th>price</th>\n",
       "      <th>price_per_sqm</th>\n",
       "      <th>size_sqm</th>\n",
       "      <th>rooms</th>\n",
       "      <th>district</th>\n",
       "    </tr>\n",
       "  </thead>\n",
       "  <tbody>\n",
       "    <tr>\n",
       "      <th>0</th>\n",
       "      <td>396 000 zł</td>\n",
       "      <td>13 655 zł/m²</td>\n",
       "      <td>29 m²</td>\n",
       "      <td>2</td>\n",
       "      <td>Praga-Północ</td>\n",
       "    </tr>\n",
       "    <tr>\n",
       "      <th>1</th>\n",
       "      <td>695 000 zł</td>\n",
       "      <td>11 564 zł/m²</td>\n",
       "      <td>60.1 m²</td>\n",
       "      <td>3</td>\n",
       "      <td>Bemowo</td>\n",
       "    </tr>\n",
       "    <tr>\n",
       "      <th>2</th>\n",
       "      <td>828 000 zł</td>\n",
       "      <td>15 055 zł/m²</td>\n",
       "      <td>55 m²</td>\n",
       "      <td>2</td>\n",
       "      <td>Wilanów</td>\n",
       "    </tr>\n",
       "    <tr>\n",
       "      <th>3</th>\n",
       "      <td>730 000 zł</td>\n",
       "      <td>13 225 zł/m²</td>\n",
       "      <td>55.2 m²</td>\n",
       "      <td>3</td>\n",
       "      <td>Białołęka</td>\n",
       "    </tr>\n",
       "    <tr>\n",
       "      <th>4</th>\n",
       "      <td>750 000 zł</td>\n",
       "      <td>19 330 zł/m²</td>\n",
       "      <td>38.8 m²</td>\n",
       "      <td>2</td>\n",
       "      <td>Śródmieście</td>\n",
       "    </tr>\n",
       "    <tr>\n",
       "      <th>...</th>\n",
       "      <td>...</td>\n",
       "      <td>...</td>\n",
       "      <td>...</td>\n",
       "      <td>...</td>\n",
       "      <td>...</td>\n",
       "    </tr>\n",
       "    <tr>\n",
       "      <th>11245</th>\n",
       "      <td>550 000 zł</td>\n",
       "      <td>11 224 zł/m²</td>\n",
       "      <td>49 m²</td>\n",
       "      <td>2</td>\n",
       "      <td>Ursynów</td>\n",
       "    </tr>\n",
       "    <tr>\n",
       "      <th>11246</th>\n",
       "      <td>1 530 000 zł</td>\n",
       "      <td>12 000 zł/m²</td>\n",
       "      <td>127.5 m²</td>\n",
       "      <td>3</td>\n",
       "      <td>Ochota</td>\n",
       "    </tr>\n",
       "    <tr>\n",
       "      <th>11247</th>\n",
       "      <td>1 230 000 €</td>\n",
       "      <td>10 000 €/m²</td>\n",
       "      <td>123 m²</td>\n",
       "      <td>3</td>\n",
       "      <td>Śródmieście</td>\n",
       "    </tr>\n",
       "    <tr>\n",
       "      <th>11248</th>\n",
       "      <td>1 295 000 zł</td>\n",
       "      <td>17 290 zł/m²</td>\n",
       "      <td>74.9 m²</td>\n",
       "      <td>3</td>\n",
       "      <td>Śródmieście</td>\n",
       "    </tr>\n",
       "    <tr>\n",
       "      <th>11249</th>\n",
       "      <td>278 000 zł</td>\n",
       "      <td>9115 zł/m²</td>\n",
       "      <td>30.5 m²</td>\n",
       "      <td>1</td>\n",
       "      <td>Praga-Północ</td>\n",
       "    </tr>\n",
       "  </tbody>\n",
       "</table>\n",
       "<p>11141 rows × 5 columns</p>\n",
       "</div>"
      ],
      "text/plain": [
       "              price price_per_sqm  size_sqm rooms      district\n",
       "0        396 000 zł  13 655 zł/m²     29 m²     2  Praga-Północ\n",
       "1        695 000 zł  11 564 zł/m²   60.1 m²     3        Bemowo\n",
       "2        828 000 zł  15 055 zł/m²     55 m²     2       Wilanów\n",
       "3        730 000 zł  13 225 zł/m²   55.2 m²     3     Białołęka\n",
       "4        750 000 zł  19 330 zł/m²   38.8 m²     2   Śródmieście\n",
       "...             ...           ...       ...   ...           ...\n",
       "11245    550 000 zł  11 224 zł/m²     49 m²     2       Ursynów\n",
       "11246  1 530 000 zł  12 000 zł/m²  127.5 m²     3        Ochota\n",
       "11247   1 230 000 €   10 000 €/m²    123 m²     3   Śródmieście\n",
       "11248  1 295 000 zł  17 290 zł/m²   74.9 m²     3   Śródmieście\n",
       "11249    278 000 zł    9115 zł/m²   30.5 m²     1  Praga-Północ\n",
       "\n",
       "[11141 rows x 5 columns]"
      ]
     },
     "execution_count": 368,
     "metadata": {},
     "output_type": "execute_result"
    }
   ],
   "source": [
    "data=data[data['rooms'] != '10+']\n",
    "data"
   ]
  },
  {
   "cell_type": "code",
   "execution_count": 369,
   "id": "fa25c6fc",
   "metadata": {
    "scrolled": true
   },
   "outputs": [],
   "source": [
    "data=data.copy()\n",
    "data['rooms']=data['rooms'].astype(int)"
   ]
  },
  {
   "cell_type": "markdown",
   "id": "fa43148f",
   "metadata": {},
   "source": [
    "# DATA PREPROCESSING - 'size_sqm' COLUMN"
   ]
  },
  {
   "cell_type": "code",
   "execution_count": 370,
   "id": "e01533b7",
   "metadata": {},
   "outputs": [],
   "source": [
    "data=data.copy()\n",
    "data['size_sqm']=data['size_sqm'].str.replace('m²','').astype(float).round().astype(int)"
   ]
  },
  {
   "cell_type": "code",
   "execution_count": 371,
   "id": "a003c095",
   "metadata": {},
   "outputs": [
    {
     "data": {
      "text/plain": [
       "price            object\n",
       "price_per_sqm    object\n",
       "size_sqm          int64\n",
       "rooms             int64\n",
       "district         object\n",
       "dtype: object"
      ]
     },
     "execution_count": 371,
     "metadata": {},
     "output_type": "execute_result"
    }
   ],
   "source": [
    "data.dtypes"
   ]
  },
  {
   "cell_type": "markdown",
   "id": "30b3dc1c",
   "metadata": {},
   "source": [
    "# DATA PREPROCESSING - 'price' and 'price_per_sqm' COLUMN"
   ]
  },
  {
   "cell_type": "code",
   "execution_count": 372,
   "id": "e58196c9",
   "metadata": {},
   "outputs": [
    {
     "data": {
      "text/html": [
       "<div>\n",
       "<style scoped>\n",
       "    .dataframe tbody tr th:only-of-type {\n",
       "        vertical-align: middle;\n",
       "    }\n",
       "\n",
       "    .dataframe tbody tr th {\n",
       "        vertical-align: top;\n",
       "    }\n",
       "\n",
       "    .dataframe thead th {\n",
       "        text-align: right;\n",
       "    }\n",
       "</style>\n",
       "<table border=\"1\" class=\"dataframe\">\n",
       "  <thead>\n",
       "    <tr style=\"text-align: right;\">\n",
       "      <th></th>\n",
       "      <th>price</th>\n",
       "      <th>price_per_sqm</th>\n",
       "      <th>size_sqm</th>\n",
       "      <th>rooms</th>\n",
       "      <th>district</th>\n",
       "    </tr>\n",
       "  </thead>\n",
       "  <tbody>\n",
       "    <tr>\n",
       "      <th>0</th>\n",
       "      <td>396000zł</td>\n",
       "      <td>13 655 zł/m²</td>\n",
       "      <td>29</td>\n",
       "      <td>2</td>\n",
       "      <td>Praga-Północ</td>\n",
       "    </tr>\n",
       "    <tr>\n",
       "      <th>1</th>\n",
       "      <td>695000zł</td>\n",
       "      <td>11 564 zł/m²</td>\n",
       "      <td>60</td>\n",
       "      <td>3</td>\n",
       "      <td>Bemowo</td>\n",
       "    </tr>\n",
       "    <tr>\n",
       "      <th>2</th>\n",
       "      <td>828000zł</td>\n",
       "      <td>15 055 zł/m²</td>\n",
       "      <td>55</td>\n",
       "      <td>2</td>\n",
       "      <td>Wilanów</td>\n",
       "    </tr>\n",
       "    <tr>\n",
       "      <th>3</th>\n",
       "      <td>730000zł</td>\n",
       "      <td>13 225 zł/m²</td>\n",
       "      <td>55</td>\n",
       "      <td>3</td>\n",
       "      <td>Białołęka</td>\n",
       "    </tr>\n",
       "    <tr>\n",
       "      <th>4</th>\n",
       "      <td>750000zł</td>\n",
       "      <td>19 330 zł/m²</td>\n",
       "      <td>39</td>\n",
       "      <td>2</td>\n",
       "      <td>Śródmieście</td>\n",
       "    </tr>\n",
       "    <tr>\n",
       "      <th>...</th>\n",
       "      <td>...</td>\n",
       "      <td>...</td>\n",
       "      <td>...</td>\n",
       "      <td>...</td>\n",
       "      <td>...</td>\n",
       "    </tr>\n",
       "    <tr>\n",
       "      <th>11245</th>\n",
       "      <td>550000zł</td>\n",
       "      <td>11 224 zł/m²</td>\n",
       "      <td>49</td>\n",
       "      <td>2</td>\n",
       "      <td>Ursynów</td>\n",
       "    </tr>\n",
       "    <tr>\n",
       "      <th>11246</th>\n",
       "      <td>1530000zł</td>\n",
       "      <td>12 000 zł/m²</td>\n",
       "      <td>128</td>\n",
       "      <td>3</td>\n",
       "      <td>Ochota</td>\n",
       "    </tr>\n",
       "    <tr>\n",
       "      <th>11247</th>\n",
       "      <td>1230000€</td>\n",
       "      <td>10 000 €/m²</td>\n",
       "      <td>123</td>\n",
       "      <td>3</td>\n",
       "      <td>Śródmieście</td>\n",
       "    </tr>\n",
       "    <tr>\n",
       "      <th>11248</th>\n",
       "      <td>1295000zł</td>\n",
       "      <td>17 290 zł/m²</td>\n",
       "      <td>75</td>\n",
       "      <td>3</td>\n",
       "      <td>Śródmieście</td>\n",
       "    </tr>\n",
       "    <tr>\n",
       "      <th>11249</th>\n",
       "      <td>278000zł</td>\n",
       "      <td>9115 zł/m²</td>\n",
       "      <td>30</td>\n",
       "      <td>1</td>\n",
       "      <td>Praga-Północ</td>\n",
       "    </tr>\n",
       "  </tbody>\n",
       "</table>\n",
       "<p>11141 rows × 5 columns</p>\n",
       "</div>"
      ],
      "text/plain": [
       "           price price_per_sqm  size_sqm  rooms      district\n",
       "0       396000zł  13 655 zł/m²        29      2  Praga-Północ\n",
       "1       695000zł  11 564 zł/m²        60      3        Bemowo\n",
       "2       828000zł  15 055 zł/m²        55      2       Wilanów\n",
       "3       730000zł  13 225 zł/m²        55      3     Białołęka\n",
       "4       750000zł  19 330 zł/m²        39      2   Śródmieście\n",
       "...          ...           ...       ...    ...           ...\n",
       "11245   550000zł  11 224 zł/m²        49      2       Ursynów\n",
       "11246  1530000zł  12 000 zł/m²       128      3        Ochota\n",
       "11247   1230000€   10 000 €/m²       123      3   Śródmieście\n",
       "11248  1295000zł  17 290 zł/m²        75      3   Śródmieście\n",
       "11249   278000zł    9115 zł/m²        30      1  Praga-Północ\n",
       "\n",
       "[11141 rows x 5 columns]"
      ]
     },
     "execution_count": 372,
     "metadata": {},
     "output_type": "execute_result"
    }
   ],
   "source": [
    "data['price']=data['price'].str.replace(' ','')\n",
    "data"
   ]
  },
  {
   "cell_type": "code",
   "execution_count": 373,
   "id": "d8c97d11",
   "metadata": {},
   "outputs": [],
   "source": [
    "import re\n",
    "\n",
    "def reg_ex (price):\n",
    "    return bool(re.search('€', price))    "
   ]
  },
  {
   "cell_type": "code",
   "execution_count": 374,
   "id": "183cecc9",
   "metadata": {},
   "outputs": [
    {
     "data": {
      "text/html": [
       "<div>\n",
       "<style scoped>\n",
       "    .dataframe tbody tr th:only-of-type {\n",
       "        vertical-align: middle;\n",
       "    }\n",
       "\n",
       "    .dataframe tbody tr th {\n",
       "        vertical-align: top;\n",
       "    }\n",
       "\n",
       "    .dataframe thead th {\n",
       "        text-align: right;\n",
       "    }\n",
       "</style>\n",
       "<table border=\"1\" class=\"dataframe\">\n",
       "  <thead>\n",
       "    <tr style=\"text-align: right;\">\n",
       "      <th></th>\n",
       "      <th>price</th>\n",
       "      <th>price_per_sqm</th>\n",
       "      <th>size_sqm</th>\n",
       "      <th>rooms</th>\n",
       "      <th>district</th>\n",
       "    </tr>\n",
       "  </thead>\n",
       "  <tbody>\n",
       "    <tr>\n",
       "      <th>500</th>\n",
       "      <td>1884000€</td>\n",
       "      <td>8589,01 €/m²</td>\n",
       "      <td>219</td>\n",
       "      <td>6</td>\n",
       "      <td>Śródmieście</td>\n",
       "    </tr>\n",
       "    <tr>\n",
       "      <th>743</th>\n",
       "      <td>1100000€</td>\n",
       "      <td>11 827,96 €/m²</td>\n",
       "      <td>93</td>\n",
       "      <td>2</td>\n",
       "      <td>Śródmieście</td>\n",
       "    </tr>\n",
       "    <tr>\n",
       "      <th>2867</th>\n",
       "      <td>990000€</td>\n",
       "      <td>15 639,81 €/m²</td>\n",
       "      <td>63</td>\n",
       "      <td>2</td>\n",
       "      <td>Śródmieście</td>\n",
       "    </tr>\n",
       "    <tr>\n",
       "      <th>2868</th>\n",
       "      <td>1100000€</td>\n",
       "      <td>11 827,96 €/m²</td>\n",
       "      <td>93</td>\n",
       "      <td>2</td>\n",
       "      <td>Śródmieście</td>\n",
       "    </tr>\n",
       "    <tr>\n",
       "      <th>3460</th>\n",
       "      <td>240000€</td>\n",
       "      <td>4807,69 €/m²</td>\n",
       "      <td>50</td>\n",
       "      <td>2</td>\n",
       "      <td>Żoliborz</td>\n",
       "    </tr>\n",
       "    <tr>\n",
       "      <th>5120</th>\n",
       "      <td>3000000€</td>\n",
       "      <td>12 658,23 €/m²</td>\n",
       "      <td>237</td>\n",
       "      <td>5</td>\n",
       "      <td>Śródmieście</td>\n",
       "    </tr>\n",
       "    <tr>\n",
       "      <th>6356</th>\n",
       "      <td>4000000€</td>\n",
       "      <td>17 699,12 €/m²</td>\n",
       "      <td>226</td>\n",
       "      <td>3</td>\n",
       "      <td>Mokotów</td>\n",
       "    </tr>\n",
       "    <tr>\n",
       "      <th>7386</th>\n",
       "      <td>590000€</td>\n",
       "      <td>5339,37 €/m²</td>\n",
       "      <td>110</td>\n",
       "      <td>3</td>\n",
       "      <td>Mokotów</td>\n",
       "    </tr>\n",
       "    <tr>\n",
       "      <th>9546</th>\n",
       "      <td>1900000€</td>\n",
       "      <td>5177,11 €/m²</td>\n",
       "      <td>367</td>\n",
       "      <td>4</td>\n",
       "      <td>Śródmieście</td>\n",
       "    </tr>\n",
       "    <tr>\n",
       "      <th>10765</th>\n",
       "      <td>210000€</td>\n",
       "      <td>2896,15 €/m²</td>\n",
       "      <td>73</td>\n",
       "      <td>3</td>\n",
       "      <td>Targówek</td>\n",
       "    </tr>\n",
       "    <tr>\n",
       "      <th>11086</th>\n",
       "      <td>200000€</td>\n",
       "      <td>2739,73 €/m²</td>\n",
       "      <td>73</td>\n",
       "      <td>2</td>\n",
       "      <td>Mokotów</td>\n",
       "    </tr>\n",
       "    <tr>\n",
       "      <th>11188</th>\n",
       "      <td>200000€</td>\n",
       "      <td>3076,92 €/m²</td>\n",
       "      <td>65</td>\n",
       "      <td>2</td>\n",
       "      <td>Mokotów</td>\n",
       "    </tr>\n",
       "    <tr>\n",
       "      <th>11247</th>\n",
       "      <td>1230000€</td>\n",
       "      <td>10 000 €/m²</td>\n",
       "      <td>123</td>\n",
       "      <td>3</td>\n",
       "      <td>Śródmieście</td>\n",
       "    </tr>\n",
       "  </tbody>\n",
       "</table>\n",
       "</div>"
      ],
      "text/plain": [
       "          price   price_per_sqm  size_sqm  rooms     district\n",
       "500    1884000€    8589,01 €/m²       219      6  Śródmieście\n",
       "743    1100000€  11 827,96 €/m²        93      2  Śródmieście\n",
       "2867    990000€  15 639,81 €/m²        63      2  Śródmieście\n",
       "2868   1100000€  11 827,96 €/m²        93      2  Śródmieście\n",
       "3460    240000€    4807,69 €/m²        50      2     Żoliborz\n",
       "5120   3000000€  12 658,23 €/m²       237      5  Śródmieście\n",
       "6356   4000000€  17 699,12 €/m²       226      3      Mokotów\n",
       "7386    590000€    5339,37 €/m²       110      3      Mokotów\n",
       "9546   1900000€    5177,11 €/m²       367      4  Śródmieście\n",
       "10765   210000€    2896,15 €/m²        73      3     Targówek\n",
       "11086   200000€    2739,73 €/m²        73      2      Mokotów\n",
       "11188   200000€    3076,92 €/m²        65      2      Mokotów\n",
       "11247  1230000€     10 000 €/m²       123      3  Śródmieście"
      ]
     },
     "execution_count": 374,
     "metadata": {},
     "output_type": "execute_result"
    }
   ],
   "source": [
    "data_set_price_euro=data[data[\"price\"].apply(reg_ex)]\n",
    "data_set_price_euro"
   ]
  },
  {
   "cell_type": "code",
   "execution_count": 375,
   "id": "00eca259",
   "metadata": {},
   "outputs": [
    {
     "data": {
      "text/plain": [
       "(13, 5)"
      ]
     },
     "execution_count": 375,
     "metadata": {},
     "output_type": "execute_result"
    }
   ],
   "source": [
    "data_set_price_euro.shape"
   ]
  },
  {
   "cell_type": "code",
   "execution_count": 376,
   "id": "0753cb48",
   "metadata": {},
   "outputs": [
    {
     "data": {
      "text/html": [
       "<div>\n",
       "<style scoped>\n",
       "    .dataframe tbody tr th:only-of-type {\n",
       "        vertical-align: middle;\n",
       "    }\n",
       "\n",
       "    .dataframe tbody tr th {\n",
       "        vertical-align: top;\n",
       "    }\n",
       "\n",
       "    .dataframe thead th {\n",
       "        text-align: right;\n",
       "    }\n",
       "</style>\n",
       "<table border=\"1\" class=\"dataframe\">\n",
       "  <thead>\n",
       "    <tr style=\"text-align: right;\">\n",
       "      <th></th>\n",
       "      <th>price</th>\n",
       "      <th>price_per_sqm</th>\n",
       "      <th>size_sqm</th>\n",
       "      <th>rooms</th>\n",
       "      <th>district</th>\n",
       "    </tr>\n",
       "  </thead>\n",
       "  <tbody>\n",
       "    <tr>\n",
       "      <th>500</th>\n",
       "      <td>9118560</td>\n",
       "      <td>41571</td>\n",
       "      <td>219</td>\n",
       "      <td>6</td>\n",
       "      <td>Śródmieście</td>\n",
       "    </tr>\n",
       "    <tr>\n",
       "      <th>743</th>\n",
       "      <td>5324000</td>\n",
       "      <td>57247</td>\n",
       "      <td>93</td>\n",
       "      <td>2</td>\n",
       "      <td>Śródmieście</td>\n",
       "    </tr>\n",
       "    <tr>\n",
       "      <th>2867</th>\n",
       "      <td>4791600</td>\n",
       "      <td>75697</td>\n",
       "      <td>63</td>\n",
       "      <td>2</td>\n",
       "      <td>Śródmieście</td>\n",
       "    </tr>\n",
       "    <tr>\n",
       "      <th>2868</th>\n",
       "      <td>5324000</td>\n",
       "      <td>57247</td>\n",
       "      <td>93</td>\n",
       "      <td>2</td>\n",
       "      <td>Śródmieście</td>\n",
       "    </tr>\n",
       "    <tr>\n",
       "      <th>3460</th>\n",
       "      <td>1161600</td>\n",
       "      <td>23269</td>\n",
       "      <td>50</td>\n",
       "      <td>2</td>\n",
       "      <td>Żoliborz</td>\n",
       "    </tr>\n",
       "    <tr>\n",
       "      <th>5120</th>\n",
       "      <td>14520000</td>\n",
       "      <td>61266</td>\n",
       "      <td>237</td>\n",
       "      <td>5</td>\n",
       "      <td>Śródmieście</td>\n",
       "    </tr>\n",
       "    <tr>\n",
       "      <th>6356</th>\n",
       "      <td>19360000</td>\n",
       "      <td>85664</td>\n",
       "      <td>226</td>\n",
       "      <td>3</td>\n",
       "      <td>Mokotów</td>\n",
       "    </tr>\n",
       "    <tr>\n",
       "      <th>7386</th>\n",
       "      <td>2855600</td>\n",
       "      <td>25843</td>\n",
       "      <td>110</td>\n",
       "      <td>3</td>\n",
       "      <td>Mokotów</td>\n",
       "    </tr>\n",
       "    <tr>\n",
       "      <th>9546</th>\n",
       "      <td>9196000</td>\n",
       "      <td>25057</td>\n",
       "      <td>367</td>\n",
       "      <td>4</td>\n",
       "      <td>Śródmieście</td>\n",
       "    </tr>\n",
       "    <tr>\n",
       "      <th>10765</th>\n",
       "      <td>1016400</td>\n",
       "      <td>14017</td>\n",
       "      <td>73</td>\n",
       "      <td>3</td>\n",
       "      <td>Targówek</td>\n",
       "    </tr>\n",
       "    <tr>\n",
       "      <th>11086</th>\n",
       "      <td>968000</td>\n",
       "      <td>13260</td>\n",
       "      <td>73</td>\n",
       "      <td>2</td>\n",
       "      <td>Mokotów</td>\n",
       "    </tr>\n",
       "    <tr>\n",
       "      <th>11188</th>\n",
       "      <td>968000</td>\n",
       "      <td>14892</td>\n",
       "      <td>65</td>\n",
       "      <td>2</td>\n",
       "      <td>Mokotów</td>\n",
       "    </tr>\n",
       "    <tr>\n",
       "      <th>11247</th>\n",
       "      <td>5953200</td>\n",
       "      <td>48400</td>\n",
       "      <td>123</td>\n",
       "      <td>3</td>\n",
       "      <td>Śródmieście</td>\n",
       "    </tr>\n",
       "  </tbody>\n",
       "</table>\n",
       "</div>"
      ],
      "text/plain": [
       "          price  price_per_sqm  size_sqm  rooms     district\n",
       "500     9118560          41571       219      6  Śródmieście\n",
       "743     5324000          57247        93      2  Śródmieście\n",
       "2867    4791600          75697        63      2  Śródmieście\n",
       "2868    5324000          57247        93      2  Śródmieście\n",
       "3460    1161600          23269        50      2     Żoliborz\n",
       "5120   14520000          61266       237      5  Śródmieście\n",
       "6356   19360000          85664       226      3      Mokotów\n",
       "7386    2855600          25843       110      3      Mokotów\n",
       "9546    9196000          25057       367      4  Śródmieście\n",
       "10765   1016400          14017        73      3     Targówek\n",
       "11086    968000          13260        73      2      Mokotów\n",
       "11188    968000          14892        65      2      Mokotów\n",
       "11247   5953200          48400       123      3  Śródmieście"
      ]
     },
     "execution_count": 376,
     "metadata": {},
     "output_type": "execute_result"
    }
   ],
   "source": [
    "data_set_price_euro=data_set_price_euro.copy()\n",
    "\n",
    "data_set_price_euro['price']=data_set_price_euro['price'].str.replace('€','')\n",
    "data_set_price_euro['price']=data_set_price_euro['price'].astype(float) * 4.84\n",
    "data_set_price_euro['price']=data_set_price_euro['price'].round().astype(int)\n",
    "\n",
    "data_set_price_euro['price_per_sqm']=data_set_price_euro['price_per_sqm'].str.replace('€/m²','').str.replace(' ','').str.replace(',','.')\n",
    "data_set_price_euro['price_per_sqm']=data_set_price_euro['price_per_sqm'].astype(float) * 4.84\n",
    "data_set_price_euro['price_per_sqm']=data_set_price_euro['price_per_sqm'].round().astype(int)\n",
    "\n",
    "data_set_price_euro"
   ]
  },
  {
   "cell_type": "code",
   "execution_count": 377,
   "id": "729d0b5d",
   "metadata": {},
   "outputs": [
    {
     "data": {
      "text/html": [
       "<div>\n",
       "<style scoped>\n",
       "    .dataframe tbody tr th:only-of-type {\n",
       "        vertical-align: middle;\n",
       "    }\n",
       "\n",
       "    .dataframe tbody tr th {\n",
       "        vertical-align: top;\n",
       "    }\n",
       "\n",
       "    .dataframe thead th {\n",
       "        text-align: right;\n",
       "    }\n",
       "</style>\n",
       "<table border=\"1\" class=\"dataframe\">\n",
       "  <thead>\n",
       "    <tr style=\"text-align: right;\">\n",
       "      <th></th>\n",
       "      <th>price</th>\n",
       "      <th>price_per_sqm</th>\n",
       "      <th>size_sqm</th>\n",
       "      <th>rooms</th>\n",
       "      <th>district</th>\n",
       "    </tr>\n",
       "  </thead>\n",
       "  <tbody>\n",
       "    <tr>\n",
       "      <th>0</th>\n",
       "      <td>396000zł</td>\n",
       "      <td>13 655 zł/m²</td>\n",
       "      <td>29</td>\n",
       "      <td>2</td>\n",
       "      <td>Praga-Północ</td>\n",
       "    </tr>\n",
       "    <tr>\n",
       "      <th>1</th>\n",
       "      <td>695000zł</td>\n",
       "      <td>11 564 zł/m²</td>\n",
       "      <td>60</td>\n",
       "      <td>3</td>\n",
       "      <td>Bemowo</td>\n",
       "    </tr>\n",
       "    <tr>\n",
       "      <th>2</th>\n",
       "      <td>828000zł</td>\n",
       "      <td>15 055 zł/m²</td>\n",
       "      <td>55</td>\n",
       "      <td>2</td>\n",
       "      <td>Wilanów</td>\n",
       "    </tr>\n",
       "    <tr>\n",
       "      <th>3</th>\n",
       "      <td>730000zł</td>\n",
       "      <td>13 225 zł/m²</td>\n",
       "      <td>55</td>\n",
       "      <td>3</td>\n",
       "      <td>Białołęka</td>\n",
       "    </tr>\n",
       "    <tr>\n",
       "      <th>4</th>\n",
       "      <td>750000zł</td>\n",
       "      <td>19 330 zł/m²</td>\n",
       "      <td>39</td>\n",
       "      <td>2</td>\n",
       "      <td>Śródmieście</td>\n",
       "    </tr>\n",
       "    <tr>\n",
       "      <th>...</th>\n",
       "      <td>...</td>\n",
       "      <td>...</td>\n",
       "      <td>...</td>\n",
       "      <td>...</td>\n",
       "      <td>...</td>\n",
       "    </tr>\n",
       "    <tr>\n",
       "      <th>11244</th>\n",
       "      <td>1207080zł</td>\n",
       "      <td>18 000 zł/m²</td>\n",
       "      <td>67</td>\n",
       "      <td>3</td>\n",
       "      <td>Mokotów</td>\n",
       "    </tr>\n",
       "    <tr>\n",
       "      <th>11245</th>\n",
       "      <td>550000zł</td>\n",
       "      <td>11 224 zł/m²</td>\n",
       "      <td>49</td>\n",
       "      <td>2</td>\n",
       "      <td>Ursynów</td>\n",
       "    </tr>\n",
       "    <tr>\n",
       "      <th>11246</th>\n",
       "      <td>1530000zł</td>\n",
       "      <td>12 000 zł/m²</td>\n",
       "      <td>128</td>\n",
       "      <td>3</td>\n",
       "      <td>Ochota</td>\n",
       "    </tr>\n",
       "    <tr>\n",
       "      <th>11248</th>\n",
       "      <td>1295000zł</td>\n",
       "      <td>17 290 zł/m²</td>\n",
       "      <td>75</td>\n",
       "      <td>3</td>\n",
       "      <td>Śródmieście</td>\n",
       "    </tr>\n",
       "    <tr>\n",
       "      <th>11249</th>\n",
       "      <td>278000zł</td>\n",
       "      <td>9115 zł/m²</td>\n",
       "      <td>30</td>\n",
       "      <td>1</td>\n",
       "      <td>Praga-Północ</td>\n",
       "    </tr>\n",
       "  </tbody>\n",
       "</table>\n",
       "<p>11128 rows × 5 columns</p>\n",
       "</div>"
      ],
      "text/plain": [
       "           price price_per_sqm  size_sqm  rooms      district\n",
       "0       396000zł  13 655 zł/m²        29      2  Praga-Północ\n",
       "1       695000zł  11 564 zł/m²        60      3        Bemowo\n",
       "2       828000zł  15 055 zł/m²        55      2       Wilanów\n",
       "3       730000zł  13 225 zł/m²        55      3     Białołęka\n",
       "4       750000zł  19 330 zł/m²        39      2   Śródmieście\n",
       "...          ...           ...       ...    ...           ...\n",
       "11244  1207080zł  18 000 zł/m²        67      3       Mokotów\n",
       "11245   550000zł  11 224 zł/m²        49      2       Ursynów\n",
       "11246  1530000zł  12 000 zł/m²       128      3        Ochota\n",
       "11248  1295000zł  17 290 zł/m²        75      3   Śródmieście\n",
       "11249   278000zł    9115 zł/m²        30      1  Praga-Północ\n",
       "\n",
       "[11128 rows x 5 columns]"
      ]
     },
     "execution_count": 377,
     "metadata": {},
     "output_type": "execute_result"
    }
   ],
   "source": [
    "data_set_price_pln=data[~data[\"price\"].apply(reg_ex)]\n",
    "data_set_price_pln"
   ]
  },
  {
   "cell_type": "code",
   "execution_count": 378,
   "id": "705426ce",
   "metadata": {},
   "outputs": [
    {
     "data": {
      "text/plain": [
       "(11128, 5)"
      ]
     },
     "execution_count": 378,
     "metadata": {},
     "output_type": "execute_result"
    }
   ],
   "source": [
    "data_set_price_pln.shape"
   ]
  },
  {
   "cell_type": "code",
   "execution_count": 379,
   "id": "5750bdab",
   "metadata": {},
   "outputs": [
    {
     "data": {
      "text/html": [
       "<div>\n",
       "<style scoped>\n",
       "    .dataframe tbody tr th:only-of-type {\n",
       "        vertical-align: middle;\n",
       "    }\n",
       "\n",
       "    .dataframe tbody tr th {\n",
       "        vertical-align: top;\n",
       "    }\n",
       "\n",
       "    .dataframe thead th {\n",
       "        text-align: right;\n",
       "    }\n",
       "</style>\n",
       "<table border=\"1\" class=\"dataframe\">\n",
       "  <thead>\n",
       "    <tr style=\"text-align: right;\">\n",
       "      <th></th>\n",
       "      <th>price</th>\n",
       "      <th>price_per_sqm</th>\n",
       "      <th>size_sqm</th>\n",
       "      <th>rooms</th>\n",
       "      <th>district</th>\n",
       "    </tr>\n",
       "  </thead>\n",
       "  <tbody>\n",
       "    <tr>\n",
       "      <th>0</th>\n",
       "      <td>396000</td>\n",
       "      <td>13655</td>\n",
       "      <td>29</td>\n",
       "      <td>2</td>\n",
       "      <td>Praga-Północ</td>\n",
       "    </tr>\n",
       "    <tr>\n",
       "      <th>1</th>\n",
       "      <td>695000</td>\n",
       "      <td>11564</td>\n",
       "      <td>60</td>\n",
       "      <td>3</td>\n",
       "      <td>Bemowo</td>\n",
       "    </tr>\n",
       "    <tr>\n",
       "      <th>2</th>\n",
       "      <td>828000</td>\n",
       "      <td>15055</td>\n",
       "      <td>55</td>\n",
       "      <td>2</td>\n",
       "      <td>Wilanów</td>\n",
       "    </tr>\n",
       "    <tr>\n",
       "      <th>3</th>\n",
       "      <td>730000</td>\n",
       "      <td>13225</td>\n",
       "      <td>55</td>\n",
       "      <td>3</td>\n",
       "      <td>Białołęka</td>\n",
       "    </tr>\n",
       "    <tr>\n",
       "      <th>4</th>\n",
       "      <td>750000</td>\n",
       "      <td>19330</td>\n",
       "      <td>39</td>\n",
       "      <td>2</td>\n",
       "      <td>Śródmieście</td>\n",
       "    </tr>\n",
       "    <tr>\n",
       "      <th>...</th>\n",
       "      <td>...</td>\n",
       "      <td>...</td>\n",
       "      <td>...</td>\n",
       "      <td>...</td>\n",
       "      <td>...</td>\n",
       "    </tr>\n",
       "    <tr>\n",
       "      <th>11244</th>\n",
       "      <td>1207080</td>\n",
       "      <td>18000</td>\n",
       "      <td>67</td>\n",
       "      <td>3</td>\n",
       "      <td>Mokotów</td>\n",
       "    </tr>\n",
       "    <tr>\n",
       "      <th>11245</th>\n",
       "      <td>550000</td>\n",
       "      <td>11224</td>\n",
       "      <td>49</td>\n",
       "      <td>2</td>\n",
       "      <td>Ursynów</td>\n",
       "    </tr>\n",
       "    <tr>\n",
       "      <th>11246</th>\n",
       "      <td>1530000</td>\n",
       "      <td>12000</td>\n",
       "      <td>128</td>\n",
       "      <td>3</td>\n",
       "      <td>Ochota</td>\n",
       "    </tr>\n",
       "    <tr>\n",
       "      <th>11248</th>\n",
       "      <td>1295000</td>\n",
       "      <td>17290</td>\n",
       "      <td>75</td>\n",
       "      <td>3</td>\n",
       "      <td>Śródmieście</td>\n",
       "    </tr>\n",
       "    <tr>\n",
       "      <th>11249</th>\n",
       "      <td>278000</td>\n",
       "      <td>9115</td>\n",
       "      <td>30</td>\n",
       "      <td>1</td>\n",
       "      <td>Praga-Północ</td>\n",
       "    </tr>\n",
       "  </tbody>\n",
       "</table>\n",
       "<p>11127 rows × 5 columns</p>\n",
       "</div>"
      ],
      "text/plain": [
       "         price  price_per_sqm  size_sqm  rooms      district\n",
       "0       396000          13655        29      2  Praga-Północ\n",
       "1       695000          11564        60      3        Bemowo\n",
       "2       828000          15055        55      2       Wilanów\n",
       "3       730000          13225        55      3     Białołęka\n",
       "4       750000          19330        39      2   Śródmieście\n",
       "...        ...            ...       ...    ...           ...\n",
       "11244  1207080          18000        67      3       Mokotów\n",
       "11245   550000          11224        49      2       Ursynów\n",
       "11246  1530000          12000       128      3        Ochota\n",
       "11248  1295000          17290        75      3   Śródmieście\n",
       "11249   278000           9115        30      1  Praga-Północ\n",
       "\n",
       "[11127 rows x 5 columns]"
      ]
     },
     "execution_count": 379,
     "metadata": {},
     "output_type": "execute_result"
    }
   ],
   "source": [
    "data_set_price_pln=data_set_price_pln.copy()\n",
    "\n",
    "data_set_price_pln['price']=data_set_price_pln['price'].str.replace('zł','').str.replace(',','.')\n",
    "data_set_price_pln=data_set_price_pln[data_set_price_pln['price'] != '$1.000.000']\n",
    "data_set_price_pln['price']=data_set_price_pln['price'].astype(float)\n",
    "data_set_price_pln['price']=data_set_price_pln['price'].round().astype(int)\n",
    "\n",
    "data_set_price_pln['price_per_sqm']=data_set_price_pln['price_per_sqm'].str.replace('zł/m²','').str.replace(' ','').str.replace(',','.')\n",
    "data_set_price_pln['price_per_sqm']=data_set_price_pln['price_per_sqm'].astype(float)\n",
    "data_set_price_pln['price_per_sqm']=data_set_price_pln['price_per_sqm'].round().astype(int)\n",
    "\n",
    "data_set_price_pln"
   ]
  },
  {
   "cell_type": "code",
   "execution_count": 380,
   "id": "c4ad1743",
   "metadata": {},
   "outputs": [
    {
     "data": {
      "text/html": [
       "<div>\n",
       "<style scoped>\n",
       "    .dataframe tbody tr th:only-of-type {\n",
       "        vertical-align: middle;\n",
       "    }\n",
       "\n",
       "    .dataframe tbody tr th {\n",
       "        vertical-align: top;\n",
       "    }\n",
       "\n",
       "    .dataframe thead th {\n",
       "        text-align: right;\n",
       "    }\n",
       "</style>\n",
       "<table border=\"1\" class=\"dataframe\">\n",
       "  <thead>\n",
       "    <tr style=\"text-align: right;\">\n",
       "      <th></th>\n",
       "      <th>price</th>\n",
       "      <th>price_per_sqm</th>\n",
       "      <th>size_sqm</th>\n",
       "      <th>rooms</th>\n",
       "      <th>district</th>\n",
       "    </tr>\n",
       "  </thead>\n",
       "  <tbody>\n",
       "    <tr>\n",
       "      <th>0</th>\n",
       "      <td>396000</td>\n",
       "      <td>13655</td>\n",
       "      <td>29</td>\n",
       "      <td>2</td>\n",
       "      <td>Praga-Północ</td>\n",
       "    </tr>\n",
       "    <tr>\n",
       "      <th>1</th>\n",
       "      <td>695000</td>\n",
       "      <td>11564</td>\n",
       "      <td>60</td>\n",
       "      <td>3</td>\n",
       "      <td>Bemowo</td>\n",
       "    </tr>\n",
       "    <tr>\n",
       "      <th>2</th>\n",
       "      <td>828000</td>\n",
       "      <td>15055</td>\n",
       "      <td>55</td>\n",
       "      <td>2</td>\n",
       "      <td>Wilanów</td>\n",
       "    </tr>\n",
       "    <tr>\n",
       "      <th>3</th>\n",
       "      <td>730000</td>\n",
       "      <td>13225</td>\n",
       "      <td>55</td>\n",
       "      <td>3</td>\n",
       "      <td>Białołęka</td>\n",
       "    </tr>\n",
       "    <tr>\n",
       "      <th>4</th>\n",
       "      <td>750000</td>\n",
       "      <td>19330</td>\n",
       "      <td>39</td>\n",
       "      <td>2</td>\n",
       "      <td>Śródmieście</td>\n",
       "    </tr>\n",
       "    <tr>\n",
       "      <th>...</th>\n",
       "      <td>...</td>\n",
       "      <td>...</td>\n",
       "      <td>...</td>\n",
       "      <td>...</td>\n",
       "      <td>...</td>\n",
       "    </tr>\n",
       "    <tr>\n",
       "      <th>11135</th>\n",
       "      <td>9196000</td>\n",
       "      <td>25057</td>\n",
       "      <td>367</td>\n",
       "      <td>4</td>\n",
       "      <td>Śródmieście</td>\n",
       "    </tr>\n",
       "    <tr>\n",
       "      <th>11136</th>\n",
       "      <td>1016400</td>\n",
       "      <td>14017</td>\n",
       "      <td>73</td>\n",
       "      <td>3</td>\n",
       "      <td>Targówek</td>\n",
       "    </tr>\n",
       "    <tr>\n",
       "      <th>11137</th>\n",
       "      <td>968000</td>\n",
       "      <td>13260</td>\n",
       "      <td>73</td>\n",
       "      <td>2</td>\n",
       "      <td>Mokotów</td>\n",
       "    </tr>\n",
       "    <tr>\n",
       "      <th>11138</th>\n",
       "      <td>968000</td>\n",
       "      <td>14892</td>\n",
       "      <td>65</td>\n",
       "      <td>2</td>\n",
       "      <td>Mokotów</td>\n",
       "    </tr>\n",
       "    <tr>\n",
       "      <th>11139</th>\n",
       "      <td>5953200</td>\n",
       "      <td>48400</td>\n",
       "      <td>123</td>\n",
       "      <td>3</td>\n",
       "      <td>Śródmieście</td>\n",
       "    </tr>\n",
       "  </tbody>\n",
       "</table>\n",
       "<p>11140 rows × 5 columns</p>\n",
       "</div>"
      ],
      "text/plain": [
       "         price  price_per_sqm  size_sqm  rooms      district\n",
       "0       396000          13655        29      2  Praga-Północ\n",
       "1       695000          11564        60      3        Bemowo\n",
       "2       828000          15055        55      2       Wilanów\n",
       "3       730000          13225        55      3     Białołęka\n",
       "4       750000          19330        39      2   Śródmieście\n",
       "...        ...            ...       ...    ...           ...\n",
       "11135  9196000          25057       367      4   Śródmieście\n",
       "11136  1016400          14017        73      3      Targówek\n",
       "11137   968000          13260        73      2       Mokotów\n",
       "11138   968000          14892        65      2       Mokotów\n",
       "11139  5953200          48400       123      3   Śródmieście\n",
       "\n",
       "[11140 rows x 5 columns]"
      ]
     },
     "execution_count": 380,
     "metadata": {},
     "output_type": "execute_result"
    }
   ],
   "source": [
    "cleaned = pd.concat([data_set_price_pln,data_set_price_euro ],ignore_index=True)\n",
    "cleaned"
   ]
  },
  {
   "cell_type": "markdown",
   "id": "e7d1ac16",
   "metadata": {},
   "source": [
    "# DROPPING DUPLICATED ROWS"
   ]
  },
  {
   "cell_type": "code",
   "execution_count": 381,
   "id": "0eb74152",
   "metadata": {},
   "outputs": [
    {
     "data": {
      "text/plain": [
       "(9377, 5)"
      ]
     },
     "execution_count": 381,
     "metadata": {},
     "output_type": "execute_result"
    }
   ],
   "source": [
    "cleaned.drop_duplicates(keep='first', inplace=True)\n",
    "cleaned.shape"
   ]
  },
  {
   "cell_type": "markdown",
   "id": "698d4ca2",
   "metadata": {},
   "source": [
    "# DATA CLEANING (MISTAKES DETECTION) - 'price_per_sqm' VARIABLE"
   ]
  },
  {
   "cell_type": "code",
   "execution_count": 382,
   "id": "90094344",
   "metadata": {
    "scrolled": true
   },
   "outputs": [
    {
     "data": {
      "text/plain": [
       "count      9377.000000\n",
       "mean      14508.323878\n",
       "std        5488.247420\n",
       "min           1.000000\n",
       "25%       11332.000000\n",
       "50%       13375.000000\n",
       "75%       16184.000000\n",
       "max      148889.000000\n",
       "Name: price_per_sqm, dtype: float64"
      ]
     },
     "execution_count": 382,
     "metadata": {},
     "output_type": "execute_result"
    }
   ],
   "source": [
    "cleaned['price_per_sqm'].describe()"
   ]
  },
  {
   "cell_type": "code",
   "execution_count": 383,
   "id": "98b10934",
   "metadata": {},
   "outputs": [],
   "source": [
    "cleaned=cleaned.copy()\n",
    "cleaned=cleaned[(cleaned['price_per_sqm'] > 8000) & (cleaned['price_per_sqm'] < 45000)]"
   ]
  },
  {
   "cell_type": "markdown",
   "id": "6f2d6a87",
   "metadata": {},
   "source": [
    "###  It is impossible that the minimum price per square metre in the dataset is 1 PLN/m² and the maximum is 148889 PLN/m². After studying the current property listings in Warsaw, I established a reasonable price range of 8,000 PLN/m² - 45,000 PLN/m² . All values outside this range were rejected."
   ]
  },
  {
   "cell_type": "code",
   "execution_count": 384,
   "id": "940d4cc7",
   "metadata": {},
   "outputs": [
    {
     "data": {
      "text/plain": [
       "count     9238.000000\n",
       "mean     14400.141914\n",
       "std       4489.476658\n",
       "min       8042.000000\n",
       "25%      11395.250000\n",
       "50%      13404.500000\n",
       "75%      16176.000000\n",
       "max      44353.000000\n",
       "Name: price_per_sqm, dtype: float64"
      ]
     },
     "execution_count": 384,
     "metadata": {},
     "output_type": "execute_result"
    }
   ],
   "source": [
    "cleaned['price_per_sqm'].describe()"
   ]
  },
  {
   "cell_type": "markdown",
   "id": "021a14f4",
   "metadata": {},
   "source": [
    "# DATA CLEANING (MISTAKES DETECTION) - 'size_sqm' VARIABLE"
   ]
  },
  {
   "cell_type": "code",
   "execution_count": 385,
   "id": "43367dbd",
   "metadata": {},
   "outputs": [
    {
     "data": {
      "text/plain": [
       "count    9238.000000\n",
       "mean       62.242910\n",
       "std        35.928102\n",
       "min        10.000000\n",
       "25%        43.000000\n",
       "50%        54.000000\n",
       "75%        69.000000\n",
       "max       488.000000\n",
       "Name: size_sqm, dtype: float64"
      ]
     },
     "execution_count": 385,
     "metadata": {},
     "output_type": "execute_result"
    }
   ],
   "source": [
    "cleaned['size_sqm'].describe()"
   ]
  },
  {
   "cell_type": "code",
   "execution_count": 386,
   "id": "111f25a6",
   "metadata": {},
   "outputs": [
    {
     "data": {
      "text/html": [
       "<div>\n",
       "<style scoped>\n",
       "    .dataframe tbody tr th:only-of-type {\n",
       "        vertical-align: middle;\n",
       "    }\n",
       "\n",
       "    .dataframe tbody tr th {\n",
       "        vertical-align: top;\n",
       "    }\n",
       "\n",
       "    .dataframe thead th {\n",
       "        text-align: right;\n",
       "    }\n",
       "</style>\n",
       "<table border=\"1\" class=\"dataframe\">\n",
       "  <thead>\n",
       "    <tr style=\"text-align: right;\">\n",
       "      <th></th>\n",
       "      <th>price</th>\n",
       "      <th>price_per_sqm</th>\n",
       "      <th>size_sqm</th>\n",
       "      <th>rooms</th>\n",
       "      <th>district</th>\n",
       "    </tr>\n",
       "  </thead>\n",
       "  <tbody>\n",
       "    <tr>\n",
       "      <th>2674</th>\n",
       "      <td>330000</td>\n",
       "      <td>22000</td>\n",
       "      <td>15</td>\n",
       "      <td>1</td>\n",
       "      <td>Śródmieście</td>\n",
       "    </tr>\n",
       "    <tr>\n",
       "      <th>3094</th>\n",
       "      <td>260000</td>\n",
       "      <td>17808</td>\n",
       "      <td>15</td>\n",
       "      <td>1</td>\n",
       "      <td>Praga-Południe</td>\n",
       "    </tr>\n",
       "    <tr>\n",
       "      <th>4269</th>\n",
       "      <td>265000</td>\n",
       "      <td>18929</td>\n",
       "      <td>14</td>\n",
       "      <td>1</td>\n",
       "      <td>Ochota</td>\n",
       "    </tr>\n",
       "    <tr>\n",
       "      <th>6035</th>\n",
       "      <td>145000</td>\n",
       "      <td>14500</td>\n",
       "      <td>10</td>\n",
       "      <td>1</td>\n",
       "      <td>Ursus</td>\n",
       "    </tr>\n",
       "    <tr>\n",
       "      <th>8510</th>\n",
       "      <td>340000</td>\n",
       "      <td>22819</td>\n",
       "      <td>15</td>\n",
       "      <td>1</td>\n",
       "      <td>Wola</td>\n",
       "    </tr>\n",
       "    <tr>\n",
       "      <th>10672</th>\n",
       "      <td>320000</td>\n",
       "      <td>21333</td>\n",
       "      <td>15</td>\n",
       "      <td>1</td>\n",
       "      <td>Targówek</td>\n",
       "    </tr>\n",
       "  </tbody>\n",
       "</table>\n",
       "</div>"
      ],
      "text/plain": [
       "        price  price_per_sqm  size_sqm  rooms        district\n",
       "2674   330000          22000        15      1     Śródmieście\n",
       "3094   260000          17808        15      1  Praga-Południe\n",
       "4269   265000          18929        14      1          Ochota\n",
       "6035   145000          14500        10      1           Ursus\n",
       "8510   340000          22819        15      1            Wola\n",
       "10672  320000          21333        15      1        Targówek"
      ]
     },
     "execution_count": 386,
     "metadata": {},
     "output_type": "execute_result"
    }
   ],
   "source": [
    "cleaned[cleaned['size_sqm'] <= 15]"
   ]
  },
  {
   "cell_type": "code",
   "execution_count": 387,
   "id": "47b8038a",
   "metadata": {},
   "outputs": [],
   "source": [
    "cleaned=cleaned[cleaned['size_sqm'] >= 14]"
   ]
  },
  {
   "cell_type": "markdown",
   "id": "ff8a221d",
   "metadata": {},
   "source": [
    "### I have dropped the row with index 6035 (10 m²) and assumed that this is a business unit for sale not a flat."
   ]
  },
  {
   "cell_type": "code",
   "execution_count": 388,
   "id": "c6d61a21",
   "metadata": {},
   "outputs": [
    {
     "data": {
      "text/plain": [
       "count    9237.000000\n",
       "mean       62.248566\n",
       "std        35.925934\n",
       "min        14.000000\n",
       "25%        43.000000\n",
       "50%        54.000000\n",
       "75%        69.000000\n",
       "max       488.000000\n",
       "Name: size_sqm, dtype: float64"
      ]
     },
     "execution_count": 388,
     "metadata": {},
     "output_type": "execute_result"
    }
   ],
   "source": [
    "cleaned['size_sqm'].describe()"
   ]
  },
  {
   "cell_type": "markdown",
   "id": "c1ab4616",
   "metadata": {},
   "source": [
    "# DATA CLEANING (MISTAKES DETECTION) - 'rooms' VARIABLE"
   ]
  },
  {
   "cell_type": "markdown",
   "id": "83207ef0",
   "metadata": {},
   "source": [
    "### After looking at some of the listings on the Otodom website, I have noticed that the rooms variable  is problematic. There are sometimes flats that are listed for sale with a different number of rooms than in reality. For example, some seller has listed: 53 square metres flat with 6 rooms, while the listing description says it has 2 rooms. I have dealt with this mistake with respect to the number of rooms and the corresponding size of the flat."
   ]
  },
  {
   "cell_type": "markdown",
   "id": "7db4292a",
   "metadata": {},
   "source": [
    "##### 1-room flats"
   ]
  },
  {
   "cell_type": "code",
   "execution_count": 389,
   "id": "2305a635",
   "metadata": {},
   "outputs": [
    {
     "data": {
      "text/html": [
       "<div>\n",
       "<style scoped>\n",
       "    .dataframe tbody tr th:only-of-type {\n",
       "        vertical-align: middle;\n",
       "    }\n",
       "\n",
       "    .dataframe tbody tr th {\n",
       "        vertical-align: top;\n",
       "    }\n",
       "\n",
       "    .dataframe thead th {\n",
       "        text-align: right;\n",
       "    }\n",
       "</style>\n",
       "<table border=\"1\" class=\"dataframe\">\n",
       "  <thead>\n",
       "    <tr style=\"text-align: right;\">\n",
       "      <th></th>\n",
       "      <th>price</th>\n",
       "      <th>price_per_sqm</th>\n",
       "      <th>size_sqm</th>\n",
       "      <th>rooms</th>\n",
       "      <th>district</th>\n",
       "    </tr>\n",
       "  </thead>\n",
       "  <tbody>\n",
       "    <tr>\n",
       "      <th>11</th>\n",
       "      <td>485000</td>\n",
       "      <td>15156</td>\n",
       "      <td>32</td>\n",
       "      <td>1</td>\n",
       "      <td>Bemowo</td>\n",
       "    </tr>\n",
       "    <tr>\n",
       "      <th>40</th>\n",
       "      <td>430000</td>\n",
       "      <td>11286</td>\n",
       "      <td>38</td>\n",
       "      <td>1</td>\n",
       "      <td>Białołęka</td>\n",
       "    </tr>\n",
       "    <tr>\n",
       "      <th>42</th>\n",
       "      <td>975000</td>\n",
       "      <td>27144</td>\n",
       "      <td>36</td>\n",
       "      <td>1</td>\n",
       "      <td>Śródmieście</td>\n",
       "    </tr>\n",
       "    <tr>\n",
       "      <th>43</th>\n",
       "      <td>534000</td>\n",
       "      <td>17508</td>\n",
       "      <td>30</td>\n",
       "      <td>1</td>\n",
       "      <td>Praga-Północ</td>\n",
       "    </tr>\n",
       "    <tr>\n",
       "      <th>45</th>\n",
       "      <td>410000</td>\n",
       "      <td>11081</td>\n",
       "      <td>37</td>\n",
       "      <td>1</td>\n",
       "      <td>Białołęka</td>\n",
       "    </tr>\n",
       "  </tbody>\n",
       "</table>\n",
       "</div>"
      ],
      "text/plain": [
       "     price  price_per_sqm  size_sqm  rooms      district\n",
       "11  485000          15156        32      1        Bemowo\n",
       "40  430000          11286        38      1     Białołęka\n",
       "42  975000          27144        36      1   Śródmieście\n",
       "43  534000          17508        30      1  Praga-Północ\n",
       "45  410000          11081        37      1     Białołęka"
      ]
     },
     "execution_count": 389,
     "metadata": {},
     "output_type": "execute_result"
    }
   ],
   "source": [
    "cleaned[cleaned['rooms'] == 1].head()"
   ]
  },
  {
   "cell_type": "code",
   "execution_count": 390,
   "id": "b210033e",
   "metadata": {},
   "outputs": [
    {
     "data": {
      "text/plain": [
       "50.299999999999955"
      ]
     },
     "execution_count": 390,
     "metadata": {},
     "output_type": "execute_result"
    }
   ],
   "source": [
    "cleaned[cleaned['rooms'] == 1]['size_sqm'].quantile(q=0.99)"
   ]
  },
  {
   "cell_type": "code",
   "execution_count": 391,
   "id": "3ee58fda",
   "metadata": {},
   "outputs": [
    {
     "data": {
      "text/plain": [
       "4269     14\n",
       "3094     15\n",
       "2674     15\n",
       "8510     15\n",
       "10672    15\n",
       "         ..\n",
       "3605     54\n",
       "705      56\n",
       "8710     62\n",
       "10842    72\n",
       "3702     88\n",
       "Name: size_sqm, Length: 871, dtype: int64"
      ]
     },
     "execution_count": 391,
     "metadata": {},
     "output_type": "execute_result"
    }
   ],
   "source": [
    "cleaned[cleaned['rooms'] == 1]['size_sqm'].sort_values()"
   ]
  },
  {
   "cell_type": "code",
   "execution_count": 392,
   "id": "66417503",
   "metadata": {},
   "outputs": [],
   "source": [
    "cleaned=cleaned[~((cleaned['rooms'] ==1) & (cleaned['size_sqm'] > 50))]"
   ]
  },
  {
   "cell_type": "markdown",
   "id": "e58d7548",
   "metadata": {},
   "source": [
    "### 99% of the 1-room flats listed for sale are 50 m² or less. I have assumed this value as an upper limit. Every 1-room flat in the dataset above 50 m² was considered as a mistake and consequently dropped. For example, it is almost impossible that a 1-room flat is 88 m²."
   ]
  },
  {
   "cell_type": "code",
   "execution_count": 393,
   "id": "a3c1dac4",
   "metadata": {},
   "outputs": [
    {
     "data": {
      "text/plain": [
       "4269     14\n",
       "10672    15\n",
       "2674     15\n",
       "8510     15\n",
       "3094     15\n",
       "         ..\n",
       "220      47\n",
       "6364     48\n",
       "8271     50\n",
       "8019     50\n",
       "2957     50\n",
       "Name: size_sqm, Length: 862, dtype: int64"
      ]
     },
     "execution_count": 393,
     "metadata": {},
     "output_type": "execute_result"
    }
   ],
   "source": [
    "cleaned[cleaned['rooms'] == 1]['size_sqm'].sort_values()"
   ]
  },
  {
   "cell_type": "markdown",
   "id": "1d9f3263",
   "metadata": {},
   "source": [
    "##### 2-room flats"
   ]
  },
  {
   "cell_type": "code",
   "execution_count": 394,
   "id": "596b126e",
   "metadata": {},
   "outputs": [
    {
     "data": {
      "text/html": [
       "<div>\n",
       "<style scoped>\n",
       "    .dataframe tbody tr th:only-of-type {\n",
       "        vertical-align: middle;\n",
       "    }\n",
       "\n",
       "    .dataframe tbody tr th {\n",
       "        vertical-align: top;\n",
       "    }\n",
       "\n",
       "    .dataframe thead th {\n",
       "        text-align: right;\n",
       "    }\n",
       "</style>\n",
       "<table border=\"1\" class=\"dataframe\">\n",
       "  <thead>\n",
       "    <tr style=\"text-align: right;\">\n",
       "      <th></th>\n",
       "      <th>price</th>\n",
       "      <th>price_per_sqm</th>\n",
       "      <th>size_sqm</th>\n",
       "      <th>rooms</th>\n",
       "      <th>district</th>\n",
       "    </tr>\n",
       "  </thead>\n",
       "  <tbody>\n",
       "    <tr>\n",
       "      <th>0</th>\n",
       "      <td>396000</td>\n",
       "      <td>13655</td>\n",
       "      <td>29</td>\n",
       "      <td>2</td>\n",
       "      <td>Praga-Północ</td>\n",
       "    </tr>\n",
       "    <tr>\n",
       "      <th>2</th>\n",
       "      <td>828000</td>\n",
       "      <td>15055</td>\n",
       "      <td>55</td>\n",
       "      <td>2</td>\n",
       "      <td>Wilanów</td>\n",
       "    </tr>\n",
       "    <tr>\n",
       "      <th>4</th>\n",
       "      <td>750000</td>\n",
       "      <td>19330</td>\n",
       "      <td>39</td>\n",
       "      <td>2</td>\n",
       "      <td>Śródmieście</td>\n",
       "    </tr>\n",
       "    <tr>\n",
       "      <th>12</th>\n",
       "      <td>849000</td>\n",
       "      <td>16107</td>\n",
       "      <td>53</td>\n",
       "      <td>2</td>\n",
       "      <td>Praga-Północ</td>\n",
       "    </tr>\n",
       "    <tr>\n",
       "      <th>13</th>\n",
       "      <td>455000</td>\n",
       "      <td>11974</td>\n",
       "      <td>38</td>\n",
       "      <td>2</td>\n",
       "      <td>Ursynów</td>\n",
       "    </tr>\n",
       "  </tbody>\n",
       "</table>\n",
       "</div>"
      ],
      "text/plain": [
       "     price  price_per_sqm  size_sqm  rooms      district\n",
       "0   396000          13655        29      2  Praga-Północ\n",
       "2   828000          15055        55      2       Wilanów\n",
       "4   750000          19330        39      2   Śródmieście\n",
       "12  849000          16107        53      2  Praga-Północ\n",
       "13  455000          11974        38      2       Ursynów"
      ]
     },
     "execution_count": 394,
     "metadata": {},
     "output_type": "execute_result"
    }
   ],
   "source": [
    "cleaned[cleaned['rooms'] == 2].head()"
   ]
  },
  {
   "cell_type": "code",
   "execution_count": 395,
   "id": "bc1a1c91",
   "metadata": {},
   "outputs": [
    {
     "data": {
      "text/plain": [
       "74.0"
      ]
     },
     "execution_count": 395,
     "metadata": {},
     "output_type": "execute_result"
    }
   ],
   "source": [
    "cleaned[cleaned['rooms'] == 2]['size_sqm'].quantile(q=0.99)"
   ]
  },
  {
   "cell_type": "code",
   "execution_count": 396,
   "id": "5335fba2",
   "metadata": {},
   "outputs": [
    {
     "data": {
      "text/plain": [
       "50        17\n",
       "10102     25\n",
       "8183      25\n",
       "9041      25\n",
       "8093      25\n",
       "        ... \n",
       "8259      93\n",
       "9888      97\n",
       "10545    106\n",
       "151      128\n",
       "3878     319\n",
       "Name: size_sqm, Length: 3601, dtype: int64"
      ]
     },
     "execution_count": 396,
     "metadata": {},
     "output_type": "execute_result"
    }
   ],
   "source": [
    "cleaned[cleaned['rooms'] == 2]['size_sqm'].sort_values()"
   ]
  },
  {
   "cell_type": "code",
   "execution_count": 397,
   "id": "6c24f8d0",
   "metadata": {},
   "outputs": [],
   "source": [
    "cleaned=cleaned[~((cleaned['rooms'] ==2) & (cleaned['size_sqm'] > 74))]"
   ]
  },
  {
   "cell_type": "markdown",
   "id": "4d0d14a2",
   "metadata": {},
   "source": [
    "### 99% of the 2-room flats listed for sale are 74 m² or less. I have assumed this value as an upper limit. Every 2-room flat in the dataset above 74 m² was considered as a mistake and consequently dropped. For example, it is almost impossible that a 2-room flat is 128 m² or 319 m²."
   ]
  },
  {
   "cell_type": "code",
   "execution_count": 398,
   "id": "e4a88b74",
   "metadata": {},
   "outputs": [
    {
     "data": {
      "text/plain": [
       "50       17\n",
       "10102    25\n",
       "9041     25\n",
       "8093     25\n",
       "8183     25\n",
       "         ..\n",
       "10112    73\n",
       "8331     74\n",
       "9946     74\n",
       "5314     74\n",
       "9751     74\n",
       "Name: size_sqm, Length: 3568, dtype: int64"
      ]
     },
     "execution_count": 398,
     "metadata": {},
     "output_type": "execute_result"
    }
   ],
   "source": [
    "cleaned[cleaned['rooms'] == 2]['size_sqm'].sort_values()"
   ]
  },
  {
   "cell_type": "markdown",
   "id": "246344f9",
   "metadata": {},
   "source": [
    "##### 3-room flats"
   ]
  },
  {
   "cell_type": "code",
   "execution_count": 399,
   "id": "693eab35",
   "metadata": {},
   "outputs": [
    {
     "data": {
      "text/html": [
       "<div>\n",
       "<style scoped>\n",
       "    .dataframe tbody tr th:only-of-type {\n",
       "        vertical-align: middle;\n",
       "    }\n",
       "\n",
       "    .dataframe tbody tr th {\n",
       "        vertical-align: top;\n",
       "    }\n",
       "\n",
       "    .dataframe thead th {\n",
       "        text-align: right;\n",
       "    }\n",
       "</style>\n",
       "<table border=\"1\" class=\"dataframe\">\n",
       "  <thead>\n",
       "    <tr style=\"text-align: right;\">\n",
       "      <th></th>\n",
       "      <th>price</th>\n",
       "      <th>price_per_sqm</th>\n",
       "      <th>size_sqm</th>\n",
       "      <th>rooms</th>\n",
       "      <th>district</th>\n",
       "    </tr>\n",
       "  </thead>\n",
       "  <tbody>\n",
       "    <tr>\n",
       "      <th>1</th>\n",
       "      <td>695000</td>\n",
       "      <td>11564</td>\n",
       "      <td>60</td>\n",
       "      <td>3</td>\n",
       "      <td>Bemowo</td>\n",
       "    </tr>\n",
       "    <tr>\n",
       "      <th>3</th>\n",
       "      <td>730000</td>\n",
       "      <td>13225</td>\n",
       "      <td>55</td>\n",
       "      <td>3</td>\n",
       "      <td>Białołęka</td>\n",
       "    </tr>\n",
       "    <tr>\n",
       "      <th>5</th>\n",
       "      <td>1500000</td>\n",
       "      <td>17964</td>\n",
       "      <td>84</td>\n",
       "      <td>3</td>\n",
       "      <td>Śródmieście</td>\n",
       "    </tr>\n",
       "    <tr>\n",
       "      <th>7</th>\n",
       "      <td>980000</td>\n",
       "      <td>16554</td>\n",
       "      <td>59</td>\n",
       "      <td>3</td>\n",
       "      <td>Mokotów</td>\n",
       "    </tr>\n",
       "    <tr>\n",
       "      <th>9</th>\n",
       "      <td>600000</td>\n",
       "      <td>12747</td>\n",
       "      <td>47</td>\n",
       "      <td>3</td>\n",
       "      <td>Mokotów</td>\n",
       "    </tr>\n",
       "  </tbody>\n",
       "</table>\n",
       "</div>"
      ],
      "text/plain": [
       "     price  price_per_sqm  size_sqm  rooms     district\n",
       "1   695000          11564        60      3       Bemowo\n",
       "3   730000          13225        55      3    Białołęka\n",
       "5  1500000          17964        84      3  Śródmieście\n",
       "7   980000          16554        59      3      Mokotów\n",
       "9   600000          12747        47      3      Mokotów"
      ]
     },
     "execution_count": 399,
     "metadata": {},
     "output_type": "execute_result"
    }
   ],
   "source": [
    "cleaned[cleaned['rooms'] == 3].head()"
   ]
  },
  {
   "cell_type": "code",
   "execution_count": 400,
   "id": "95e76206",
   "metadata": {},
   "outputs": [
    {
     "data": {
      "text/plain": [
       "45.0"
      ]
     },
     "execution_count": 400,
     "metadata": {},
     "output_type": "execute_result"
    }
   ],
   "source": [
    "cleaned[cleaned['rooms'] == 3]['size_sqm'].quantile(q=0.01)"
   ]
  },
  {
   "cell_type": "code",
   "execution_count": 401,
   "id": "85cc5d43",
   "metadata": {},
   "outputs": [
    {
     "data": {
      "text/plain": [
       "3280     33\n",
       "1981     35\n",
       "2356     35\n",
       "6084     38\n",
       "3960     38\n",
       "       ... \n",
       "4928    181\n",
       "1008    191\n",
       "1420    193\n",
       "7008    201\n",
       "1771    218\n",
       "Name: size_sqm, Length: 3415, dtype: int64"
      ]
     },
     "execution_count": 401,
     "metadata": {},
     "output_type": "execute_result"
    }
   ],
   "source": [
    "cleaned[cleaned['rooms'] == 3]['size_sqm'].sort_values()"
   ]
  },
  {
   "cell_type": "code",
   "execution_count": 402,
   "id": "6d838473",
   "metadata": {},
   "outputs": [],
   "source": [
    "cleaned=cleaned[~((cleaned['rooms'] ==3) & (cleaned['size_sqm'] <= 45))]"
   ]
  },
  {
   "cell_type": "markdown",
   "id": "d0d370f8",
   "metadata": {},
   "source": [
    "### 99% of the 3-room flats listed for sale are more than 45 m². I have assumed this value as an lower limit. Every 3-room flat in the dataset below or equal to 45 m² was considered as a mistake and consequently dropped. For example, it is almost imposible that a 3-room flat is 33 m²."
   ]
  },
  {
   "cell_type": "code",
   "execution_count": 403,
   "id": "f9c0bb3f",
   "metadata": {},
   "outputs": [
    {
     "data": {
      "text/plain": [
       "2844     46\n",
       "1740     46\n",
       "3378     46\n",
       "1122     46\n",
       "6107     46\n",
       "       ... \n",
       "4928    181\n",
       "1008    191\n",
       "1420    193\n",
       "7008    201\n",
       "1771    218\n",
       "Name: size_sqm, Length: 3360, dtype: int64"
      ]
     },
     "execution_count": 403,
     "metadata": {},
     "output_type": "execute_result"
    }
   ],
   "source": [
    "cleaned[cleaned['rooms'] == 3]['size_sqm'].sort_values()"
   ]
  },
  {
   "cell_type": "markdown",
   "id": "1b4552b2",
   "metadata": {},
   "source": [
    "##### 4-room flats"
   ]
  },
  {
   "cell_type": "code",
   "execution_count": 404,
   "id": "26274fed",
   "metadata": {},
   "outputs": [
    {
     "data": {
      "text/html": [
       "<div>\n",
       "<style scoped>\n",
       "    .dataframe tbody tr th:only-of-type {\n",
       "        vertical-align: middle;\n",
       "    }\n",
       "\n",
       "    .dataframe tbody tr th {\n",
       "        vertical-align: top;\n",
       "    }\n",
       "\n",
       "    .dataframe thead th {\n",
       "        text-align: right;\n",
       "    }\n",
       "</style>\n",
       "<table border=\"1\" class=\"dataframe\">\n",
       "  <thead>\n",
       "    <tr style=\"text-align: right;\">\n",
       "      <th></th>\n",
       "      <th>price</th>\n",
       "      <th>price_per_sqm</th>\n",
       "      <th>size_sqm</th>\n",
       "      <th>rooms</th>\n",
       "      <th>district</th>\n",
       "    </tr>\n",
       "  </thead>\n",
       "  <tbody>\n",
       "    <tr>\n",
       "      <th>6</th>\n",
       "      <td>700000</td>\n",
       "      <td>10160</td>\n",
       "      <td>69</td>\n",
       "      <td>4</td>\n",
       "      <td>Ursynów</td>\n",
       "    </tr>\n",
       "    <tr>\n",
       "      <th>8</th>\n",
       "      <td>1899500</td>\n",
       "      <td>12099</td>\n",
       "      <td>157</td>\n",
       "      <td>4</td>\n",
       "      <td>Mokotów</td>\n",
       "    </tr>\n",
       "    <tr>\n",
       "      <th>16</th>\n",
       "      <td>1197700</td>\n",
       "      <td>16520</td>\n",
       "      <td>72</td>\n",
       "      <td>4</td>\n",
       "      <td>Wola</td>\n",
       "    </tr>\n",
       "    <tr>\n",
       "      <th>30</th>\n",
       "      <td>715000</td>\n",
       "      <td>14712</td>\n",
       "      <td>49</td>\n",
       "      <td>4</td>\n",
       "      <td>Praga-Południe</td>\n",
       "    </tr>\n",
       "    <tr>\n",
       "      <th>33</th>\n",
       "      <td>629000</td>\n",
       "      <td>12261</td>\n",
       "      <td>51</td>\n",
       "      <td>4</td>\n",
       "      <td>Mokotów</td>\n",
       "    </tr>\n",
       "  </tbody>\n",
       "</table>\n",
       "</div>"
      ],
      "text/plain": [
       "      price  price_per_sqm  size_sqm  rooms        district\n",
       "6    700000          10160        69      4         Ursynów\n",
       "8   1899500          12099       157      4         Mokotów\n",
       "16  1197700          16520        72      4            Wola\n",
       "30   715000          14712        49      4  Praga-Południe\n",
       "33   629000          12261        51      4         Mokotów"
      ]
     },
     "execution_count": 404,
     "metadata": {},
     "output_type": "execute_result"
    }
   ],
   "source": [
    "cleaned[cleaned['rooms'] == 4].head()"
   ]
  },
  {
   "cell_type": "code",
   "execution_count": 405,
   "id": "e7be9aff",
   "metadata": {},
   "outputs": [
    {
     "data": {
      "text/plain": [
       "55.0"
      ]
     },
     "execution_count": 405,
     "metadata": {},
     "output_type": "execute_result"
    }
   ],
   "source": [
    "cleaned[cleaned['rooms'] == 4]['size_sqm'].quantile(q=0.01)"
   ]
  },
  {
   "cell_type": "code",
   "execution_count": 406,
   "id": "d1f12ecc",
   "metadata": {},
   "outputs": [
    {
     "data": {
      "text/plain": [
       "6515      48\n",
       "30        49\n",
       "8370      50\n",
       "33        51\n",
       "4301      52\n",
       "        ... \n",
       "11080    303\n",
       "9699     303\n",
       "11034    304\n",
       "10666    357\n",
       "11135    367\n",
       "Name: size_sqm, Length: 1001, dtype: int64"
      ]
     },
     "execution_count": 406,
     "metadata": {},
     "output_type": "execute_result"
    }
   ],
   "source": [
    "cleaned[cleaned['rooms'] == 4]['size_sqm'].sort_values()"
   ]
  },
  {
   "cell_type": "code",
   "execution_count": 407,
   "id": "fbbe35b0",
   "metadata": {},
   "outputs": [],
   "source": [
    "cleaned=cleaned[~((cleaned['rooms'] ==4) & (cleaned['size_sqm'] <= 55))]"
   ]
  },
  {
   "cell_type": "markdown",
   "id": "78d85146",
   "metadata": {},
   "source": [
    "### 99% of the 4-room flats listed for sale are more than 55 m². I have assumed this value as an lower limit. Every 4-room flat in the dataset below or equal to 55 m² was considered as a mistake and consequently dropped. For example, it is almost imposible that a 4-room flat is 48 m²."
   ]
  },
  {
   "cell_type": "code",
   "execution_count": 408,
   "id": "7704829a",
   "metadata": {},
   "outputs": [
    {
     "data": {
      "text/plain": [
       "7510      56\n",
       "418       56\n",
       "49        56\n",
       "5284      56\n",
       "7018      56\n",
       "        ... \n",
       "9699     303\n",
       "11080    303\n",
       "11034    304\n",
       "10666    357\n",
       "11135    367\n",
       "Name: size_sqm, Length: 985, dtype: int64"
      ]
     },
     "execution_count": 408,
     "metadata": {},
     "output_type": "execute_result"
    }
   ],
   "source": [
    "cleaned[cleaned['rooms'] == 4]['size_sqm'].sort_values()"
   ]
  },
  {
   "cell_type": "markdown",
   "id": "66315d8c",
   "metadata": {},
   "source": [
    "##### 5-room flats"
   ]
  },
  {
   "cell_type": "code",
   "execution_count": 409,
   "id": "2fbc19ba",
   "metadata": {},
   "outputs": [
    {
     "data": {
      "text/html": [
       "<div>\n",
       "<style scoped>\n",
       "    .dataframe tbody tr th:only-of-type {\n",
       "        vertical-align: middle;\n",
       "    }\n",
       "\n",
       "    .dataframe tbody tr th {\n",
       "        vertical-align: top;\n",
       "    }\n",
       "\n",
       "    .dataframe thead th {\n",
       "        text-align: right;\n",
       "    }\n",
       "</style>\n",
       "<table border=\"1\" class=\"dataframe\">\n",
       "  <thead>\n",
       "    <tr style=\"text-align: right;\">\n",
       "      <th></th>\n",
       "      <th>price</th>\n",
       "      <th>price_per_sqm</th>\n",
       "      <th>size_sqm</th>\n",
       "      <th>rooms</th>\n",
       "      <th>district</th>\n",
       "    </tr>\n",
       "  </thead>\n",
       "  <tbody>\n",
       "    <tr>\n",
       "      <th>74</th>\n",
       "      <td>1350000</td>\n",
       "      <td>10243</td>\n",
       "      <td>132</td>\n",
       "      <td>5</td>\n",
       "      <td>Ursynów</td>\n",
       "    </tr>\n",
       "    <tr>\n",
       "      <th>160</th>\n",
       "      <td>1497000</td>\n",
       "      <td>14970</td>\n",
       "      <td>100</td>\n",
       "      <td>5</td>\n",
       "      <td>Wola</td>\n",
       "    </tr>\n",
       "    <tr>\n",
       "      <th>245</th>\n",
       "      <td>1710000</td>\n",
       "      <td>12316</td>\n",
       "      <td>139</td>\n",
       "      <td>5</td>\n",
       "      <td>Ochota</td>\n",
       "    </tr>\n",
       "    <tr>\n",
       "      <th>267</th>\n",
       "      <td>2399000</td>\n",
       "      <td>17601</td>\n",
       "      <td>136</td>\n",
       "      <td>5</td>\n",
       "      <td>Mokotów</td>\n",
       "    </tr>\n",
       "    <tr>\n",
       "      <th>311</th>\n",
       "      <td>799000</td>\n",
       "      <td>13317</td>\n",
       "      <td>60</td>\n",
       "      <td>5</td>\n",
       "      <td>Wola</td>\n",
       "    </tr>\n",
       "  </tbody>\n",
       "</table>\n",
       "</div>"
      ],
      "text/plain": [
       "       price  price_per_sqm  size_sqm  rooms district\n",
       "74   1350000          10243       132      5  Ursynów\n",
       "160  1497000          14970       100      5     Wola\n",
       "245  1710000          12316       139      5   Ochota\n",
       "267  2399000          17601       136      5  Mokotów\n",
       "311   799000          13317        60      5     Wola"
      ]
     },
     "execution_count": 409,
     "metadata": {},
     "output_type": "execute_result"
    }
   ],
   "source": [
    "cleaned[cleaned['rooms'] == 5].head()"
   ]
  },
  {
   "cell_type": "code",
   "execution_count": 410,
   "id": "7bac6c88",
   "metadata": {},
   "outputs": [
    {
     "data": {
      "text/plain": [
       "85.1"
      ]
     },
     "execution_count": 410,
     "metadata": {},
     "output_type": "execute_result"
    }
   ],
   "source": [
    "cleaned[cleaned['rooms'] == 5]['size_sqm'].quantile(q=0.1)"
   ]
  },
  {
   "cell_type": "code",
   "execution_count": 411,
   "id": "37da26f2",
   "metadata": {},
   "outputs": [
    {
     "data": {
      "text/plain": [
       "2081      57\n",
       "11007     59\n",
       "2281      60\n",
       "5813      60\n",
       "311       60\n",
       "        ... \n",
       "11061    328\n",
       "1588     343\n",
       "7836     352\n",
       "10599    353\n",
       "11039    390\n",
       "Name: size_sqm, Length: 262, dtype: int64"
      ]
     },
     "execution_count": 411,
     "metadata": {},
     "output_type": "execute_result"
    }
   ],
   "source": [
    "cleaned[cleaned['rooms'] == 5]['size_sqm'].sort_values()"
   ]
  },
  {
   "cell_type": "code",
   "execution_count": 412,
   "id": "14c4ff9c",
   "metadata": {},
   "outputs": [],
   "source": [
    "cleaned=cleaned[~((cleaned['rooms'] ==5) & (cleaned['size_sqm'] <= 85))]"
   ]
  },
  {
   "cell_type": "markdown",
   "id": "1828d2cd",
   "metadata": {},
   "source": [
    "### 99% of the 5-room flats listed for sale are more than 85 m². I have assumed this value as an lower limit. Every 5-room flat in the dataset below or equal to 85 m² was considered as a mistake and consequently dropped. For example, it is almost imposible that a 5-room flat is 57 m²."
   ]
  },
  {
   "cell_type": "code",
   "execution_count": 413,
   "id": "392df693",
   "metadata": {
    "scrolled": true
   },
   "outputs": [
    {
     "data": {
      "text/plain": [
       "9341      86\n",
       "9287      86\n",
       "1412      87\n",
       "4948      90\n",
       "10161     92\n",
       "        ... \n",
       "11061    328\n",
       "1588     343\n",
       "7836     352\n",
       "10599    353\n",
       "11039    390\n",
       "Name: size_sqm, Length: 235, dtype: int64"
      ]
     },
     "execution_count": 413,
     "metadata": {},
     "output_type": "execute_result"
    }
   ],
   "source": [
    "cleaned[cleaned['rooms'] == 5]['size_sqm'].sort_values()"
   ]
  },
  {
   "cell_type": "markdown",
   "id": "12c27ccc",
   "metadata": {},
   "source": [
    "##### 6-room flats"
   ]
  },
  {
   "cell_type": "code",
   "execution_count": 414,
   "id": "defe719b",
   "metadata": {},
   "outputs": [
    {
     "data": {
      "text/html": [
       "<div>\n",
       "<style scoped>\n",
       "    .dataframe tbody tr th:only-of-type {\n",
       "        vertical-align: middle;\n",
       "    }\n",
       "\n",
       "    .dataframe tbody tr th {\n",
       "        vertical-align: top;\n",
       "    }\n",
       "\n",
       "    .dataframe thead th {\n",
       "        text-align: right;\n",
       "    }\n",
       "</style>\n",
       "<table border=\"1\" class=\"dataframe\">\n",
       "  <thead>\n",
       "    <tr style=\"text-align: right;\">\n",
       "      <th></th>\n",
       "      <th>price</th>\n",
       "      <th>price_per_sqm</th>\n",
       "      <th>size_sqm</th>\n",
       "      <th>rooms</th>\n",
       "      <th>district</th>\n",
       "    </tr>\n",
       "  </thead>\n",
       "  <tbody>\n",
       "    <tr>\n",
       "      <th>10</th>\n",
       "      <td>810000</td>\n",
       "      <td>10800</td>\n",
       "      <td>75</td>\n",
       "      <td>6</td>\n",
       "      <td>Bielany</td>\n",
       "    </tr>\n",
       "    <tr>\n",
       "      <th>496</th>\n",
       "      <td>8850000</td>\n",
       "      <td>40346</td>\n",
       "      <td>219</td>\n",
       "      <td>6</td>\n",
       "      <td>Śródmieście</td>\n",
       "    </tr>\n",
       "    <tr>\n",
       "      <th>622</th>\n",
       "      <td>3099000</td>\n",
       "      <td>18669</td>\n",
       "      <td>166</td>\n",
       "      <td>6</td>\n",
       "      <td>Wilanów</td>\n",
       "    </tr>\n",
       "    <tr>\n",
       "      <th>972</th>\n",
       "      <td>2600000</td>\n",
       "      <td>10400</td>\n",
       "      <td>250</td>\n",
       "      <td>6</td>\n",
       "      <td>Ursynów</td>\n",
       "    </tr>\n",
       "    <tr>\n",
       "      <th>1364</th>\n",
       "      <td>5200000</td>\n",
       "      <td>13083</td>\n",
       "      <td>397</td>\n",
       "      <td>6</td>\n",
       "      <td>Mokotów</td>\n",
       "    </tr>\n",
       "  </tbody>\n",
       "</table>\n",
       "</div>"
      ],
      "text/plain": [
       "        price  price_per_sqm  size_sqm  rooms     district\n",
       "10     810000          10800        75      6      Bielany\n",
       "496   8850000          40346       219      6  Śródmieście\n",
       "622   3099000          18669       166      6      Wilanów\n",
       "972   2600000          10400       250      6      Ursynów\n",
       "1364  5200000          13083       397      6      Mokotów"
      ]
     },
     "execution_count": 414,
     "metadata": {},
     "output_type": "execute_result"
    }
   ],
   "source": [
    "cleaned[cleaned['rooms'] == 6].head()"
   ]
  },
  {
   "cell_type": "code",
   "execution_count": 415,
   "id": "4e5bbdb1",
   "metadata": {},
   "outputs": [
    {
     "data": {
      "text/plain": [
       "124.2"
      ]
     },
     "execution_count": 415,
     "metadata": {},
     "output_type": "execute_result"
    }
   ],
   "source": [
    "cleaned[cleaned['rooms'] == 6]['size_sqm'].quantile(q=0.1)"
   ]
  },
  {
   "cell_type": "code",
   "execution_count": 416,
   "id": "0b16543c",
   "metadata": {},
   "outputs": [
    {
     "data": {
      "text/plain": [
       "10324     53\n",
       "10        75\n",
       "2497      96\n",
       "3981     115\n",
       "10462    119\n",
       "10177    123\n",
       "10367    125\n",
       "8653     128\n",
       "4007     130\n",
       "6699     145\n",
       "4859     160\n",
       "622      166\n",
       "8204     166\n",
       "4287     166\n",
       "4666     172\n",
       "6064     172\n",
       "1393     172\n",
       "3826     173\n",
       "2216     173\n",
       "10916    180\n",
       "10742    181\n",
       "2015     182\n",
       "9894     183\n",
       "10810    183\n",
       "9829     192\n",
       "1418     198\n",
       "2763     203\n",
       "5392     204\n",
       "8575     205\n",
       "7961     219\n",
       "11127    219\n",
       "496      219\n",
       "7956     220\n",
       "5382     222\n",
       "8971     225\n",
       "6046     227\n",
       "5711     227\n",
       "6872     227\n",
       "6459     227\n",
       "1521     231\n",
       "1437     238\n",
       "3962     240\n",
       "7315     250\n",
       "972      250\n",
       "4631     250\n",
       "6525     273\n",
       "8231     274\n",
       "5238     274\n",
       "8586     281\n",
       "9396     281\n",
       "1376     283\n",
       "10446    309\n",
       "3289     328\n",
       "1779     340\n",
       "9718     350\n",
       "1364     397\n",
       "9560     488\n",
       "Name: size_sqm, dtype: int64"
      ]
     },
     "execution_count": 416,
     "metadata": {},
     "output_type": "execute_result"
    }
   ],
   "source": [
    "cleaned[cleaned['rooms'] == 6]['size_sqm'].sort_values()"
   ]
  },
  {
   "cell_type": "code",
   "execution_count": 417,
   "id": "07e547cf",
   "metadata": {},
   "outputs": [],
   "source": [
    "cleaned=cleaned[~((cleaned['rooms'] ==6) & (cleaned['size_sqm'] <= 124))]"
   ]
  },
  {
   "cell_type": "markdown",
   "id": "803e4972",
   "metadata": {},
   "source": [
    "### 99% of the 6-room flats listed for sale are more than 124 m². I have assumed this value as an lower limit. Every 6-room flat in the dataset below or equal to 124 m² was considered as a mistake and consequently dropped. For example, it is almost imposible that a 6-room flat is 53 m²."
   ]
  },
  {
   "cell_type": "code",
   "execution_count": 418,
   "id": "9f8cc6ab",
   "metadata": {},
   "outputs": [
    {
     "data": {
      "text/plain": [
       "10367    125\n",
       "8653     128\n",
       "4007     130\n",
       "6699     145\n",
       "4859     160\n",
       "622      166\n",
       "4287     166\n",
       "8204     166\n",
       "6064     172\n",
       "4666     172\n",
       "1393     172\n",
       "2216     173\n",
       "3826     173\n",
       "10916    180\n",
       "10742    181\n",
       "2015     182\n",
       "9894     183\n",
       "10810    183\n",
       "9829     192\n",
       "1418     198\n",
       "2763     203\n",
       "5392     204\n",
       "8575     205\n",
       "7961     219\n",
       "496      219\n",
       "11127    219\n",
       "7956     220\n",
       "5382     222\n",
       "8971     225\n",
       "5711     227\n",
       "6046     227\n",
       "6459     227\n",
       "6872     227\n",
       "1521     231\n",
       "1437     238\n",
       "3962     240\n",
       "7315     250\n",
       "4631     250\n",
       "972      250\n",
       "6525     273\n",
       "5238     274\n",
       "8231     274\n",
       "9396     281\n",
       "8586     281\n",
       "1376     283\n",
       "10446    309\n",
       "3289     328\n",
       "1779     340\n",
       "9718     350\n",
       "1364     397\n",
       "9560     488\n",
       "Name: size_sqm, dtype: int64"
      ]
     },
     "execution_count": 418,
     "metadata": {},
     "output_type": "execute_result"
    }
   ],
   "source": [
    "cleaned[cleaned['rooms'] == 6]['size_sqm'].sort_values()"
   ]
  },
  {
   "cell_type": "markdown",
   "id": "cd6e4288",
   "metadata": {},
   "source": [
    "##### 7-room flats"
   ]
  },
  {
   "cell_type": "code",
   "execution_count": 419,
   "id": "32044076",
   "metadata": {},
   "outputs": [
    {
     "data": {
      "text/html": [
       "<div>\n",
       "<style scoped>\n",
       "    .dataframe tbody tr th:only-of-type {\n",
       "        vertical-align: middle;\n",
       "    }\n",
       "\n",
       "    .dataframe tbody tr th {\n",
       "        vertical-align: top;\n",
       "    }\n",
       "\n",
       "    .dataframe thead th {\n",
       "        text-align: right;\n",
       "    }\n",
       "</style>\n",
       "<table border=\"1\" class=\"dataframe\">\n",
       "  <thead>\n",
       "    <tr style=\"text-align: right;\">\n",
       "      <th></th>\n",
       "      <th>price</th>\n",
       "      <th>price_per_sqm</th>\n",
       "      <th>size_sqm</th>\n",
       "      <th>rooms</th>\n",
       "      <th>district</th>\n",
       "    </tr>\n",
       "  </thead>\n",
       "  <tbody>\n",
       "    <tr>\n",
       "      <th>189</th>\n",
       "      <td>2700000</td>\n",
       "      <td>10030</td>\n",
       "      <td>269</td>\n",
       "      <td>7</td>\n",
       "      <td>Wola</td>\n",
       "    </tr>\n",
       "    <tr>\n",
       "      <th>1378</th>\n",
       "      <td>4600000</td>\n",
       "      <td>18511</td>\n",
       "      <td>248</td>\n",
       "      <td>7</td>\n",
       "      <td>Śródmieście</td>\n",
       "    </tr>\n",
       "    <tr>\n",
       "      <th>1425</th>\n",
       "      <td>5900000</td>\n",
       "      <td>26818</td>\n",
       "      <td>220</td>\n",
       "      <td>7</td>\n",
       "      <td>Śródmieście</td>\n",
       "    </tr>\n",
       "    <tr>\n",
       "      <th>2085</th>\n",
       "      <td>3490000</td>\n",
       "      <td>16942</td>\n",
       "      <td>206</td>\n",
       "      <td>7</td>\n",
       "      <td>Żoliborz</td>\n",
       "    </tr>\n",
       "    <tr>\n",
       "      <th>3550</th>\n",
       "      <td>8540910</td>\n",
       "      <td>31500</td>\n",
       "      <td>271</td>\n",
       "      <td>7</td>\n",
       "      <td>Wola</td>\n",
       "    </tr>\n",
       "    <tr>\n",
       "      <th>3823</th>\n",
       "      <td>3200000</td>\n",
       "      <td>15542</td>\n",
       "      <td>206</td>\n",
       "      <td>7</td>\n",
       "      <td>Ochota</td>\n",
       "    </tr>\n",
       "    <tr>\n",
       "      <th>4113</th>\n",
       "      <td>2730000</td>\n",
       "      <td>17414</td>\n",
       "      <td>157</td>\n",
       "      <td>7</td>\n",
       "      <td>Śródmieście</td>\n",
       "    </tr>\n",
       "    <tr>\n",
       "      <th>4207</th>\n",
       "      <td>5950420</td>\n",
       "      <td>19000</td>\n",
       "      <td>313</td>\n",
       "      <td>7</td>\n",
       "      <td>Śródmieście</td>\n",
       "    </tr>\n",
       "    <tr>\n",
       "      <th>4507</th>\n",
       "      <td>5950000</td>\n",
       "      <td>16856</td>\n",
       "      <td>353</td>\n",
       "      <td>7</td>\n",
       "      <td>Żoliborz</td>\n",
       "    </tr>\n",
       "    <tr>\n",
       "      <th>5326</th>\n",
       "      <td>3564000</td>\n",
       "      <td>20891</td>\n",
       "      <td>171</td>\n",
       "      <td>7</td>\n",
       "      <td>Wola</td>\n",
       "    </tr>\n",
       "    <tr>\n",
       "      <th>5630</th>\n",
       "      <td>2599000</td>\n",
       "      <td>13126</td>\n",
       "      <td>198</td>\n",
       "      <td>7</td>\n",
       "      <td>Mokotów</td>\n",
       "    </tr>\n",
       "    <tr>\n",
       "      <th>5917</th>\n",
       "      <td>2899000</td>\n",
       "      <td>9663</td>\n",
       "      <td>300</td>\n",
       "      <td>7</td>\n",
       "      <td>Włochy</td>\n",
       "    </tr>\n",
       "    <tr>\n",
       "      <th>6284</th>\n",
       "      <td>6870150</td>\n",
       "      <td>31500</td>\n",
       "      <td>218</td>\n",
       "      <td>7</td>\n",
       "      <td>Wola</td>\n",
       "    </tr>\n",
       "    <tr>\n",
       "      <th>7573</th>\n",
       "      <td>12500000</td>\n",
       "      <td>31250</td>\n",
       "      <td>400</td>\n",
       "      <td>7</td>\n",
       "      <td>Mokotów</td>\n",
       "    </tr>\n",
       "    <tr>\n",
       "      <th>7693</th>\n",
       "      <td>1698000</td>\n",
       "      <td>10745</td>\n",
       "      <td>158</td>\n",
       "      <td>7</td>\n",
       "      <td>Ursynów</td>\n",
       "    </tr>\n",
       "    <tr>\n",
       "      <th>8042</th>\n",
       "      <td>1950000</td>\n",
       "      <td>12188</td>\n",
       "      <td>160</td>\n",
       "      <td>7</td>\n",
       "      <td>Ochota</td>\n",
       "    </tr>\n",
       "    <tr>\n",
       "      <th>8505</th>\n",
       "      <td>3744620</td>\n",
       "      <td>22000</td>\n",
       "      <td>170</td>\n",
       "      <td>7</td>\n",
       "      <td>Wola</td>\n",
       "    </tr>\n",
       "    <tr>\n",
       "      <th>9603</th>\n",
       "      <td>3153000</td>\n",
       "      <td>18250</td>\n",
       "      <td>173</td>\n",
       "      <td>7</td>\n",
       "      <td>Praga-Południe</td>\n",
       "    </tr>\n",
       "    <tr>\n",
       "      <th>9633</th>\n",
       "      <td>1237000</td>\n",
       "      <td>16493</td>\n",
       "      <td>75</td>\n",
       "      <td>7</td>\n",
       "      <td>Mokotów</td>\n",
       "    </tr>\n",
       "    <tr>\n",
       "      <th>10037</th>\n",
       "      <td>2980000</td>\n",
       "      <td>10109</td>\n",
       "      <td>295</td>\n",
       "      <td>7</td>\n",
       "      <td>Praga-Południe</td>\n",
       "    </tr>\n",
       "    <tr>\n",
       "      <th>10548</th>\n",
       "      <td>1999000</td>\n",
       "      <td>13649</td>\n",
       "      <td>146</td>\n",
       "      <td>7</td>\n",
       "      <td>Mokotów</td>\n",
       "    </tr>\n",
       "    <tr>\n",
       "      <th>10770</th>\n",
       "      <td>4400000</td>\n",
       "      <td>14981</td>\n",
       "      <td>294</td>\n",
       "      <td>7</td>\n",
       "      <td>Mokotów</td>\n",
       "    </tr>\n",
       "    <tr>\n",
       "      <th>10937</th>\n",
       "      <td>1698000</td>\n",
       "      <td>8490</td>\n",
       "      <td>200</td>\n",
       "      <td>7</td>\n",
       "      <td>Bemowo</td>\n",
       "    </tr>\n",
       "    <tr>\n",
       "      <th>11107</th>\n",
       "      <td>2820000</td>\n",
       "      <td>10025</td>\n",
       "      <td>281</td>\n",
       "      <td>7</td>\n",
       "      <td>Mokotów</td>\n",
       "    </tr>\n",
       "    <tr>\n",
       "      <th>11112</th>\n",
       "      <td>1140000</td>\n",
       "      <td>9406</td>\n",
       "      <td>121</td>\n",
       "      <td>7</td>\n",
       "      <td>Targówek</td>\n",
       "    </tr>\n",
       "  </tbody>\n",
       "</table>\n",
       "</div>"
      ],
      "text/plain": [
       "          price  price_per_sqm  size_sqm  rooms        district\n",
       "189     2700000          10030       269      7            Wola\n",
       "1378    4600000          18511       248      7     Śródmieście\n",
       "1425    5900000          26818       220      7     Śródmieście\n",
       "2085    3490000          16942       206      7        Żoliborz\n",
       "3550    8540910          31500       271      7            Wola\n",
       "3823    3200000          15542       206      7          Ochota\n",
       "4113    2730000          17414       157      7     Śródmieście\n",
       "4207    5950420          19000       313      7     Śródmieście\n",
       "4507    5950000          16856       353      7        Żoliborz\n",
       "5326    3564000          20891       171      7            Wola\n",
       "5630    2599000          13126       198      7         Mokotów\n",
       "5917    2899000           9663       300      7          Włochy\n",
       "6284    6870150          31500       218      7            Wola\n",
       "7573   12500000          31250       400      7         Mokotów\n",
       "7693    1698000          10745       158      7         Ursynów\n",
       "8042    1950000          12188       160      7          Ochota\n",
       "8505    3744620          22000       170      7            Wola\n",
       "9603    3153000          18250       173      7  Praga-Południe\n",
       "9633    1237000          16493        75      7         Mokotów\n",
       "10037   2980000          10109       295      7  Praga-Południe\n",
       "10548   1999000          13649       146      7         Mokotów\n",
       "10770   4400000          14981       294      7         Mokotów\n",
       "10937   1698000           8490       200      7          Bemowo\n",
       "11107   2820000          10025       281      7         Mokotów\n",
       "11112   1140000           9406       121      7        Targówek"
      ]
     },
     "execution_count": 419,
     "metadata": {},
     "output_type": "execute_result"
    }
   ],
   "source": [
    "cleaned[cleaned['rooms'] == 7]"
   ]
  },
  {
   "cell_type": "code",
   "execution_count": 420,
   "id": "2f84a327",
   "metadata": {},
   "outputs": [
    {
     "data": {
      "text/plain": [
       "150.4"
      ]
     },
     "execution_count": 420,
     "metadata": {},
     "output_type": "execute_result"
    }
   ],
   "source": [
    "cleaned[cleaned['rooms'] == 7]['size_sqm'].quantile(q=0.1)"
   ]
  },
  {
   "cell_type": "code",
   "execution_count": 421,
   "id": "71b70333",
   "metadata": {},
   "outputs": [
    {
     "data": {
      "text/plain": [
       "9633      75\n",
       "11112    121\n",
       "10548    146\n",
       "4113     157\n",
       "7693     158\n",
       "8042     160\n",
       "8505     170\n",
       "5326     171\n",
       "9603     173\n",
       "5630     198\n",
       "10937    200\n",
       "2085     206\n",
       "3823     206\n",
       "6284     218\n",
       "1425     220\n",
       "1378     248\n",
       "189      269\n",
       "3550     271\n",
       "11107    281\n",
       "10770    294\n",
       "10037    295\n",
       "5917     300\n",
       "4207     313\n",
       "4507     353\n",
       "7573     400\n",
       "Name: size_sqm, dtype: int64"
      ]
     },
     "execution_count": 421,
     "metadata": {},
     "output_type": "execute_result"
    }
   ],
   "source": [
    "cleaned[cleaned['rooms'] == 7]['size_sqm'].sort_values()"
   ]
  },
  {
   "cell_type": "code",
   "execution_count": 422,
   "id": "506f0765",
   "metadata": {},
   "outputs": [],
   "source": [
    "cleaned=cleaned[~((cleaned['rooms'] ==7) & (cleaned['size_sqm'] <= 150))]"
   ]
  },
  {
   "cell_type": "markdown",
   "id": "54cbbd14",
   "metadata": {},
   "source": [
    "### 99% of the 7-room flats listed for sale are more than 150 m². I have assumed this value as an lower limit. Every 7-room flat in the dataset below or equal to 150 m² was considered as a mistake and consequently dropped. For example, it is almost imposible that a 7-room flat is 75 m²."
   ]
  },
  {
   "cell_type": "code",
   "execution_count": 423,
   "id": "910ac5c3",
   "metadata": {},
   "outputs": [
    {
     "data": {
      "text/plain": [
       "4113     157\n",
       "7693     158\n",
       "8042     160\n",
       "8505     170\n",
       "5326     171\n",
       "9603     173\n",
       "5630     198\n",
       "10937    200\n",
       "2085     206\n",
       "3823     206\n",
       "6284     218\n",
       "1425     220\n",
       "1378     248\n",
       "189      269\n",
       "3550     271\n",
       "11107    281\n",
       "10770    294\n",
       "10037    295\n",
       "5917     300\n",
       "4207     313\n",
       "4507     353\n",
       "7573     400\n",
       "Name: size_sqm, dtype: int64"
      ]
     },
     "execution_count": 423,
     "metadata": {},
     "output_type": "execute_result"
    }
   ],
   "source": [
    "cleaned[cleaned['rooms'] == 7]['size_sqm'].sort_values()"
   ]
  },
  {
   "cell_type": "markdown",
   "id": "28b3e1f4",
   "metadata": {},
   "source": [
    "##### 8-room flats"
   ]
  },
  {
   "cell_type": "code",
   "execution_count": 424,
   "id": "bd67435b",
   "metadata": {},
   "outputs": [
    {
     "data": {
      "text/plain": [
       "2685     126\n",
       "10915    215\n",
       "10710    323\n",
       "1057     487\n",
       "Name: size_sqm, dtype: int64"
      ]
     },
     "execution_count": 424,
     "metadata": {},
     "output_type": "execute_result"
    }
   ],
   "source": [
    "cleaned[cleaned['rooms'] == 8]['size_sqm'].sort_values()"
   ]
  },
  {
   "cell_type": "code",
   "execution_count": 425,
   "id": "806c6cc3",
   "metadata": {},
   "outputs": [],
   "source": [
    "cleaned=cleaned[~((cleaned['rooms'] ==8) & (cleaned['size_sqm'] == 126))]"
   ]
  },
  {
   "cell_type": "markdown",
   "id": "49366962",
   "metadata": {},
   "source": [
    "### In my opinion, the 8-room flat with an area of 126 square metres (index 2685) is a mistake. It does not look trustworthy compared to the other 8-room flats. I have dropped it from the data set."
   ]
  },
  {
   "cell_type": "code",
   "execution_count": 426,
   "id": "01c43ff8",
   "metadata": {},
   "outputs": [
    {
     "data": {
      "text/plain": [
       "10915    215\n",
       "10710    323\n",
       "1057     487\n",
       "Name: size_sqm, dtype: int64"
      ]
     },
     "execution_count": 426,
     "metadata": {},
     "output_type": "execute_result"
    }
   ],
   "source": [
    "cleaned[cleaned['rooms'] == 8]['size_sqm'].sort_values()"
   ]
  },
  {
   "cell_type": "markdown",
   "id": "f188e7ed",
   "metadata": {},
   "source": [
    "##### 9 Rooms"
   ]
  },
  {
   "cell_type": "code",
   "execution_count": 427,
   "id": "1565782d",
   "metadata": {},
   "outputs": [
    {
     "data": {
      "text/plain": [
       "Series([], Name: size_sqm, dtype: int64)"
      ]
     },
     "execution_count": 427,
     "metadata": {},
     "output_type": "execute_result"
    }
   ],
   "source": [
    "cleaned[cleaned['rooms'] == 9]['size_sqm'].sort_values()"
   ]
  },
  {
   "cell_type": "markdown",
   "id": "f998948e",
   "metadata": {},
   "source": [
    "##### 10 Rooms"
   ]
  },
  {
   "cell_type": "code",
   "execution_count": 428,
   "id": "40304a09",
   "metadata": {},
   "outputs": [
    {
     "data": {
      "text/plain": [
       "10206    488\n",
       "Name: size_sqm, dtype: int64"
      ]
     },
     "execution_count": 428,
     "metadata": {},
     "output_type": "execute_result"
    }
   ],
   "source": [
    "cleaned[cleaned['rooms'] == 10]['size_sqm'].sort_values()"
   ]
  },
  {
   "cell_type": "markdown",
   "id": "5a5a35b8",
   "metadata": {},
   "source": [
    "# DATA CLEANING (MISTAKES DETECTION) - 'price' VARIABLE"
   ]
  },
  {
   "cell_type": "code",
   "execution_count": 429,
   "id": "71c3d19f",
   "metadata": {},
   "outputs": [
    {
     "data": {
      "text/plain": [
       "count        9087.00000\n",
       "mean       934921.35688\n",
       "std        927852.95048\n",
       "min        204000.00000\n",
       "25%        549999.50000\n",
       "50%        695000.00000\n",
       "75%        960000.00000\n",
       "max      21600000.00000\n",
       "Name: price, dtype: object"
      ]
     },
     "execution_count": 429,
     "metadata": {},
     "output_type": "execute_result"
    }
   ],
   "source": [
    "cleaned['price'].describe().apply(\"{0:.5f}\".format)"
   ]
  },
  {
   "cell_type": "code",
   "execution_count": 430,
   "id": "5260203f",
   "metadata": {},
   "outputs": [
    {
     "data": {
      "text/html": [
       "<div>\n",
       "<style scoped>\n",
       "    .dataframe tbody tr th:only-of-type {\n",
       "        vertical-align: middle;\n",
       "    }\n",
       "\n",
       "    .dataframe tbody tr th {\n",
       "        vertical-align: top;\n",
       "    }\n",
       "\n",
       "    .dataframe thead th {\n",
       "        text-align: right;\n",
       "    }\n",
       "</style>\n",
       "<table border=\"1\" class=\"dataframe\">\n",
       "  <thead>\n",
       "    <tr style=\"text-align: right;\">\n",
       "      <th></th>\n",
       "      <th>price</th>\n",
       "      <th>price_per_sqm</th>\n",
       "      <th>size_sqm</th>\n",
       "      <th>rooms</th>\n",
       "      <th>district</th>\n",
       "    </tr>\n",
       "  </thead>\n",
       "  <tbody>\n",
       "    <tr>\n",
       "      <th>5610</th>\n",
       "      <td>204000</td>\n",
       "      <td>12000</td>\n",
       "      <td>17</td>\n",
       "      <td>1</td>\n",
       "      <td>Ursus</td>\n",
       "    </tr>\n",
       "  </tbody>\n",
       "</table>\n",
       "</div>"
      ],
      "text/plain": [
       "       price  price_per_sqm  size_sqm  rooms district\n",
       "5610  204000          12000        17      1    Ursus"
      ]
     },
     "execution_count": 430,
     "metadata": {},
     "output_type": "execute_result"
    }
   ],
   "source": [
    "cleaned[cleaned['price'] == 204000]"
   ]
  },
  {
   "cell_type": "code",
   "execution_count": 431,
   "id": "7b6a7ddb",
   "metadata": {},
   "outputs": [
    {
     "data": {
      "text/html": [
       "<div>\n",
       "<style scoped>\n",
       "    .dataframe tbody tr th:only-of-type {\n",
       "        vertical-align: middle;\n",
       "    }\n",
       "\n",
       "    .dataframe tbody tr th {\n",
       "        vertical-align: top;\n",
       "    }\n",
       "\n",
       "    .dataframe thead th {\n",
       "        text-align: right;\n",
       "    }\n",
       "</style>\n",
       "<table border=\"1\" class=\"dataframe\">\n",
       "  <thead>\n",
       "    <tr style=\"text-align: right;\">\n",
       "      <th></th>\n",
       "      <th>price</th>\n",
       "      <th>price_per_sqm</th>\n",
       "      <th>size_sqm</th>\n",
       "      <th>rooms</th>\n",
       "      <th>district</th>\n",
       "    </tr>\n",
       "  </thead>\n",
       "  <tbody>\n",
       "    <tr>\n",
       "      <th>1057</th>\n",
       "      <td>21600000</td>\n",
       "      <td>44353</td>\n",
       "      <td>487</td>\n",
       "      <td>8</td>\n",
       "      <td>Mokotów</td>\n",
       "    </tr>\n",
       "  </tbody>\n",
       "</table>\n",
       "</div>"
      ],
      "text/plain": [
       "         price  price_per_sqm  size_sqm  rooms district\n",
       "1057  21600000          44353       487      8  Mokotów"
      ]
     },
     "execution_count": 431,
     "metadata": {},
     "output_type": "execute_result"
    }
   ],
   "source": [
    "cleaned[cleaned['price'] == 21600000]"
   ]
  },
  {
   "cell_type": "code",
   "execution_count": 432,
   "id": "8013ec3b",
   "metadata": {},
   "outputs": [
    {
     "data": {
      "text/plain": [
       "(9087, 5)"
      ]
     },
     "execution_count": 432,
     "metadata": {},
     "output_type": "execute_result"
    }
   ],
   "source": [
    "cleaned.shape"
   ]
  },
  {
   "cell_type": "markdown",
   "id": "ce27fead",
   "metadata": {},
   "source": [
    "### The dataset has 9087 rows after dropping mistakes."
   ]
  },
  {
   "cell_type": "markdown",
   "id": "18e7d5fb",
   "metadata": {},
   "source": [
    "# STATISTICS - 'price_per_sqm' VARIABLE"
   ]
  },
  {
   "cell_type": "code",
   "execution_count": 433,
   "id": "f250a10b",
   "metadata": {
    "scrolled": true
   },
   "outputs": [
    {
     "data": {
      "text/plain": [
       "count     9087.000000\n",
       "mean     14394.915484\n",
       "std       4474.876347\n",
       "min       8042.000000\n",
       "25%      11400.000000\n",
       "50%      13407.000000\n",
       "75%      16171.000000\n",
       "max      44353.000000\n",
       "Name: price_per_sqm, dtype: float64"
      ]
     },
     "execution_count": 433,
     "metadata": {},
     "output_type": "execute_result"
    }
   ],
   "source": [
    "cleaned['price_per_sqm'].describe()"
   ]
  },
  {
   "cell_type": "code",
   "execution_count": 434,
   "id": "e01a4424",
   "metadata": {},
   "outputs": [
    {
     "data": {
      "image/png": "[encoded data removed]",
      "text/plain": [
       "<Figure size 1800x800 with 1 Axes>"
      ]
     },
     "metadata": {
      "needs_background": "light"
     },
     "output_type": "display_data"
    }
   ],
   "source": [
    "plt.figure(figsize=( 9,4), dpi=200)\n",
    "sns.histplot(data=cleaned, x=\"price_per_sqm\", kde=True, bins=12, color='darkcyan')\n",
    "plt.title('Histrogram of flat price (per square meter)')\n",
    "plt.xlabel('price (PLN)')\n",
    "plt.show()"
   ]
  },
  {
   "cell_type": "code",
   "execution_count": 435,
   "id": "122e65fd",
   "metadata": {},
   "outputs": [
    {
     "data": {
      "image/png": "[encoded data removed]",
      "text/plain": [
       "<Figure size 1800x800 with 1 Axes>"
      ]
     },
     "metadata": {
      "needs_background": "light"
     },
     "output_type": "display_data"
    }
   ],
   "source": [
    "plt.figure(figsize=( 9,4), dpi=200)\n",
    "plt.boxplot(cleaned['price_per_sqm'])\n",
    "plt.title('Box plot of flat price (per square meter)')\n",
    "plt.ylabel('price (PLN)')\n",
    "plt.show()"
   ]
  },
  {
   "cell_type": "code",
   "execution_count": 436,
   "id": "42c8b6b0",
   "metadata": {},
   "outputs": [
    {
     "data": {
      "text/plain": [
       "4771.0"
      ]
     },
     "execution_count": 436,
     "metadata": {},
     "output_type": "execute_result"
    }
   ],
   "source": [
    "IQR_price_per_sqm= cleaned.price_per_sqm.quantile(q=0.75) - cleaned.price_per_sqm.quantile(q=0.25)\n",
    "IQR_price_per_sqm"
   ]
  },
  {
   "cell_type": "markdown",
   "id": "9f4f5814",
   "metadata": {},
   "source": [
    "### The distribution of property price per square metre is right-skewed, meaning that lower values occur more often than high values. The box plot above shows that the variable has many natural outliers. The minimum price value is 8042 PLN / m² and the maximum is 44353 PLN / m². The mean price in Warsaw is 14395 PLN / m² however, the median is 13407 PLN / m². Extreme values, such as prestigious properties with expensive prices, contribute to the increase of the mean. In this case, the median is a more trustworthy measure. The price IQR is 4771."
   ]
  },
  {
   "cell_type": "markdown",
   "id": "166d4f82",
   "metadata": {},
   "source": [
    "# STATISTICS - 'size_sqm' VARIABLE"
   ]
  },
  {
   "cell_type": "code",
   "execution_count": 437,
   "id": "f24d7e2d",
   "metadata": {},
   "outputs": [
    {
     "data": {
      "text/plain": [
       "count    9087.000000\n",
       "mean       62.209530\n",
       "std        36.011039\n",
       "min        14.000000\n",
       "25%        43.000000\n",
       "50%        54.000000\n",
       "75%        69.000000\n",
       "max       488.000000\n",
       "Name: size_sqm, dtype: float64"
      ]
     },
     "execution_count": 437,
     "metadata": {},
     "output_type": "execute_result"
    }
   ],
   "source": [
    "cleaned['size_sqm'].describe()"
   ]
  },
  {
   "cell_type": "code",
   "execution_count": 438,
   "id": "3355e38a",
   "metadata": {},
   "outputs": [
    {
     "data": {
      "image/png": "[encoded data removed]",
      "text/plain": [
       "<Figure size 1800x800 with 1 Axes>"
      ]
     },
     "metadata": {
      "needs_background": "light"
     },
     "output_type": "display_data"
    }
   ],
   "source": [
    "plt.figure(figsize=( 9,4), dpi=200)\n",
    "sns.histplot(data=cleaned, x=\"size_sqm\", kde=True, bins=25, color='darkcyan')\n",
    "plt.title('Histrogram of flat size')\n",
    "plt.xlabel('size (m2)')\n",
    "plt.show()"
   ]
  },
  {
   "cell_type": "code",
   "execution_count": 439,
   "id": "7737661f",
   "metadata": {},
   "outputs": [
    {
     "data": {
      "image/png": "[encoded data removed]",
      "text/plain": [
       "<Figure size 1800x800 with 1 Axes>"
      ]
     },
     "metadata": {
      "needs_background": "light"
     },
     "output_type": "display_data"
    }
   ],
   "source": [
    "plt.figure(figsize=( 9,4), dpi=200)\n",
    "plt.boxplot(cleaned['size_sqm'])\n",
    "plt.title('Box plot of flat size')\n",
    "plt.ylabel('size (m2)')\n",
    "plt.show()"
   ]
  },
  {
   "cell_type": "code",
   "execution_count": 440,
   "id": "c8d794db",
   "metadata": {},
   "outputs": [
    {
     "data": {
      "text/plain": [
       "26.0"
      ]
     },
     "execution_count": 440,
     "metadata": {},
     "output_type": "execute_result"
    }
   ],
   "source": [
    "IQR_size_sqm= cleaned.size_sqm.quantile(q=0.75) - cleaned.size_sqm.quantile(q=0.25)\n",
    "IQR_size_sqm"
   ]
  },
  {
   "cell_type": "markdown",
   "id": "15f7d763",
   "metadata": {},
   "source": [
    "### The distribution of property size is right-skewed, meaning that lower values occur more often than high values. The box plot above shows that the variable has many natural outliers. The minimum flat size is 14 m² and the maximum is 488 m². The average flat size in Warsaw is 62 m² while the median is 54 m². Outliers, such as large flats, contribute to the increase of the mean. In this case, the median is a more trustworthy measure. The property size IQR is 26."
   ]
  },
  {
   "cell_type": "markdown",
   "id": "ff3d1cb3",
   "metadata": {},
   "source": [
    "# STATISTICS - 'rooms' VARIABLE"
   ]
  },
  {
   "cell_type": "code",
   "execution_count": 441,
   "id": "3295b2e0",
   "metadata": {},
   "outputs": [
    {
     "data": {
      "text/plain": [
       "count    9087.000000\n",
       "mean        2.606691\n",
       "std         0.965525\n",
       "min         1.000000\n",
       "25%         2.000000\n",
       "50%         3.000000\n",
       "75%         3.000000\n",
       "max        10.000000\n",
       "Name: rooms, dtype: float64"
      ]
     },
     "execution_count": 441,
     "metadata": {},
     "output_type": "execute_result"
    }
   ],
   "source": [
    "cleaned['rooms'].describe()"
   ]
  },
  {
   "cell_type": "code",
   "execution_count": 442,
   "id": "2bbb683e",
   "metadata": {},
   "outputs": [
    {
     "data": {
      "text/plain": [
       "2    3568\n",
       "3    3360\n",
       "4     985\n",
       "1     862\n",
       "5     235\n",
       "Name: rooms, dtype: int64"
      ]
     },
     "execution_count": 442,
     "metadata": {},
     "output_type": "execute_result"
    }
   ],
   "source": [
    "rooms_counted=cleaned['rooms'].value_counts()\n",
    "rooms_counted.head()"
   ]
  },
  {
   "cell_type": "code",
   "execution_count": 443,
   "id": "e3733b96",
   "metadata": {},
   "outputs": [
    {
     "data": {
      "text/plain": [
       "2    39.264884\n",
       "3    36.975900\n",
       "4    10.839661\n",
       "1     9.486079\n",
       "5     2.586112\n",
       "Name: rooms, dtype: float64"
      ]
     },
     "execution_count": 443,
     "metadata": {},
     "output_type": "execute_result"
    }
   ],
   "source": [
    "rooms_percent=rooms_counted / cleaned.shape[0] *100\n",
    "rooms_percent.head()"
   ]
  },
  {
   "cell_type": "code",
   "execution_count": 444,
   "id": "236711fa",
   "metadata": {},
   "outputs": [
    {
     "data": {
      "image/png": "[encoded data removed]",
      "text/plain": [
       "<Figure size 1800x800 with 1 Axes>"
      ]
     },
     "metadata": {
      "needs_background": "light"
     },
     "output_type": "display_data"
    }
   ],
   "source": [
    "plt.figure(figsize=( 9,4), dpi=200)\n",
    "rooms_percent.plot(kind='bar', color='darkcyan')\n",
    "plt.xticks(rotation =0)\n",
    "plt.title('percentage frequency of flats with particular number of rooms')\n",
    "plt.xlabel('rooms')\n",
    "plt.ylabel('percentage %')\n",
    "plt.show()"
   ]
  },
  {
   "cell_type": "markdown",
   "id": "ab08002b",
   "metadata": {},
   "source": [
    "### Rooms frequency table:\n",
    "- 2 room (3568 offers, 39% overall)\n",
    "- 3 room (3360 offers, 37% overall)\n",
    "- 4 room (985 offers, 11% overall)\n",
    "- 1 room (862 offers, 9% overall)\n",
    "- 5 room (235 offers, 3% overall)\n",
    "- 6 room (51 offers, 0.6% overall)\n",
    "- 7 room (22 offers, 0.2% overall)\n",
    "- 8 room (3 offers, 0.03% overall)\n",
    "- 9 room (0 offers, 0% overall)\n",
    "- 10 room (1 offer, 0.01% overall)"
   ]
  },
  {
   "cell_type": "markdown",
   "id": "25530d3e",
   "metadata": {},
   "source": [
    "# STATISTICS - 'district' VARIABLE"
   ]
  },
  {
   "cell_type": "code",
   "execution_count": 445,
   "id": "c5052ee8",
   "metadata": {},
   "outputs": [
    {
     "data": {
      "text/plain": [
       "Rembertów        49\n",
       "Wesoła           65\n",
       "Wawer           109\n",
       "Włochy          228\n",
       "Praga-Północ    254\n",
       "Name: district, dtype: int64"
      ]
     },
     "execution_count": 445,
     "metadata": {},
     "output_type": "execute_result"
    }
   ],
   "source": [
    "district_counted=cleaned['district'].value_counts().sort_values()\n",
    "district_counted.head()"
   ]
  },
  {
   "cell_type": "code",
   "execution_count": 446,
   "id": "a18a51d4",
   "metadata": {},
   "outputs": [
    {
     "data": {
      "text/plain": [
       "Rembertów       0.539232\n",
       "Wesoła          0.715308\n",
       "Wawer           1.199516\n",
       "Włochy          2.509079\n",
       "Praga-Północ    2.795202\n",
       "Name: district, dtype: float64"
      ]
     },
     "execution_count": 446,
     "metadata": {},
     "output_type": "execute_result"
    }
   ],
   "source": [
    "district_percentage= district_counted / cleaned.shape[0]* 100\n",
    "district_percentage.head()"
   ]
  },
  {
   "cell_type": "code",
   "execution_count": 447,
   "id": "4b5f3af8",
   "metadata": {},
   "outputs": [
    {
     "data": {
      "image/png": "[encoded data removed]",
      "text/plain": [
       "<Figure size 1800x800 with 1 Axes>"
      ]
     },
     "metadata": {
      "needs_background": "light"
     },
     "output_type": "display_data"
    }
   ],
   "source": [
    "plt.figure(figsize=( 9,4), dpi=200)\n",
    "district_percentage.plot(kind='barh', color='darkcyan')\n",
    "plt.ylabel('district')\n",
    "plt.xlabel('percentage (%)')\n",
    "plt.title('percentage frequency of flats listed for sale in each city district')\n",
    "plt.show()"
   ]
  },
  {
   "cell_type": "markdown",
   "id": "576d9b6a",
   "metadata": {},
   "source": [
    "### District frequency table:\n",
    "-   1. Mokotów (1393 offers, 15% overall)\n",
    "-   2. Wola (986 offers, 11% overall)\n",
    "-   3. Śródmieście (916 offers, 10% overall)\n",
    "-   4. Praga-Południe (880 offers, 9.7% overall)\n",
    "-   5. Białołęka (649 offers, 7% overall)\n",
    "-   6. Ursynów (581 offers, 6.4% overall)\n",
    "-   7. Bielany (560 offers, 6.1% overall)\n",
    "-   8. Bemowo (496 offers, 5.5% overall)\n",
    "-   9. Ochota (456 offers, 5% overall)\n",
    "-   10. Targówek (419 offers, 4.6% overall)\n",
    "-   11. Wialnów (392 offers, 4.3% overall)\n",
    "-   12. Ursus (330 offers, 3.6% overall)\n",
    "-   13. Żoliborz (324 offers, 3.6% overall)\n",
    "-   14. Praga-Północ (254 offers, 2.8% overall)\n",
    "-   15. Włochy (228 offers, 2.5% overall)\n",
    "-   16. Wawer (109 offers, 1.1% overall)\n",
    "-   17. Wesoła (65 offers, 0.7% overall)\n",
    "-   18. Rembertów (49 offers, 0.5% overall)"
   ]
  },
  {
   "cell_type": "markdown",
   "id": "a04d19a0",
   "metadata": {},
   "source": [
    "# GROUPED STATISTICS FOR EACH DISTRICT - 'price_per_sqm' "
   ]
  },
  {
   "cell_type": "code",
   "execution_count": 448,
   "id": "c3be3626",
   "metadata": {},
   "outputs": [
    {
     "data": {
      "text/plain": [
       "district\n",
       "Wesoła        9992.0\n",
       "Rembertów    10184.0\n",
       "Białołęka    10348.0\n",
       "Wawer        10365.0\n",
       "Ursus        11089.5\n",
       "Name: price_per_sqm, dtype: float64"
      ]
     },
     "execution_count": 448,
     "metadata": {},
     "output_type": "execute_result"
    }
   ],
   "source": [
    "grouped_median_price_per_sqm=cleaned.groupby('district')['price_per_sqm'].median().sort_values()\n",
    "grouped_median_price_per_sqm.head()"
   ]
  },
  {
   "cell_type": "code",
   "execution_count": 449,
   "id": "81cff9fd",
   "metadata": {},
   "outputs": [
    {
     "data": {
      "image/png": "[encoded data removed]",
      "text/plain": [
       "<Figure size 1800x800 with 1 Axes>"
      ]
     },
     "metadata": {
      "needs_background": "light"
     },
     "output_type": "display_data"
    }
   ],
   "source": [
    "plt.figure(figsize=( 9,4), dpi=200)\n",
    "grouped_median_price_per_sqm.plot(kind='barh',color='lightcoral')\n",
    "plt.ylabel('district')\n",
    "plt.xlabel('price (PLN)')\n",
    "plt.title('Median prices of flats listed for sale for each city district')\n",
    "plt.show()"
   ]
  },
  {
   "cell_type": "markdown",
   "id": "f1d3c592",
   "metadata": {},
   "source": [
    "### Median prices of flats listed for sale for each district:\n",
    "-   1. Śródmieście 18 915 PLN / m²\n",
    "-   2. Wilanów 15 818 PLN / m²\n",
    "-   3. Żoliborz 15 777 PLN / m²\n",
    "-   4. Wola 14974 PLN / m²\n",
    "-   5. Mokotów 14699 PLN / m²\n",
    "-   6. Ochota 13896.5 PLN / m²\n",
    "-   7. Praga-Północ 13173.5 PLN / m²\n",
    "-   8. Włochy 12871  PLN / m²\n",
    "-   9. Ursynów 12871 PLN / m²\n",
    "-   10. Praga-Południe 12567.5 PLN / m²\n",
    "-   11. Bielny 12154 PLN / m²\n",
    "-   12. Bemowo 12049  PLN / m²\n",
    "-   13. Targówek 11302 PLN / m²\n",
    "-   14. Ursus 11089.5 PLN / m²\n",
    "-   15. Wawer 10365 PLN / m²\n",
    "-   16. Białołęka 10 348 PLN / m²\n",
    "-   17. Rembertów 10 184 PLN / m²\n",
    "-   18. Wesoła 9 992 PLN / m²"
   ]
  },
  {
   "cell_type": "markdown",
   "id": "453c81c0",
   "metadata": {},
   "source": [
    "# GROUPED STATISTICS FOR EACH DISTRICT - 'size_sqm' "
   ]
  },
  {
   "cell_type": "code",
   "execution_count": 450,
   "id": "34942fcb",
   "metadata": {},
   "outputs": [
    {
     "data": {
      "text/plain": [
       "district\n",
       "Praga-Północ    44.5\n",
       "Wola            49.0\n",
       "Żoliborz        50.0\n",
       "Bielany         50.0\n",
       "Ochota          51.0\n",
       "Name: size_sqm, dtype: float64"
      ]
     },
     "execution_count": 450,
     "metadata": {},
     "output_type": "execute_result"
    }
   ],
   "source": [
    "grouped_median_size_sqm=cleaned.groupby('district')['size_sqm'].median().sort_values()\n",
    "grouped_median_size_sqm.head()"
   ]
  },
  {
   "cell_type": "code",
   "execution_count": 451,
   "id": "a5cb2750",
   "metadata": {},
   "outputs": [
    {
     "data": {
      "image/png": "[encoded data removed]",
      "text/plain": [
       "<Figure size 1800x800 with 1 Axes>"
      ]
     },
     "metadata": {
      "needs_background": "light"
     },
     "output_type": "display_data"
    }
   ],
   "source": [
    "plt.figure(figsize=( 9,4), dpi=200)\n",
    "grouped_median_size_sqm.plot(kind='barh',color='lightcoral')\n",
    "plt.ylabel('district')\n",
    "plt.xlabel('size (m2)')\n",
    "plt.title('Median areas of flats listed for sale for each district')\n",
    "plt.show()"
   ]
  },
  {
   "cell_type": "markdown",
   "id": "dbdb3dfa",
   "metadata": {},
   "source": [
    "### Median areas of flats listed for sale for each district:\n",
    "-   1. Wilanów 68 m²\n",
    "-   2. Wesoła 67 m²\n",
    "-   3. Wawer 64 m²\n",
    "-   4. Ursynów 62 m²\n",
    "-   5. Bemowo 61 m²\n",
    "-   6. Rembertów 60 m²\n",
    "-   7. Mokotów 56 m²\n",
    "-   8. Białołęka 55 m²\n",
    "-   9. Śródmieście 54 m²\n",
    "-   10. Targówek 54 m²\n",
    "-   11. Włochy 54 m²\n",
    "-   12. Ursus 52 m²\n",
    "-   13. Praga-Południe 52 m²\n",
    "-   14. Ochota 51 m²\n",
    "-   15. Bielany 50 m²\n",
    "-   16. Żoliborz 50 m²\n",
    "-   17. Wola 49 m²\n",
    "-   18. Praga-Północ 44.5 m²"
   ]
  },
  {
   "cell_type": "markdown",
   "id": "4ec36cb1",
   "metadata": {},
   "source": [
    "# BUILDING LINEAR REGRESSION MODEL"
   ]
  },
  {
   "cell_type": "code",
   "execution_count": 452,
   "id": "4959d651",
   "metadata": {},
   "outputs": [
    {
     "data": {
      "text/html": [
       "<div>\n",
       "<style scoped>\n",
       "    .dataframe tbody tr th:only-of-type {\n",
       "        vertical-align: middle;\n",
       "    }\n",
       "\n",
       "    .dataframe tbody tr th {\n",
       "        vertical-align: top;\n",
       "    }\n",
       "\n",
       "    .dataframe thead th {\n",
       "        text-align: right;\n",
       "    }\n",
       "</style>\n",
       "<table border=\"1\" class=\"dataframe\">\n",
       "  <thead>\n",
       "    <tr style=\"text-align: right;\">\n",
       "      <th></th>\n",
       "      <th>price</th>\n",
       "      <th>size_sqm</th>\n",
       "      <th>rooms</th>\n",
       "      <th>district</th>\n",
       "    </tr>\n",
       "  </thead>\n",
       "  <tbody>\n",
       "    <tr>\n",
       "      <th>0</th>\n",
       "      <td>396000</td>\n",
       "      <td>29</td>\n",
       "      <td>2</td>\n",
       "      <td>Praga-Północ</td>\n",
       "    </tr>\n",
       "    <tr>\n",
       "      <th>1</th>\n",
       "      <td>695000</td>\n",
       "      <td>60</td>\n",
       "      <td>3</td>\n",
       "      <td>Bemowo</td>\n",
       "    </tr>\n",
       "    <tr>\n",
       "      <th>2</th>\n",
       "      <td>828000</td>\n",
       "      <td>55</td>\n",
       "      <td>2</td>\n",
       "      <td>Wilanów</td>\n",
       "    </tr>\n",
       "    <tr>\n",
       "      <th>3</th>\n",
       "      <td>730000</td>\n",
       "      <td>55</td>\n",
       "      <td>3</td>\n",
       "      <td>Białołęka</td>\n",
       "    </tr>\n",
       "    <tr>\n",
       "      <th>4</th>\n",
       "      <td>750000</td>\n",
       "      <td>39</td>\n",
       "      <td>2</td>\n",
       "      <td>Śródmieście</td>\n",
       "    </tr>\n",
       "    <tr>\n",
       "      <th>...</th>\n",
       "      <td>...</td>\n",
       "      <td>...</td>\n",
       "      <td>...</td>\n",
       "      <td>...</td>\n",
       "    </tr>\n",
       "    <tr>\n",
       "      <th>11134</th>\n",
       "      <td>2855600</td>\n",
       "      <td>110</td>\n",
       "      <td>3</td>\n",
       "      <td>Mokotów</td>\n",
       "    </tr>\n",
       "    <tr>\n",
       "      <th>11135</th>\n",
       "      <td>9196000</td>\n",
       "      <td>367</td>\n",
       "      <td>4</td>\n",
       "      <td>Śródmieście</td>\n",
       "    </tr>\n",
       "    <tr>\n",
       "      <th>11136</th>\n",
       "      <td>1016400</td>\n",
       "      <td>73</td>\n",
       "      <td>3</td>\n",
       "      <td>Targówek</td>\n",
       "    </tr>\n",
       "    <tr>\n",
       "      <th>11137</th>\n",
       "      <td>968000</td>\n",
       "      <td>73</td>\n",
       "      <td>2</td>\n",
       "      <td>Mokotów</td>\n",
       "    </tr>\n",
       "    <tr>\n",
       "      <th>11138</th>\n",
       "      <td>968000</td>\n",
       "      <td>65</td>\n",
       "      <td>2</td>\n",
       "      <td>Mokotów</td>\n",
       "    </tr>\n",
       "  </tbody>\n",
       "</table>\n",
       "<p>9087 rows × 4 columns</p>\n",
       "</div>"
      ],
      "text/plain": [
       "         price  size_sqm  rooms      district\n",
       "0       396000        29      2  Praga-Północ\n",
       "1       695000        60      3        Bemowo\n",
       "2       828000        55      2       Wilanów\n",
       "3       730000        55      3     Białołęka\n",
       "4       750000        39      2   Śródmieście\n",
       "...        ...       ...    ...           ...\n",
       "11134  2855600       110      3       Mokotów\n",
       "11135  9196000       367      4   Śródmieście\n",
       "11136  1016400        73      3      Targówek\n",
       "11137   968000        73      2       Mokotów\n",
       "11138   968000        65      2       Mokotów\n",
       "\n",
       "[9087 rows x 4 columns]"
      ]
     },
     "execution_count": 452,
     "metadata": {},
     "output_type": "execute_result"
    }
   ],
   "source": [
    "cleaned_updated=cleaned[['price','size_sqm','rooms','district']]\n",
    "cleaned_updated"
   ]
  },
  {
   "cell_type": "markdown",
   "id": "b16714e7",
   "metadata": {},
   "source": [
    "### dependant variable:\n",
    " - price\n",
    "### predictors: \n",
    "\n",
    "- size_sqm\n",
    "- rooms\n",
    "- district"
   ]
  },
  {
   "cell_type": "code",
   "execution_count": 453,
   "id": "f1208deb",
   "metadata": {},
   "outputs": [
    {
     "data": {
      "text/html": [
       "<div>\n",
       "<style scoped>\n",
       "    .dataframe tbody tr th:only-of-type {\n",
       "        vertical-align: middle;\n",
       "    }\n",
       "\n",
       "    .dataframe tbody tr th {\n",
       "        vertical-align: top;\n",
       "    }\n",
       "\n",
       "    .dataframe thead th {\n",
       "        text-align: right;\n",
       "    }\n",
       "</style>\n",
       "<table border=\"1\" class=\"dataframe\">\n",
       "  <thead>\n",
       "    <tr style=\"text-align: right;\">\n",
       "      <th></th>\n",
       "      <th>price</th>\n",
       "      <th>size_sqm</th>\n",
       "      <th>rooms</th>\n",
       "    </tr>\n",
       "  </thead>\n",
       "  <tbody>\n",
       "    <tr>\n",
       "      <th>price</th>\n",
       "      <td>1.000000</td>\n",
       "      <td>0.846518</td>\n",
       "      <td>0.550897</td>\n",
       "    </tr>\n",
       "    <tr>\n",
       "      <th>size_sqm</th>\n",
       "      <td>0.846518</td>\n",
       "      <td>1.000000</td>\n",
       "      <td>0.773971</td>\n",
       "    </tr>\n",
       "    <tr>\n",
       "      <th>rooms</th>\n",
       "      <td>0.550897</td>\n",
       "      <td>0.773971</td>\n",
       "      <td>1.000000</td>\n",
       "    </tr>\n",
       "  </tbody>\n",
       "</table>\n",
       "</div>"
      ],
      "text/plain": [
       "             price  size_sqm     rooms\n",
       "price     1.000000  0.846518  0.550897\n",
       "size_sqm  0.846518  1.000000  0.773971\n",
       "rooms     0.550897  0.773971  1.000000"
      ]
     },
     "execution_count": 453,
     "metadata": {},
     "output_type": "execute_result"
    }
   ],
   "source": [
    "correlations=cleaned_updated.corr()\n",
    "correlations"
   ]
  },
  {
   "cell_type": "code",
   "execution_count": 454,
   "id": "2d67d3b3",
   "metadata": {},
   "outputs": [
    {
     "data": {
      "image/png": "[encoded data removed]",
      "text/plain": [
       "<Figure size 1800x800 with 2 Axes>"
      ]
     },
     "metadata": {
      "needs_background": "light"
     },
     "output_type": "display_data"
    }
   ],
   "source": [
    "plt.figure(figsize=(9,4), dpi=200)\n",
    "sns.heatmap(correlations, cmap=\"YlGnBu\", annot=True)\n",
    "plt.title('correlation matrix')\n",
    "plt.show()"
   ]
  },
  {
   "cell_type": "code",
   "execution_count": 455,
   "id": "ac84b5c7",
   "metadata": {},
   "outputs": [
    {
     "data": {
      "text/html": [
       "<div>\n",
       "<style scoped>\n",
       "    .dataframe tbody tr th:only-of-type {\n",
       "        vertical-align: middle;\n",
       "    }\n",
       "\n",
       "    .dataframe tbody tr th {\n",
       "        vertical-align: top;\n",
       "    }\n",
       "\n",
       "    .dataframe thead th {\n",
       "        text-align: right;\n",
       "    }\n",
       "</style>\n",
       "<table border=\"1\" class=\"dataframe\">\n",
       "  <thead>\n",
       "    <tr style=\"text-align: right;\">\n",
       "      <th></th>\n",
       "      <th>price</th>\n",
       "      <th>size_sqm</th>\n",
       "      <th>district</th>\n",
       "    </tr>\n",
       "  </thead>\n",
       "  <tbody>\n",
       "    <tr>\n",
       "      <th>0</th>\n",
       "      <td>396000</td>\n",
       "      <td>29</td>\n",
       "      <td>Praga-Północ</td>\n",
       "    </tr>\n",
       "    <tr>\n",
       "      <th>1</th>\n",
       "      <td>695000</td>\n",
       "      <td>60</td>\n",
       "      <td>Bemowo</td>\n",
       "    </tr>\n",
       "    <tr>\n",
       "      <th>2</th>\n",
       "      <td>828000</td>\n",
       "      <td>55</td>\n",
       "      <td>Wilanów</td>\n",
       "    </tr>\n",
       "    <tr>\n",
       "      <th>3</th>\n",
       "      <td>730000</td>\n",
       "      <td>55</td>\n",
       "      <td>Białołęka</td>\n",
       "    </tr>\n",
       "    <tr>\n",
       "      <th>4</th>\n",
       "      <td>750000</td>\n",
       "      <td>39</td>\n",
       "      <td>Śródmieście</td>\n",
       "    </tr>\n",
       "  </tbody>\n",
       "</table>\n",
       "</div>"
      ],
      "text/plain": [
       "    price  size_sqm      district\n",
       "0  396000        29  Praga-Północ\n",
       "1  695000        60        Bemowo\n",
       "2  828000        55       Wilanów\n",
       "3  730000        55     Białołęka\n",
       "4  750000        39   Śródmieście"
      ]
     },
     "execution_count": 455,
     "metadata": {},
     "output_type": "execute_result"
    }
   ],
   "source": [
    "cleaned_updated=cleaned_updated.copy()\n",
    "cleaned_updated.drop('rooms',axis=1,inplace=True)\n",
    "cleaned_updated.head()"
   ]
  },
  {
   "cell_type": "markdown",
   "id": "7f51d16c",
   "metadata": {},
   "source": [
    "### There is a multicollinearity problem between rooms and size_sqm. The correlation coefficient is high with a value of 0.77. Building the model with these two predictors would disturb the regression coefficients. It is better to choose one of these variables to have well performing model. Size_sqm is a better predictor than rooms because it explains the dependent variable better (the correlation coefficient is 0.85 instead of 0.55)."
   ]
  },
  {
   "cell_type": "code",
   "execution_count": 456,
   "id": "2d7a9944",
   "metadata": {},
   "outputs": [
    {
     "data": {
      "text/html": [
       "<div>\n",
       "<style scoped>\n",
       "    .dataframe tbody tr th:only-of-type {\n",
       "        vertical-align: middle;\n",
       "    }\n",
       "\n",
       "    .dataframe tbody tr th {\n",
       "        vertical-align: top;\n",
       "    }\n",
       "\n",
       "    .dataframe thead th {\n",
       "        text-align: right;\n",
       "    }\n",
       "</style>\n",
       "<table border=\"1\" class=\"dataframe\">\n",
       "  <thead>\n",
       "    <tr style=\"text-align: right;\">\n",
       "      <th></th>\n",
       "      <th>district_Białołęka</th>\n",
       "      <th>district_Bielany</th>\n",
       "      <th>district_Mokotów</th>\n",
       "      <th>district_Ochota</th>\n",
       "      <th>district_Praga-Południe</th>\n",
       "      <th>district_Praga-Północ</th>\n",
       "      <th>district_Rembertów</th>\n",
       "      <th>district_Targówek</th>\n",
       "      <th>district_Ursus</th>\n",
       "      <th>district_Ursynów</th>\n",
       "      <th>district_Wawer</th>\n",
       "      <th>district_Wesoła</th>\n",
       "      <th>district_Wilanów</th>\n",
       "      <th>district_Wola</th>\n",
       "      <th>district_Włochy</th>\n",
       "      <th>district_Śródmieście</th>\n",
       "      <th>district_Żoliborz</th>\n",
       "    </tr>\n",
       "  </thead>\n",
       "  <tbody>\n",
       "    <tr>\n",
       "      <th>0</th>\n",
       "      <td>0</td>\n",
       "      <td>0</td>\n",
       "      <td>0</td>\n",
       "      <td>0</td>\n",
       "      <td>0</td>\n",
       "      <td>1</td>\n",
       "      <td>0</td>\n",
       "      <td>0</td>\n",
       "      <td>0</td>\n",
       "      <td>0</td>\n",
       "      <td>0</td>\n",
       "      <td>0</td>\n",
       "      <td>0</td>\n",
       "      <td>0</td>\n",
       "      <td>0</td>\n",
       "      <td>0</td>\n",
       "      <td>0</td>\n",
       "    </tr>\n",
       "    <tr>\n",
       "      <th>1</th>\n",
       "      <td>0</td>\n",
       "      <td>0</td>\n",
       "      <td>0</td>\n",
       "      <td>0</td>\n",
       "      <td>0</td>\n",
       "      <td>0</td>\n",
       "      <td>0</td>\n",
       "      <td>0</td>\n",
       "      <td>0</td>\n",
       "      <td>0</td>\n",
       "      <td>0</td>\n",
       "      <td>0</td>\n",
       "      <td>0</td>\n",
       "      <td>0</td>\n",
       "      <td>0</td>\n",
       "      <td>0</td>\n",
       "      <td>0</td>\n",
       "    </tr>\n",
       "    <tr>\n",
       "      <th>2</th>\n",
       "      <td>0</td>\n",
       "      <td>0</td>\n",
       "      <td>0</td>\n",
       "      <td>0</td>\n",
       "      <td>0</td>\n",
       "      <td>0</td>\n",
       "      <td>0</td>\n",
       "      <td>0</td>\n",
       "      <td>0</td>\n",
       "      <td>0</td>\n",
       "      <td>0</td>\n",
       "      <td>0</td>\n",
       "      <td>1</td>\n",
       "      <td>0</td>\n",
       "      <td>0</td>\n",
       "      <td>0</td>\n",
       "      <td>0</td>\n",
       "    </tr>\n",
       "    <tr>\n",
       "      <th>3</th>\n",
       "      <td>1</td>\n",
       "      <td>0</td>\n",
       "      <td>0</td>\n",
       "      <td>0</td>\n",
       "      <td>0</td>\n",
       "      <td>0</td>\n",
       "      <td>0</td>\n",
       "      <td>0</td>\n",
       "      <td>0</td>\n",
       "      <td>0</td>\n",
       "      <td>0</td>\n",
       "      <td>0</td>\n",
       "      <td>0</td>\n",
       "      <td>0</td>\n",
       "      <td>0</td>\n",
       "      <td>0</td>\n",
       "      <td>0</td>\n",
       "    </tr>\n",
       "    <tr>\n",
       "      <th>4</th>\n",
       "      <td>0</td>\n",
       "      <td>0</td>\n",
       "      <td>0</td>\n",
       "      <td>0</td>\n",
       "      <td>0</td>\n",
       "      <td>0</td>\n",
       "      <td>0</td>\n",
       "      <td>0</td>\n",
       "      <td>0</td>\n",
       "      <td>0</td>\n",
       "      <td>0</td>\n",
       "      <td>0</td>\n",
       "      <td>0</td>\n",
       "      <td>0</td>\n",
       "      <td>0</td>\n",
       "      <td>1</td>\n",
       "      <td>0</td>\n",
       "    </tr>\n",
       "    <tr>\n",
       "      <th>...</th>\n",
       "      <td>...</td>\n",
       "      <td>...</td>\n",
       "      <td>...</td>\n",
       "      <td>...</td>\n",
       "      <td>...</td>\n",
       "      <td>...</td>\n",
       "      <td>...</td>\n",
       "      <td>...</td>\n",
       "      <td>...</td>\n",
       "      <td>...</td>\n",
       "      <td>...</td>\n",
       "      <td>...</td>\n",
       "      <td>...</td>\n",
       "      <td>...</td>\n",
       "      <td>...</td>\n",
       "      <td>...</td>\n",
       "      <td>...</td>\n",
       "    </tr>\n",
       "    <tr>\n",
       "      <th>11134</th>\n",
       "      <td>0</td>\n",
       "      <td>0</td>\n",
       "      <td>1</td>\n",
       "      <td>0</td>\n",
       "      <td>0</td>\n",
       "      <td>0</td>\n",
       "      <td>0</td>\n",
       "      <td>0</td>\n",
       "      <td>0</td>\n",
       "      <td>0</td>\n",
       "      <td>0</td>\n",
       "      <td>0</td>\n",
       "      <td>0</td>\n",
       "      <td>0</td>\n",
       "      <td>0</td>\n",
       "      <td>0</td>\n",
       "      <td>0</td>\n",
       "    </tr>\n",
       "    <tr>\n",
       "      <th>11135</th>\n",
       "      <td>0</td>\n",
       "      <td>0</td>\n",
       "      <td>0</td>\n",
       "      <td>0</td>\n",
       "      <td>0</td>\n",
       "      <td>0</td>\n",
       "      <td>0</td>\n",
       "      <td>0</td>\n",
       "      <td>0</td>\n",
       "      <td>0</td>\n",
       "      <td>0</td>\n",
       "      <td>0</td>\n",
       "      <td>0</td>\n",
       "      <td>0</td>\n",
       "      <td>0</td>\n",
       "      <td>1</td>\n",
       "      <td>0</td>\n",
       "    </tr>\n",
       "    <tr>\n",
       "      <th>11136</th>\n",
       "      <td>0</td>\n",
       "      <td>0</td>\n",
       "      <td>0</td>\n",
       "      <td>0</td>\n",
       "      <td>0</td>\n",
       "      <td>0</td>\n",
       "      <td>0</td>\n",
       "      <td>1</td>\n",
       "      <td>0</td>\n",
       "      <td>0</td>\n",
       "      <td>0</td>\n",
       "      <td>0</td>\n",
       "      <td>0</td>\n",
       "      <td>0</td>\n",
       "      <td>0</td>\n",
       "      <td>0</td>\n",
       "      <td>0</td>\n",
       "    </tr>\n",
       "    <tr>\n",
       "      <th>11137</th>\n",
       "      <td>0</td>\n",
       "      <td>0</td>\n",
       "      <td>1</td>\n",
       "      <td>0</td>\n",
       "      <td>0</td>\n",
       "      <td>0</td>\n",
       "      <td>0</td>\n",
       "      <td>0</td>\n",
       "      <td>0</td>\n",
       "      <td>0</td>\n",
       "      <td>0</td>\n",
       "      <td>0</td>\n",
       "      <td>0</td>\n",
       "      <td>0</td>\n",
       "      <td>0</td>\n",
       "      <td>0</td>\n",
       "      <td>0</td>\n",
       "    </tr>\n",
       "    <tr>\n",
       "      <th>11138</th>\n",
       "      <td>0</td>\n",
       "      <td>0</td>\n",
       "      <td>1</td>\n",
       "      <td>0</td>\n",
       "      <td>0</td>\n",
       "      <td>0</td>\n",
       "      <td>0</td>\n",
       "      <td>0</td>\n",
       "      <td>0</td>\n",
       "      <td>0</td>\n",
       "      <td>0</td>\n",
       "      <td>0</td>\n",
       "      <td>0</td>\n",
       "      <td>0</td>\n",
       "      <td>0</td>\n",
       "      <td>0</td>\n",
       "      <td>0</td>\n",
       "    </tr>\n",
       "  </tbody>\n",
       "</table>\n",
       "<p>9087 rows × 17 columns</p>\n",
       "</div>"
      ],
      "text/plain": [
       "       district_Białołęka  district_Bielany  district_Mokotów  \\\n",
       "0                       0                 0                 0   \n",
       "1                       0                 0                 0   \n",
       "2                       0                 0                 0   \n",
       "3                       1                 0                 0   \n",
       "4                       0                 0                 0   \n",
       "...                   ...               ...               ...   \n",
       "11134                   0                 0                 1   \n",
       "11135                   0                 0                 0   \n",
       "11136                   0                 0                 0   \n",
       "11137                   0                 0                 1   \n",
       "11138                   0                 0                 1   \n",
       "\n",
       "       district_Ochota  district_Praga-Południe  district_Praga-Północ  \\\n",
       "0                    0                        0                      1   \n",
       "1                    0                        0                      0   \n",
       "2                    0                        0                      0   \n",
       "3                    0                        0                      0   \n",
       "4                    0                        0                      0   \n",
       "...                ...                      ...                    ...   \n",
       "11134                0                        0                      0   \n",
       "11135                0                        0                      0   \n",
       "11136                0                        0                      0   \n",
       "11137                0                        0                      0   \n",
       "11138                0                        0                      0   \n",
       "\n",
       "       district_Rembertów  district_Targówek  district_Ursus  \\\n",
       "0                       0                  0               0   \n",
       "1                       0                  0               0   \n",
       "2                       0                  0               0   \n",
       "3                       0                  0               0   \n",
       "4                       0                  0               0   \n",
       "...                   ...                ...             ...   \n",
       "11134                   0                  0               0   \n",
       "11135                   0                  0               0   \n",
       "11136                   0                  1               0   \n",
       "11137                   0                  0               0   \n",
       "11138                   0                  0               0   \n",
       "\n",
       "       district_Ursynów  district_Wawer  district_Wesoła  district_Wilanów  \\\n",
       "0                     0               0                0                 0   \n",
       "1                     0               0                0                 0   \n",
       "2                     0               0                0                 1   \n",
       "3                     0               0                0                 0   \n",
       "4                     0               0                0                 0   \n",
       "...                 ...             ...              ...               ...   \n",
       "11134                 0               0                0                 0   \n",
       "11135                 0               0                0                 0   \n",
       "11136                 0               0                0                 0   \n",
       "11137                 0               0                0                 0   \n",
       "11138                 0               0                0                 0   \n",
       "\n",
       "       district_Wola  district_Włochy  district_Śródmieście  district_Żoliborz  \n",
       "0                  0                0                     0                  0  \n",
       "1                  0                0                     0                  0  \n",
       "2                  0                0                     0                  0  \n",
       "3                  0                0                     0                  0  \n",
       "4                  0                0                     1                  0  \n",
       "...              ...              ...                   ...                ...  \n",
       "11134              0                0                     0                  0  \n",
       "11135              0                0                     1                  0  \n",
       "11136              0                0                     0                  0  \n",
       "11137              0                0                     0                  0  \n",
       "11138              0                0                     0                  0  \n",
       "\n",
       "[9087 rows x 17 columns]"
      ]
     },
     "execution_count": 456,
     "metadata": {},
     "output_type": "execute_result"
    }
   ],
   "source": [
    "dummies=pd.get_dummies(cleaned_updated['district'], prefix='district', drop_first=True)\n",
    "dummies"
   ]
  },
  {
   "cell_type": "code",
   "execution_count": 457,
   "id": "eb644ec1",
   "metadata": {},
   "outputs": [
    {
     "data": {
      "text/html": [
       "<div>\n",
       "<style scoped>\n",
       "    .dataframe tbody tr th:only-of-type {\n",
       "        vertical-align: middle;\n",
       "    }\n",
       "\n",
       "    .dataframe tbody tr th {\n",
       "        vertical-align: top;\n",
       "    }\n",
       "\n",
       "    .dataframe thead th {\n",
       "        text-align: right;\n",
       "    }\n",
       "</style>\n",
       "<table border=\"1\" class=\"dataframe\">\n",
       "  <thead>\n",
       "    <tr style=\"text-align: right;\">\n",
       "      <th></th>\n",
       "      <th>price</th>\n",
       "      <th>size_sqm</th>\n",
       "      <th>district_Białołęka</th>\n",
       "      <th>district_Bielany</th>\n",
       "      <th>district_Mokotów</th>\n",
       "      <th>district_Ochota</th>\n",
       "      <th>district_Praga-Południe</th>\n",
       "      <th>district_Praga-Północ</th>\n",
       "      <th>district_Rembertów</th>\n",
       "      <th>district_Targówek</th>\n",
       "      <th>district_Ursus</th>\n",
       "      <th>district_Ursynów</th>\n",
       "      <th>district_Wawer</th>\n",
       "      <th>district_Wesoła</th>\n",
       "      <th>district_Wilanów</th>\n",
       "      <th>district_Wola</th>\n",
       "      <th>district_Włochy</th>\n",
       "      <th>district_Śródmieście</th>\n",
       "      <th>district_Żoliborz</th>\n",
       "    </tr>\n",
       "  </thead>\n",
       "  <tbody>\n",
       "    <tr>\n",
       "      <th>0</th>\n",
       "      <td>396000</td>\n",
       "      <td>29</td>\n",
       "      <td>0</td>\n",
       "      <td>0</td>\n",
       "      <td>0</td>\n",
       "      <td>0</td>\n",
       "      <td>0</td>\n",
       "      <td>1</td>\n",
       "      <td>0</td>\n",
       "      <td>0</td>\n",
       "      <td>0</td>\n",
       "      <td>0</td>\n",
       "      <td>0</td>\n",
       "      <td>0</td>\n",
       "      <td>0</td>\n",
       "      <td>0</td>\n",
       "      <td>0</td>\n",
       "      <td>0</td>\n",
       "      <td>0</td>\n",
       "    </tr>\n",
       "    <tr>\n",
       "      <th>1</th>\n",
       "      <td>695000</td>\n",
       "      <td>60</td>\n",
       "      <td>0</td>\n",
       "      <td>0</td>\n",
       "      <td>0</td>\n",
       "      <td>0</td>\n",
       "      <td>0</td>\n",
       "      <td>0</td>\n",
       "      <td>0</td>\n",
       "      <td>0</td>\n",
       "      <td>0</td>\n",
       "      <td>0</td>\n",
       "      <td>0</td>\n",
       "      <td>0</td>\n",
       "      <td>0</td>\n",
       "      <td>0</td>\n",
       "      <td>0</td>\n",
       "      <td>0</td>\n",
       "      <td>0</td>\n",
       "    </tr>\n",
       "    <tr>\n",
       "      <th>2</th>\n",
       "      <td>828000</td>\n",
       "      <td>55</td>\n",
       "      <td>0</td>\n",
       "      <td>0</td>\n",
       "      <td>0</td>\n",
       "      <td>0</td>\n",
       "      <td>0</td>\n",
       "      <td>0</td>\n",
       "      <td>0</td>\n",
       "      <td>0</td>\n",
       "      <td>0</td>\n",
       "      <td>0</td>\n",
       "      <td>0</td>\n",
       "      <td>0</td>\n",
       "      <td>1</td>\n",
       "      <td>0</td>\n",
       "      <td>0</td>\n",
       "      <td>0</td>\n",
       "      <td>0</td>\n",
       "    </tr>\n",
       "    <tr>\n",
       "      <th>3</th>\n",
       "      <td>730000</td>\n",
       "      <td>55</td>\n",
       "      <td>1</td>\n",
       "      <td>0</td>\n",
       "      <td>0</td>\n",
       "      <td>0</td>\n",
       "      <td>0</td>\n",
       "      <td>0</td>\n",
       "      <td>0</td>\n",
       "      <td>0</td>\n",
       "      <td>0</td>\n",
       "      <td>0</td>\n",
       "      <td>0</td>\n",
       "      <td>0</td>\n",
       "      <td>0</td>\n",
       "      <td>0</td>\n",
       "      <td>0</td>\n",
       "      <td>0</td>\n",
       "      <td>0</td>\n",
       "    </tr>\n",
       "    <tr>\n",
       "      <th>4</th>\n",
       "      <td>750000</td>\n",
       "      <td>39</td>\n",
       "      <td>0</td>\n",
       "      <td>0</td>\n",
       "      <td>0</td>\n",
       "      <td>0</td>\n",
       "      <td>0</td>\n",
       "      <td>0</td>\n",
       "      <td>0</td>\n",
       "      <td>0</td>\n",
       "      <td>0</td>\n",
       "      <td>0</td>\n",
       "      <td>0</td>\n",
       "      <td>0</td>\n",
       "      <td>0</td>\n",
       "      <td>0</td>\n",
       "      <td>0</td>\n",
       "      <td>1</td>\n",
       "      <td>0</td>\n",
       "    </tr>\n",
       "    <tr>\n",
       "      <th>...</th>\n",
       "      <td>...</td>\n",
       "      <td>...</td>\n",
       "      <td>...</td>\n",
       "      <td>...</td>\n",
       "      <td>...</td>\n",
       "      <td>...</td>\n",
       "      <td>...</td>\n",
       "      <td>...</td>\n",
       "      <td>...</td>\n",
       "      <td>...</td>\n",
       "      <td>...</td>\n",
       "      <td>...</td>\n",
       "      <td>...</td>\n",
       "      <td>...</td>\n",
       "      <td>...</td>\n",
       "      <td>...</td>\n",
       "      <td>...</td>\n",
       "      <td>...</td>\n",
       "      <td>...</td>\n",
       "    </tr>\n",
       "    <tr>\n",
       "      <th>11134</th>\n",
       "      <td>2855600</td>\n",
       "      <td>110</td>\n",
       "      <td>0</td>\n",
       "      <td>0</td>\n",
       "      <td>1</td>\n",
       "      <td>0</td>\n",
       "      <td>0</td>\n",
       "      <td>0</td>\n",
       "      <td>0</td>\n",
       "      <td>0</td>\n",
       "      <td>0</td>\n",
       "      <td>0</td>\n",
       "      <td>0</td>\n",
       "      <td>0</td>\n",
       "      <td>0</td>\n",
       "      <td>0</td>\n",
       "      <td>0</td>\n",
       "      <td>0</td>\n",
       "      <td>0</td>\n",
       "    </tr>\n",
       "    <tr>\n",
       "      <th>11135</th>\n",
       "      <td>9196000</td>\n",
       "      <td>367</td>\n",
       "      <td>0</td>\n",
       "      <td>0</td>\n",
       "      <td>0</td>\n",
       "      <td>0</td>\n",
       "      <td>0</td>\n",
       "      <td>0</td>\n",
       "      <td>0</td>\n",
       "      <td>0</td>\n",
       "      <td>0</td>\n",
       "      <td>0</td>\n",
       "      <td>0</td>\n",
       "      <td>0</td>\n",
       "      <td>0</td>\n",
       "      <td>0</td>\n",
       "      <td>0</td>\n",
       "      <td>1</td>\n",
       "      <td>0</td>\n",
       "    </tr>\n",
       "    <tr>\n",
       "      <th>11136</th>\n",
       "      <td>1016400</td>\n",
       "      <td>73</td>\n",
       "      <td>0</td>\n",
       "      <td>0</td>\n",
       "      <td>0</td>\n",
       "      <td>0</td>\n",
       "      <td>0</td>\n",
       "      <td>0</td>\n",
       "      <td>0</td>\n",
       "      <td>1</td>\n",
       "      <td>0</td>\n",
       "      <td>0</td>\n",
       "      <td>0</td>\n",
       "      <td>0</td>\n",
       "      <td>0</td>\n",
       "      <td>0</td>\n",
       "      <td>0</td>\n",
       "      <td>0</td>\n",
       "      <td>0</td>\n",
       "    </tr>\n",
       "    <tr>\n",
       "      <th>11137</th>\n",
       "      <td>968000</td>\n",
       "      <td>73</td>\n",
       "      <td>0</td>\n",
       "      <td>0</td>\n",
       "      <td>1</td>\n",
       "      <td>0</td>\n",
       "      <td>0</td>\n",
       "      <td>0</td>\n",
       "      <td>0</td>\n",
       "      <td>0</td>\n",
       "      <td>0</td>\n",
       "      <td>0</td>\n",
       "      <td>0</td>\n",
       "      <td>0</td>\n",
       "      <td>0</td>\n",
       "      <td>0</td>\n",
       "      <td>0</td>\n",
       "      <td>0</td>\n",
       "      <td>0</td>\n",
       "    </tr>\n",
       "    <tr>\n",
       "      <th>11138</th>\n",
       "      <td>968000</td>\n",
       "      <td>65</td>\n",
       "      <td>0</td>\n",
       "      <td>0</td>\n",
       "      <td>1</td>\n",
       "      <td>0</td>\n",
       "      <td>0</td>\n",
       "      <td>0</td>\n",
       "      <td>0</td>\n",
       "      <td>0</td>\n",
       "      <td>0</td>\n",
       "      <td>0</td>\n",
       "      <td>0</td>\n",
       "      <td>0</td>\n",
       "      <td>0</td>\n",
       "      <td>0</td>\n",
       "      <td>0</td>\n",
       "      <td>0</td>\n",
       "      <td>0</td>\n",
       "    </tr>\n",
       "  </tbody>\n",
       "</table>\n",
       "<p>9087 rows × 19 columns</p>\n",
       "</div>"
      ],
      "text/plain": [
       "         price  size_sqm  district_Białołęka  district_Bielany  \\\n",
       "0       396000        29                   0                 0   \n",
       "1       695000        60                   0                 0   \n",
       "2       828000        55                   0                 0   \n",
       "3       730000        55                   1                 0   \n",
       "4       750000        39                   0                 0   \n",
       "...        ...       ...                 ...               ...   \n",
       "11134  2855600       110                   0                 0   \n",
       "11135  9196000       367                   0                 0   \n",
       "11136  1016400        73                   0                 0   \n",
       "11137   968000        73                   0                 0   \n",
       "11138   968000        65                   0                 0   \n",
       "\n",
       "       district_Mokotów  district_Ochota  district_Praga-Południe  \\\n",
       "0                     0                0                        0   \n",
       "1                     0                0                        0   \n",
       "2                     0                0                        0   \n",
       "3                     0                0                        0   \n",
       "4                     0                0                        0   \n",
       "...                 ...              ...                      ...   \n",
       "11134                 1                0                        0   \n",
       "11135                 0                0                        0   \n",
       "11136                 0                0                        0   \n",
       "11137                 1                0                        0   \n",
       "11138                 1                0                        0   \n",
       "\n",
       "       district_Praga-Północ  district_Rembertów  district_Targówek  \\\n",
       "0                          1                   0                  0   \n",
       "1                          0                   0                  0   \n",
       "2                          0                   0                  0   \n",
       "3                          0                   0                  0   \n",
       "4                          0                   0                  0   \n",
       "...                      ...                 ...                ...   \n",
       "11134                      0                   0                  0   \n",
       "11135                      0                   0                  0   \n",
       "11136                      0                   0                  1   \n",
       "11137                      0                   0                  0   \n",
       "11138                      0                   0                  0   \n",
       "\n",
       "       district_Ursus  district_Ursynów  district_Wawer  district_Wesoła  \\\n",
       "0                   0                 0               0                0   \n",
       "1                   0                 0               0                0   \n",
       "2                   0                 0               0                0   \n",
       "3                   0                 0               0                0   \n",
       "4                   0                 0               0                0   \n",
       "...               ...               ...             ...              ...   \n",
       "11134               0                 0               0                0   \n",
       "11135               0                 0               0                0   \n",
       "11136               0                 0               0                0   \n",
       "11137               0                 0               0                0   \n",
       "11138               0                 0               0                0   \n",
       "\n",
       "       district_Wilanów  district_Wola  district_Włochy  district_Śródmieście  \\\n",
       "0                     0              0                0                     0   \n",
       "1                     0              0                0                     0   \n",
       "2                     1              0                0                     0   \n",
       "3                     0              0                0                     0   \n",
       "4                     0              0                0                     1   \n",
       "...                 ...            ...              ...                   ...   \n",
       "11134                 0              0                0                     0   \n",
       "11135                 0              0                0                     1   \n",
       "11136                 0              0                0                     0   \n",
       "11137                 0              0                0                     0   \n",
       "11138                 0              0                0                     0   \n",
       "\n",
       "       district_Żoliborz  \n",
       "0                      0  \n",
       "1                      0  \n",
       "2                      0  \n",
       "3                      0  \n",
       "4                      0  \n",
       "...                  ...  \n",
       "11134                  0  \n",
       "11135                  0  \n",
       "11136                  0  \n",
       "11137                  0  \n",
       "11138                  0  \n",
       "\n",
       "[9087 rows x 19 columns]"
      ]
     },
     "execution_count": 457,
     "metadata": {},
     "output_type": "execute_result"
    }
   ],
   "source": [
    "merged= pd.concat([cleaned_updated, dummies], axis='columns')\n",
    "merged=merged.copy()\n",
    "merged.drop('district',axis=1, inplace=True)\n",
    "merged"
   ]
  },
  {
   "cell_type": "code",
   "execution_count": 458,
   "id": "9c4e6488",
   "metadata": {},
   "outputs": [],
   "source": [
    "X=merged.drop('price', axis=1)\n",
    "y=merged['price']"
   ]
  },
  {
   "cell_type": "code",
   "execution_count": 459,
   "id": "bd831421",
   "metadata": {},
   "outputs": [],
   "source": [
    "from sklearn import linear_model\n",
    "from sklearn.model_selection import train_test_split"
   ]
  },
  {
   "cell_type": "code",
   "execution_count": 460,
   "id": "aac4220b",
   "metadata": {},
   "outputs": [],
   "source": [
    "X_train, X_test, y_train, y_test = train_test_split(X, y, test_size=0.2, random_state=2)"
   ]
  },
  {
   "cell_type": "code",
   "execution_count": 461,
   "id": "8f907c87",
   "metadata": {},
   "outputs": [
    {
     "data": {
      "text/html": [
       "<div>\n",
       "<style scoped>\n",
       "    .dataframe tbody tr th:only-of-type {\n",
       "        vertical-align: middle;\n",
       "    }\n",
       "\n",
       "    .dataframe tbody tr th {\n",
       "        vertical-align: top;\n",
       "    }\n",
       "\n",
       "    .dataframe thead th {\n",
       "        text-align: right;\n",
       "    }\n",
       "</style>\n",
       "<table border=\"1\" class=\"dataframe\">\n",
       "  <thead>\n",
       "    <tr style=\"text-align: right;\">\n",
       "      <th></th>\n",
       "      <th>size_sqm</th>\n",
       "      <th>district_Białołęka</th>\n",
       "      <th>district_Bielany</th>\n",
       "      <th>district_Mokotów</th>\n",
       "      <th>district_Ochota</th>\n",
       "      <th>district_Praga-Południe</th>\n",
       "      <th>district_Praga-Północ</th>\n",
       "      <th>district_Rembertów</th>\n",
       "      <th>district_Targówek</th>\n",
       "      <th>district_Ursus</th>\n",
       "      <th>district_Ursynów</th>\n",
       "      <th>district_Wawer</th>\n",
       "      <th>district_Wesoła</th>\n",
       "      <th>district_Wilanów</th>\n",
       "      <th>district_Wola</th>\n",
       "      <th>district_Włochy</th>\n",
       "      <th>district_Śródmieście</th>\n",
       "      <th>district_Żoliborz</th>\n",
       "    </tr>\n",
       "  </thead>\n",
       "  <tbody>\n",
       "    <tr>\n",
       "      <th>1535</th>\n",
       "      <td>44</td>\n",
       "      <td>0</td>\n",
       "      <td>0</td>\n",
       "      <td>0</td>\n",
       "      <td>0</td>\n",
       "      <td>0</td>\n",
       "      <td>0</td>\n",
       "      <td>0</td>\n",
       "      <td>0</td>\n",
       "      <td>0</td>\n",
       "      <td>0</td>\n",
       "      <td>0</td>\n",
       "      <td>0</td>\n",
       "      <td>0</td>\n",
       "      <td>0</td>\n",
       "      <td>0</td>\n",
       "      <td>1</td>\n",
       "      <td>0</td>\n",
       "    </tr>\n",
       "    <tr>\n",
       "      <th>5409</th>\n",
       "      <td>107</td>\n",
       "      <td>1</td>\n",
       "      <td>0</td>\n",
       "      <td>0</td>\n",
       "      <td>0</td>\n",
       "      <td>0</td>\n",
       "      <td>0</td>\n",
       "      <td>0</td>\n",
       "      <td>0</td>\n",
       "      <td>0</td>\n",
       "      <td>0</td>\n",
       "      <td>0</td>\n",
       "      <td>0</td>\n",
       "      <td>0</td>\n",
       "      <td>0</td>\n",
       "      <td>0</td>\n",
       "      <td>0</td>\n",
       "      <td>0</td>\n",
       "    </tr>\n",
       "    <tr>\n",
       "      <th>7663</th>\n",
       "      <td>67</td>\n",
       "      <td>0</td>\n",
       "      <td>0</td>\n",
       "      <td>0</td>\n",
       "      <td>0</td>\n",
       "      <td>0</td>\n",
       "      <td>0</td>\n",
       "      <td>0</td>\n",
       "      <td>0</td>\n",
       "      <td>0</td>\n",
       "      <td>0</td>\n",
       "      <td>0</td>\n",
       "      <td>1</td>\n",
       "      <td>0</td>\n",
       "      <td>0</td>\n",
       "      <td>0</td>\n",
       "      <td>0</td>\n",
       "      <td>0</td>\n",
       "    </tr>\n",
       "    <tr>\n",
       "      <th>4264</th>\n",
       "      <td>47</td>\n",
       "      <td>0</td>\n",
       "      <td>0</td>\n",
       "      <td>0</td>\n",
       "      <td>0</td>\n",
       "      <td>0</td>\n",
       "      <td>0</td>\n",
       "      <td>0</td>\n",
       "      <td>0</td>\n",
       "      <td>0</td>\n",
       "      <td>0</td>\n",
       "      <td>0</td>\n",
       "      <td>0</td>\n",
       "      <td>0</td>\n",
       "      <td>0</td>\n",
       "      <td>0</td>\n",
       "      <td>1</td>\n",
       "      <td>0</td>\n",
       "    </tr>\n",
       "    <tr>\n",
       "      <th>2463</th>\n",
       "      <td>60</td>\n",
       "      <td>0</td>\n",
       "      <td>0</td>\n",
       "      <td>0</td>\n",
       "      <td>0</td>\n",
       "      <td>1</td>\n",
       "      <td>0</td>\n",
       "      <td>0</td>\n",
       "      <td>0</td>\n",
       "      <td>0</td>\n",
       "      <td>0</td>\n",
       "      <td>0</td>\n",
       "      <td>0</td>\n",
       "      <td>0</td>\n",
       "      <td>0</td>\n",
       "      <td>0</td>\n",
       "      <td>0</td>\n",
       "      <td>0</td>\n",
       "    </tr>\n",
       "  </tbody>\n",
       "</table>\n",
       "</div>"
      ],
      "text/plain": [
       "      size_sqm  district_Białołęka  district_Bielany  district_Mokotów  \\\n",
       "1535        44                   0                 0                 0   \n",
       "5409       107                   1                 0                 0   \n",
       "7663        67                   0                 0                 0   \n",
       "4264        47                   0                 0                 0   \n",
       "2463        60                   0                 0                 0   \n",
       "\n",
       "      district_Ochota  district_Praga-Południe  district_Praga-Północ  \\\n",
       "1535                0                        0                      0   \n",
       "5409                0                        0                      0   \n",
       "7663                0                        0                      0   \n",
       "4264                0                        0                      0   \n",
       "2463                0                        1                      0   \n",
       "\n",
       "      district_Rembertów  district_Targówek  district_Ursus  district_Ursynów  \\\n",
       "1535                   0                  0               0                 0   \n",
       "5409                   0                  0               0                 0   \n",
       "7663                   0                  0               0                 0   \n",
       "4264                   0                  0               0                 0   \n",
       "2463                   0                  0               0                 0   \n",
       "\n",
       "      district_Wawer  district_Wesoła  district_Wilanów  district_Wola  \\\n",
       "1535               0                0                 0              0   \n",
       "5409               0                0                 0              0   \n",
       "7663               0                1                 0              0   \n",
       "4264               0                0                 0              0   \n",
       "2463               0                0                 0              0   \n",
       "\n",
       "      district_Włochy  district_Śródmieście  district_Żoliborz  \n",
       "1535                0                     1                  0  \n",
       "5409                0                     0                  0  \n",
       "7663                0                     0                  0  \n",
       "4264                0                     1                  0  \n",
       "2463                0                     0                  0  "
      ]
     },
     "execution_count": 461,
     "metadata": {},
     "output_type": "execute_result"
    }
   ],
   "source": [
    "X_train.head()"
   ]
  },
  {
   "cell_type": "code",
   "execution_count": 462,
   "id": "8abdafbe",
   "metadata": {},
   "outputs": [
    {
     "data": {
      "text/plain": [
       "1535    1180000\n",
       "5409     899000\n",
       "7663     599000\n",
       "4264     940000\n",
       "2463     822000\n",
       "Name: price, dtype: int64"
      ]
     },
     "execution_count": 462,
     "metadata": {},
     "output_type": "execute_result"
    }
   ],
   "source": [
    "y_train.head()"
   ]
  },
  {
   "cell_type": "code",
   "execution_count": 463,
   "id": "4343daf8",
   "metadata": {},
   "outputs": [],
   "source": [
    "linear=linear_model.LinearRegression()"
   ]
  },
  {
   "cell_type": "code",
   "execution_count": 464,
   "id": "2b0861bf",
   "metadata": {},
   "outputs": [
    {
     "data": {
      "text/plain": [
       "LinearRegression()"
      ]
     },
     "execution_count": 464,
     "metadata": {},
     "output_type": "execute_result"
    }
   ],
   "source": [
    "linear.fit(X_train,y_train)"
   ]
  },
  {
   "cell_type": "code",
   "execution_count": 465,
   "id": "b4b06575",
   "metadata": {},
   "outputs": [
    {
     "name": "stdout",
     "output_type": "stream",
     "text": [
      "[  21466.10320269  -50980.71783555  100040.71295953  283738.66460867\n",
      "  164036.99389733  102958.65900975  192622.19428093 -107777.99609702\n",
      "   19741.53636428   26496.96065067   24882.43520638 -218319.50717714\n",
      " -192815.78204354  147453.49333736  274806.17865802   94483.78690224\n",
      "  608145.9851741   284907.89266721]\n",
      "-578773.7214696046\n"
     ]
    }
   ],
   "source": [
    "print(linear.coef_)\n",
    "print(linear.intercept_)"
   ]
  },
  {
   "cell_type": "markdown",
   "id": "324b3352",
   "metadata": {},
   "source": [
    "# R²"
   ]
  },
  {
   "cell_type": "code",
   "execution_count": 466,
   "id": "aa698d39",
   "metadata": {},
   "outputs": [
    {
     "name": "stdout",
     "output_type": "stream",
     "text": [
      "0.77\n"
     ]
    }
   ],
   "source": [
    "r_squared=linear.score(X=X_test, y=y_test)\n",
    "print(round(r_squared , 2))"
   ]
  },
  {
   "cell_type": "code",
   "execution_count": 467,
   "id": "ead93136",
   "metadata": {},
   "outputs": [
    {
     "data": {
      "text/plain": [
       "0      82303.62081\n",
       "1    2841431.78326\n",
       "2     606541.27765\n",
       "3     787008.37207\n",
       "4     704939.30772\n",
       "dtype: object"
      ]
     },
     "execution_count": 467,
     "metadata": {},
     "output_type": "execute_result"
    }
   ],
   "source": [
    "y_pred_test=linear.predict(X_test)\n",
    "pd.Series(y_pred_test).apply(\"{0:.5f}\".format).head()"
   ]
  },
  {
   "cell_type": "markdown",
   "id": "959a4b9d",
   "metadata": {},
   "source": [
    "# MAE"
   ]
  },
  {
   "cell_type": "code",
   "execution_count": 468,
   "id": "3e29899a",
   "metadata": {},
   "outputs": [
    {
     "name": "stdout",
     "output_type": "stream",
     "text": [
      "Linear regression MAE (test set): 235292\n"
     ]
    }
   ],
   "source": [
    "from sklearn.metrics import mean_absolute_error\n",
    "\n",
    "linear_mae_test=mean_absolute_error(y_test, y_pred_test)\n",
    "\n",
    "print('Linear regression MAE (test set):',round(linear_mae_test))"
   ]
  },
  {
   "cell_type": "markdown",
   "id": "6803f9d2",
   "metadata": {},
   "source": [
    "# MSE"
   ]
  },
  {
   "cell_type": "code",
   "execution_count": 469,
   "id": "4a0e77ba",
   "metadata": {},
   "outputs": [
    {
     "name": "stdout",
     "output_type": "stream",
     "text": [
      "Linear regression MSE (test set): 183318043622\n"
     ]
    }
   ],
   "source": [
    "from sklearn.metrics import mean_squared_error\n",
    "\n",
    "linear_mse_test=mean_squared_error(y_test, y_pred_test)\n",
    "\n",
    "print('Linear regression MSE (test set):',round(linear_mse_test))"
   ]
  },
  {
   "cell_type": "markdown",
   "id": "4cfad716",
   "metadata": {},
   "source": [
    "# CONCLUSIONS"
   ]
  },
  {
   "cell_type": "markdown",
   "id": "e62296fc",
   "metadata": {},
   "source": [
    "Otodom is one of the most popular property sales websites in Poland. My aim was to explore all the flat listings on the secondary market in Warsaw and build a linear regression model to predict flat prices. The work was based on properties that were available for purchase in September 2022. After pre-processing and cleaning the data, I made statistics for the whole city and grouped ones for each district. The total value of flats listed for sale in September reached 9087, so in my opinion the statistics are realistic due to the large number of listings. The median price of all flats is 13,407 PLN / m². The minimum price of a flat is 8,042 PLN / m², while the most expensive flat costs 44,353 PLN / m². The median area of a flat expressed in square metres is 54 m². The minimum size of a flat is 14 m² while the maximum is 488 m². Two- and three-room flats dominate the market. They represent a total of 76 % of all offers. There are 3568 (39%) two-room flats for sale and 3360 (37%) three-room ones. Majority of flats on the market is located in Mokotów. Below is frequency table for listings in each urban district (descending order): \n",
    "-   1. Mokotów (1393 offers, 15% overall)\n",
    "-   2. Wola (986 offers, 11% overall)\n",
    "-   3. Śródmieście (916 offers, 10 % overall)\n",
    "-   \n",
    "\n",
    "     ...\n",
    "     \n",
    "     \n",
    "     \n",
    "     \n",
    "     \n",
    "     \n",
    "     \n",
    "     \n",
    "\n",
    "-   16. Wawer (109 offers, 1.1% overall)\n",
    "-   17. Wesoła ( 65 offers, 0.7% overall)\n",
    "-   18. Rembertów ( 49 offers, 0.5% overall)\n",
    "\n",
    "The most expensive flats are located in the Śródmieście district, while the cheapest are in Wesoła. Below are the grouped price per m² medians for each district expressed in PLN / m² (all prices are calculated according to the median).\n",
    "-   1. Śródmieście 18 915 PLN / m2\n",
    "-   2. Wilanów 15 818 PLN / m2\n",
    "-   3. Żoliborz 15 777 PLN / m2\n",
    "-   4. Wola 14974 PLN / m2\n",
    "-   5. Mokotów 14699 PLN / m2\n",
    "\n",
    "     ...\n",
    "     \n",
    "     \n",
    "     \n",
    "     \n",
    "     \n",
    "     \n",
    "     \n",
    "     \n",
    "\n",
    "-   16. Białołęka 10 348 PLN / m2\n",
    "-   17. Rembertów 10 184 PLN / m2\n",
    "-   18. Wesoła 9 992 PLN / m2\n",
    "\n",
    "The largest apartments for sale are located in Wilanów and the smallest in Praga-Północ. Below are the grouped area medians expressed in m² for each district:\n",
    "\n",
    "-   1. Wilanów 68 m²\n",
    "-   2. Wesoła 67 m²\n",
    "-   3. Wawer 64 m²\n",
    "\n",
    "     ...\n",
    "     \n",
    "     \n",
    "     \n",
    "     \n",
    "     \n",
    "     \n",
    "     \n",
    "     \n",
    "\n",
    "-   16. Żoliborz 50 m²\n",
    "-   17. Wola  49 m²\n",
    "-   18. Praga-Północ  44.5 m²\n",
    "\n",
    "A linear regression model was built for forecasting purposes. The dependent variable is price. The model contains only two predictors (property size and neighbourhood) due to the multicollinearity problem and the small number of variables in the dataset. The machine learning model was built on the training dataset, which represents 80% of the total data. The R² of the model is 0.77 and it means that 77% of the variability observed in the target variable is explained by the regression model. The values of the error metrics: MAE and MSE are quite large. Mean absolute error of the model is 235292 and mean squared error is 183318043622. It is clear that the price of a property does not only depend on the area and district. There are more very important factors that need to be used to get more accurate predictions, such as the year of construction, the standard of the property and many more."
   ]
  },
  {
   "cell_type": "code",
   "execution_count": null,
   "id": "33ef2bf2",
   "metadata": {},
   "outputs": [],
   "source": []
  }
 ],
 "metadata": {
  "kernelspec": {
   "display_name": "Python 3",
   "language": "python",
   "name": "python3"
  },
  "language_info": {
   "codemirror_mode": {
    "name": "ipython",
    "version": 3
   },
   "file_extension": ".py",
   "mimetype": "text/x-python",
   "name": "python",
   "nbconvert_exporter": "python",
   "pygments_lexer": "ipython3",
   "version": "3.8.8"
  }
 },
 "nbformat": 4,
 "nbformat_minor": 5
}
